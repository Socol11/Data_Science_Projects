{
 "cells": [
  {
   "cell_type": "markdown",
   "id": "b2e03193",
   "metadata": {},
   "source": [
    "# Задача\n",
    "\n",
    "Необходимо предсказать биологический ответ молекул (столбец 'Activity') по их химическому составу (столбцы D1-D1776).\n",
    "\n",
    "Предварительная обработка не требуется, данные уже закодированы и нормализованы.\n",
    "\n",
    "В качестве метрики будем использовать F1-score.\n",
    "\n",
    "Необходимо обучить две модели: логистическую регрессию и случайный лес. Далее нужно сделать подбор гиперпараметров с помощью базовых и продвинутых методов оптимизации. Важно использовать все четыре метода (GridSeachCV, RandomizedSearchCV, Hyperopt, Optuna) хотя бы по разу, максимальное количество итераций не должно превышать 50.\n",
    "\n",
    "## О данных\n",
    "\n",
    "Задача основана на соревновании Kaggle: Predicting a Biological Response (Прогнозирование биологического ответа) - https://www.kaggle.com/c/bioresponse\n",
    "\n",
    "Каждая строка представляет молекулу. \n",
    "\n",
    "Первый столбец Activity содержит экспериментальные данные, описывающие фактический биологический ответ [0, 1]; \n",
    "Остальные столбцы D1-D1776 представляют собой молекулярные дескрипторы — это вычисляемые свойства, которые могут фиксировать некоторые характеристики молекулы, например размер, форму или состав элементов.\n",
    "\n"
   ]
  },
  {
   "cell_type": "code",
   "execution_count": 21,
   "id": "1922266f",
   "metadata": {},
   "outputs": [],
   "source": [
    "import numpy as np #для матричных вычислений\n",
    "import pandas as pd #для анализа и предобработки данных\n",
    "import matplotlib.pyplot as plt #для визуализации\n",
    "import seaborn as sns #для визуализации\n",
    "\n",
    "from sklearn import linear_model #линейные моделиё\n",
    "from sklearn import tree #деревья решений\n",
    "from sklearn import ensemble #ансамбли\n",
    "from sklearn import metrics #метрики\n",
    "from sklearn.model_selection import train_test_split #сплитование выборки\n",
    "\n",
    "from sklearn.model_selection import GridSearchCV\n",
    "from sklearn.model_selection import RandomizedSearchCV\n",
    "from sklearn.model_selection import cross_val_score\n",
    "import hyperopt\n",
    "from hyperopt import hp, fmin, tpe, Trials\n",
    "import optuna\n",
    "\n",
    "%matplotlib inline\n",
    "plt.style.use('seaborn')"
   ]
  },
  {
   "cell_type": "code",
   "execution_count": 2,
   "id": "4221c226",
   "metadata": {},
   "outputs": [
    {
     "data": {
      "text/html": [
       "<div>\n",
       "<style scoped>\n",
       "    .dataframe tbody tr th:only-of-type {\n",
       "        vertical-align: middle;\n",
       "    }\n",
       "\n",
       "    .dataframe tbody tr th {\n",
       "        vertical-align: top;\n",
       "    }\n",
       "\n",
       "    .dataframe thead th {\n",
       "        text-align: right;\n",
       "    }\n",
       "</style>\n",
       "<table border=\"1\" class=\"dataframe\">\n",
       "  <thead>\n",
       "    <tr style=\"text-align: right;\">\n",
       "      <th></th>\n",
       "      <th>Activity</th>\n",
       "      <th>D1</th>\n",
       "      <th>D2</th>\n",
       "      <th>D3</th>\n",
       "      <th>D4</th>\n",
       "      <th>D5</th>\n",
       "      <th>D6</th>\n",
       "      <th>D7</th>\n",
       "      <th>D8</th>\n",
       "      <th>D9</th>\n",
       "      <th>...</th>\n",
       "      <th>D1767</th>\n",
       "      <th>D1768</th>\n",
       "      <th>D1769</th>\n",
       "      <th>D1770</th>\n",
       "      <th>D1771</th>\n",
       "      <th>D1772</th>\n",
       "      <th>D1773</th>\n",
       "      <th>D1774</th>\n",
       "      <th>D1775</th>\n",
       "      <th>D1776</th>\n",
       "    </tr>\n",
       "  </thead>\n",
       "  <tbody>\n",
       "    <tr>\n",
       "      <th>0</th>\n",
       "      <td>1</td>\n",
       "      <td>0.000000</td>\n",
       "      <td>0.497009</td>\n",
       "      <td>0.10</td>\n",
       "      <td>0.0</td>\n",
       "      <td>0.132956</td>\n",
       "      <td>0.678031</td>\n",
       "      <td>0.273166</td>\n",
       "      <td>0.585445</td>\n",
       "      <td>0.743663</td>\n",
       "      <td>...</td>\n",
       "      <td>0</td>\n",
       "      <td>0</td>\n",
       "      <td>0</td>\n",
       "      <td>0</td>\n",
       "      <td>0</td>\n",
       "      <td>0</td>\n",
       "      <td>0</td>\n",
       "      <td>0</td>\n",
       "      <td>0</td>\n",
       "      <td>0</td>\n",
       "    </tr>\n",
       "    <tr>\n",
       "      <th>1</th>\n",
       "      <td>1</td>\n",
       "      <td>0.366667</td>\n",
       "      <td>0.606291</td>\n",
       "      <td>0.05</td>\n",
       "      <td>0.0</td>\n",
       "      <td>0.111209</td>\n",
       "      <td>0.803455</td>\n",
       "      <td>0.106105</td>\n",
       "      <td>0.411754</td>\n",
       "      <td>0.836582</td>\n",
       "      <td>...</td>\n",
       "      <td>1</td>\n",
       "      <td>1</td>\n",
       "      <td>1</td>\n",
       "      <td>1</td>\n",
       "      <td>0</td>\n",
       "      <td>1</td>\n",
       "      <td>0</td>\n",
       "      <td>0</td>\n",
       "      <td>1</td>\n",
       "      <td>0</td>\n",
       "    </tr>\n",
       "    <tr>\n",
       "      <th>2</th>\n",
       "      <td>1</td>\n",
       "      <td>0.033300</td>\n",
       "      <td>0.480124</td>\n",
       "      <td>0.00</td>\n",
       "      <td>0.0</td>\n",
       "      <td>0.209791</td>\n",
       "      <td>0.610350</td>\n",
       "      <td>0.356453</td>\n",
       "      <td>0.517720</td>\n",
       "      <td>0.679051</td>\n",
       "      <td>...</td>\n",
       "      <td>0</td>\n",
       "      <td>0</td>\n",
       "      <td>0</td>\n",
       "      <td>0</td>\n",
       "      <td>0</td>\n",
       "      <td>0</td>\n",
       "      <td>0</td>\n",
       "      <td>0</td>\n",
       "      <td>0</td>\n",
       "      <td>0</td>\n",
       "    </tr>\n",
       "    <tr>\n",
       "      <th>3</th>\n",
       "      <td>1</td>\n",
       "      <td>0.000000</td>\n",
       "      <td>0.538825</td>\n",
       "      <td>0.00</td>\n",
       "      <td>0.5</td>\n",
       "      <td>0.196344</td>\n",
       "      <td>0.724230</td>\n",
       "      <td>0.235606</td>\n",
       "      <td>0.288764</td>\n",
       "      <td>0.805110</td>\n",
       "      <td>...</td>\n",
       "      <td>0</td>\n",
       "      <td>0</td>\n",
       "      <td>0</td>\n",
       "      <td>0</td>\n",
       "      <td>0</td>\n",
       "      <td>0</td>\n",
       "      <td>0</td>\n",
       "      <td>0</td>\n",
       "      <td>0</td>\n",
       "      <td>0</td>\n",
       "    </tr>\n",
       "    <tr>\n",
       "      <th>4</th>\n",
       "      <td>0</td>\n",
       "      <td>0.100000</td>\n",
       "      <td>0.517794</td>\n",
       "      <td>0.00</td>\n",
       "      <td>0.0</td>\n",
       "      <td>0.494734</td>\n",
       "      <td>0.781422</td>\n",
       "      <td>0.154361</td>\n",
       "      <td>0.303809</td>\n",
       "      <td>0.812646</td>\n",
       "      <td>...</td>\n",
       "      <td>0</td>\n",
       "      <td>0</td>\n",
       "      <td>0</td>\n",
       "      <td>0</td>\n",
       "      <td>0</td>\n",
       "      <td>0</td>\n",
       "      <td>0</td>\n",
       "      <td>0</td>\n",
       "      <td>0</td>\n",
       "      <td>0</td>\n",
       "    </tr>\n",
       "  </tbody>\n",
       "</table>\n",
       "<p>5 rows × 1777 columns</p>\n",
       "</div>"
      ],
      "text/plain": [
       "   Activity        D1        D2    D3   D4        D5        D6        D7  \\\n",
       "0         1  0.000000  0.497009  0.10  0.0  0.132956  0.678031  0.273166   \n",
       "1         1  0.366667  0.606291  0.05  0.0  0.111209  0.803455  0.106105   \n",
       "2         1  0.033300  0.480124  0.00  0.0  0.209791  0.610350  0.356453   \n",
       "3         1  0.000000  0.538825  0.00  0.5  0.196344  0.724230  0.235606   \n",
       "4         0  0.100000  0.517794  0.00  0.0  0.494734  0.781422  0.154361   \n",
       "\n",
       "         D8        D9  ...  D1767  D1768  D1769  D1770  D1771  D1772  D1773  \\\n",
       "0  0.585445  0.743663  ...      0      0      0      0      0      0      0   \n",
       "1  0.411754  0.836582  ...      1      1      1      1      0      1      0   \n",
       "2  0.517720  0.679051  ...      0      0      0      0      0      0      0   \n",
       "3  0.288764  0.805110  ...      0      0      0      0      0      0      0   \n",
       "4  0.303809  0.812646  ...      0      0      0      0      0      0      0   \n",
       "\n",
       "   D1774  D1775  D1776  \n",
       "0      0      0      0  \n",
       "1      0      1      0  \n",
       "2      0      0      0  \n",
       "3      0      0      0  \n",
       "4      0      0      0  \n",
       "\n",
       "[5 rows x 1777 columns]"
      ]
     },
     "execution_count": 2,
     "metadata": {},
     "output_type": "execute_result"
    }
   ],
   "source": [
    "data = pd.read_csv('data/train_sem09.csv')\n",
    "data.head()"
   ]
  },
  {
   "cell_type": "code",
   "execution_count": 3,
   "id": "cb9ca045",
   "metadata": {},
   "outputs": [
    {
     "name": "stdout",
     "output_type": "stream",
     "text": [
      "<class 'pandas.core.frame.DataFrame'>\n",
      "RangeIndex: 3751 entries, 0 to 3750\n",
      "Columns: 1777 entries, Activity to D1776\n",
      "dtypes: float64(942), int64(835)\n",
      "memory usage: 50.9 MB\n"
     ]
    }
   ],
   "source": [
    "data.info()"
   ]
  },
  {
   "cell_type": "markdown",
   "id": "bd7d3741",
   "metadata": {},
   "source": [
    "## Строим модели"
   ]
  },
  {
   "cell_type": "code",
   "execution_count": 5,
   "id": "a082bd8f",
   "metadata": {},
   "outputs": [],
   "source": [
    "X = data.drop('Activity', axis=1)\n",
    "y = data['Activity']\n",
    "X_train, X_test, y_train, y_test = train_test_split(X, y, stratify=y, test_size=0.2, random_state=1)\n"
   ]
  },
  {
   "cell_type": "code",
   "execution_count": 16,
   "id": "a7c6fdc6",
   "metadata": {},
   "outputs": [
    {
     "name": "stdout",
     "output_type": "stream",
     "text": [
      "0.7808383233532934\n"
     ]
    }
   ],
   "source": [
    "#Построим модель логистической регрессии и проверим её качество\n",
    "\n",
    "lr = linear_model.LogisticRegression(max_iter=1000, random_state=1)\n",
    "lr.fit(X_train,y_train)\n",
    "y_test_pred = lr.predict(X_test)\n",
    "print(metrics.f1_score(y_test_pred, y_test))"
   ]
  },
  {
   "cell_type": "code",
   "execution_count": 17,
   "id": "afceb749",
   "metadata": {},
   "outputs": [
    {
     "name": "stdout",
     "output_type": "stream",
     "text": [
      "0.8182912154031289\n"
     ]
    }
   ],
   "source": [
    "#Построим модель случайного леса и проверим её качество\n",
    "\n",
    "rf = ensemble.RandomForestClassifier(random_state=1)\n",
    "rf.fit(X_train, y_train)\n",
    "y_test_pred = rf.predict(X_test)\n",
    "print(metrics.f1_score(y_test_pred, y_test))"
   ]
  },
  {
   "cell_type": "code",
   "execution_count": null,
   "id": "0fb21e5d",
   "metadata": {},
   "outputs": [],
   "source": []
  },
  {
   "cell_type": "markdown",
   "id": "cd78c8b7",
   "metadata": {},
   "source": [
    "## Подбор гиперпараметров с помощью GridSearchCV"
   ]
  },
  {
   "cell_type": "code",
   "execution_count": 19,
   "id": "73a72154",
   "metadata": {},
   "outputs": [
    {
     "name": "stdout",
     "output_type": "stream",
     "text": [
      "Wall time: 13min 20s\n",
      "f1_score на тестовом наборе: 0.79\n",
      "Наилучшие значения гиперпараметров: {'C': 0.1, 'penalty': 'l2', 'solver': 'liblinear'}\n"
     ]
    }
   ],
   "source": [
    "#Подбор параметров для модели логистической регрессии\n",
    "\n",
    "param_grid = [\n",
    "              {'penalty': ['l2', 'none'] , # тип регуляризации\n",
    "              'solver': ['lbfgs', 'sag'], # алгоритм оптимизации\n",
    "               'C': [0.01, 0.1, 0.3, 0.5, 0.7, 0.9, 1]}, # уровень силы регуляризации\n",
    "              \n",
    "              {'penalty': ['l1', 'l2'] ,\n",
    "              'solver': ['liblinear', 'saga'],\n",
    "               'C': [0.01, 0.1, 0.3, 0.5, 0.7, 0.9, 1]}\n",
    "]\n",
    "\n",
    "grid_search = GridSearchCV(estimator=linear_model.LogisticRegression(\n",
    "                           random_state=1,\n",
    "                           max_iter=1000), \n",
    "                           param_grid=param_grid, \n",
    "                           cv=5, \n",
    "                           n_jobs = -1\n",
    ")  \n",
    "%time grid_search.fit(X_train, y_train) \n",
    "y_test_pred = grid_search.predict(X_test)\n",
    "print('f1_score на тестовом наборе: {:.2f}'.format(metrics.f1_score(y_test, y_test_pred)))\n",
    "print(\"Наилучшие значения гиперпараметров: {}\".format(grid_search.best_params_))"
   ]
  },
  {
   "cell_type": "code",
   "execution_count": 31,
   "id": "1da882c6",
   "metadata": {},
   "outputs": [
    {
     "name": "stdout",
     "output_type": "stream",
     "text": [
      "Wall time: 3min 15s\n",
      "f1_score на тестовом наборе: 0.81\n",
      "Наилучшие значения гиперпараметров: {'criterion': 'entropy', 'max_depth': 15, 'min_samples_leaf': 5, 'n_estimators': 200}\n"
     ]
    }
   ],
   "source": [
    "#Подбор параметров для модели случайного леса\n",
    "\n",
    "param_grid = {'n_estimators':[100, 200, 300],\n",
    "              'min_samples_leaf': [5, 10, 15, 20],\n",
    "              'max_depth': [5, 10, 15, 20],\n",
    "              'criterion':['entropy','gini']\n",
    "              }\n",
    "\n",
    "grid_search = GridSearchCV(estimator=ensemble.RandomForestClassifier(\n",
    "                           random_state=1), \n",
    "                           param_grid=param_grid, \n",
    "                           cv=5, \n",
    "                           n_jobs = -1\n",
    ")  \n",
    "%time grid_search.fit(X_train, y_train) \n",
    "y_test_pred = grid_search.predict(X_test)\n",
    "print('f1_score на тестовом наборе: {:.2f}'.format(metrics.f1_score(y_test, y_test_pred)))\n",
    "print(\"Наилучшие значения гиперпараметров: {}\".format(grid_search.best_params_))"
   ]
  },
  {
   "cell_type": "markdown",
   "id": "29d214c4",
   "metadata": {},
   "source": [
    "## Подбор гиперпараметров с помощью RandomizedSearchCV"
   ]
  },
  {
   "cell_type": "code",
   "execution_count": 27,
   "id": "83bf49c7",
   "metadata": {},
   "outputs": [
    {
     "name": "stdout",
     "output_type": "stream",
     "text": [
      "Wall time: 2min 24s\n",
      "f1_score на тестовом наборе: 0.79\n",
      "Наилучшие значения гиперпараметров: {'solver': 'saga', 'penalty': 'l2', 'C': 0.1}\n"
     ]
    }
   ],
   "source": [
    "#Подбор параметров для модели логистической регрессии\n",
    "\n",
    "param_grid = [\n",
    "              {'penalty': ['l2', 'none'] , # тип регуляризации\n",
    "              'solver': ['lbfgs', 'sag'], # алгоритм оптимизации\n",
    "               'C': [0.01, 0.1, 0.3, 0.5, 0.7, 0.9, 1]}, # уровень силы регуляризации\n",
    "              \n",
    "              {'penalty': ['l1', 'l2'] ,\n",
    "              'solver': ['liblinear', 'saga'],\n",
    "               'C': [0.01, 0.1, 0.3, 0.5, 0.7, 0.9, 1]}\n",
    "]\n",
    "            \n",
    "random_search = RandomizedSearchCV(\n",
    "    estimator=linear_model.LogisticRegression(random_state=1, max_iter=1000), \n",
    "    param_distributions=param_grid, \n",
    "    cv=5, \n",
    "    n_iter = 10, \n",
    "    n_jobs = -1\n",
    ")  \n",
    "%time random_search.fit(X_train, y_train) \n",
    "y_test_pred = random_search.predict(X_test)\n",
    "print('f1_score на тестовом наборе: {:.2f}'.format(metrics.f1_score(y_test, y_test_pred)))\n",
    "print(\"Наилучшие значения гиперпараметров: {}\".format(random_search.best_params_))"
   ]
  },
  {
   "cell_type": "code",
   "execution_count": 30,
   "id": "ce161f99",
   "metadata": {},
   "outputs": [
    {
     "name": "stdout",
     "output_type": "stream",
     "text": [
      "Wall time: 27.8 s\n",
      "f1_score на тестовом наборе: 0.81\n",
      "Наилучшие значения гиперпараметров: {'n_estimators': 300, 'min_samples_leaf': 5, 'max_depth': 20, 'criterion': 'entropy'}\n"
     ]
    }
   ],
   "source": [
    "#Подбор параметров для модели случайного леса\n",
    "\n",
    "param_grid = {'n_estimators':[100, 200, 300],\n",
    "              'min_samples_leaf': [5, 10, 15, 20],\n",
    "              'max_depth': [5, 10, 15, 20],\n",
    "              'criterion':['entropy','gini']\n",
    "              }\n",
    "\n",
    "random_search = RandomizedSearchCV(estimator=ensemble.RandomForestClassifier(random_state=1), \n",
    "                                   param_distributions=param_grid, \n",
    "                                   cv=5, \n",
    "                                   n_iter = 10, \n",
    "                                   n_jobs = -1\n",
    ")\n",
    "\n",
    "%time random_search.fit(X_train, y_train) \n",
    "y_test_pred = random_search.predict(X_test)\n",
    "print('f1_score на тестовом наборе: {:.2f}'.format(metrics.f1_score(y_test, y_test_pred)))\n",
    "print(\"Наилучшие значения гиперпараметров: {}\".format(random_search.best_params_))"
   ]
  },
  {
   "cell_type": "markdown",
   "id": "3ff81de6",
   "metadata": {},
   "source": [
    "# Подбор гиперпараметров с помощью Hyperopt"
   ]
  },
  {
   "cell_type": "code",
   "execution_count": 91,
   "id": "eac81785",
   "metadata": {},
   "outputs": [],
   "source": [
    "#Для модели логистической регрессии без кроссвалидации\n",
    "\n",
    "# зададим пространство поиска гиперпараметров\n",
    "space = {'penalty': hp.choice('penalty', ['l1', 'l2']),\n",
    "         'solver': hp.choice('solver', ['liblinear', 'saga']),\n",
    "         'C': hp.choice('C', [0.01, 0.1, 0.3, 0.5, 0.7, 0.9, 1])}\n",
    "\n",
    "random_state = 1\n",
    "def hyperopt_rf(params, cv=5, X=X_train, y=y_train, random_state=random_state):\n",
    "    # функция получает комбинацию гиперпараметров в \"params\"\n",
    "    params = {'penalty': str(params['penalty']), \n",
    "              'solver': str(params['solver']), \n",
    "              'C': float(params['C'])\n",
    "              }\n",
    "  \n",
    "    # используем эту комбинацию для построения модели\n",
    "    model = linear_model.LogisticRegression(**params, random_state=random_state, max_iter=2000)\n",
    "\n",
    "    # обучаем модель\n",
    "    model.fit(X, y)\n",
    "    score = metrics.f1_score(y, model.predict(X))\n",
    "    \n",
    "    # обучать модель можно также с помощью кросс-валидации\n",
    "    # применим  cross validation с тем же количеством фолдов\n",
    "    # score = cross_val_score(model, X, y, cv=cv, scoring=\"f1\", n_jobs=-1).mean()\n",
    "\n",
    "    # метрику необходимо минимизировать, поэтому ставим знак минус\n",
    "    return -score"
   ]
  },
  {
   "cell_type": "code",
   "execution_count": 94,
   "id": "8d7d1019",
   "metadata": {},
   "outputs": [
    {
     "name": "stdout",
     "output_type": "stream",
     "text": [
      " 10%|████▊                                           | 2/20 [02:12<23:16, 77.58s/trial, best loss: -0.8791679412664423]"
     ]
    },
    {
     "name": "stderr",
     "output_type": "stream",
     "text": [
      "C:\\Users\\agner\\Anaconda3\\lib\\site-packages\\sklearn\\linear_model\\_sag.py:354: ConvergenceWarning: The max_iter was reached which means the coef_ did not converge\n",
      "  ConvergenceWarning,\n",
      "\n"
     ]
    },
    {
     "name": "stdout",
     "output_type": "stream",
     "text": [
      "100%|███████████████████████████████████████████████| 20/20 [03:10<00:00,  9.52s/trial, best loss: -0.8856968215158926]\n",
      "Наилучшие значения гиперпараметров {'C': 6, 'penalty': 1, 'solver': 0}\n"
     ]
    }
   ],
   "source": [
    "# начинаем подбор гиперпараметров\n",
    "\n",
    "trials = Trials() # используется для логирования результатов. Они могут понадобиться для дальнейших поисков гиперпараметров.\n",
    "\n",
    "best=fmin(hyperopt_rf, # наша функция \n",
    "          space=space, # пространство гиперпараметров\n",
    "          algo=tpe.suggest, # алгоритм оптимизации, установлен по умолчанию, задавать необязательно\n",
    "          max_evals=20, # максимальное количество итераций\n",
    "          trials=trials, # логирование результатов\n",
    "         )\n",
    "print(\"Наилучшие значения гиперпараметров {}\".format(best))"
   ]
  },
  {
   "cell_type": "code",
   "execution_count": 98,
   "id": "6ca311de",
   "metadata": {},
   "outputs": [
    {
     "name": "stdout",
     "output_type": "stream",
     "text": [
      "f1_score на тестовом наборе: 0.78\n"
     ]
    }
   ],
   "source": [
    "#Посчитаем метрику f1 для тестовой выборки с выбранными параметрами:\n",
    "\n",
    "model = linear_model.LogisticRegression(penalty=best['penalty'],\n",
    "                                        C=best['C'],\n",
    "                                        solver=best['solver'],\n",
    "                                        max_iter=2000, \n",
    "                                        random_state=1)\n",
    "lr.fit(X_train,y_train)\n",
    "y_test_pred = lr.predict(X_test)\n",
    "\n",
    "print('f1_score на тестовом наборе: {:.2f}'.format(metrics.f1_score(y_test, y_test_pred)))"
   ]
  },
  {
   "cell_type": "code",
   "execution_count": null,
   "id": "a37c3949",
   "metadata": {},
   "outputs": [],
   "source": []
  },
  {
   "cell_type": "code",
   "execution_count": 99,
   "id": "7ab02b70",
   "metadata": {},
   "outputs": [],
   "source": [
    "#Для модели логистической регрессии с кроссвалидацией\n",
    "\n",
    "# зададим пространство поиска гиперпараметров\n",
    "space = {'penalty': hp.choice('penalty', ['l1', 'l2']),\n",
    "         'solver': hp.choice('solver', ['liblinear', 'saga']),\n",
    "         'C': hp.choice('C', [0.01, 0.1, 0.3, 0.5, 0.7, 0.9, 1])}\n",
    "\n",
    "random_state = 1\n",
    "def hyperopt_rf(params, cv=5, X=X_train, y=y_train, random_state=random_state):\n",
    "    # функция получает комбинацию гиперпараметров в \"params\"\n",
    "    params = {'penalty': str(params['penalty']), \n",
    "              'solver': str(params['solver']), \n",
    "              'C': float(params['C'])\n",
    "              }\n",
    "  \n",
    "    # используем эту комбинацию для построения модели\n",
    "    model = linear_model.LogisticRegression(**params, random_state=random_state, max_iter=2000)\n",
    "\n",
    "    # обучаем модель\n",
    "    model.fit(X, y)\n",
    "    score = cross_val_score(model, X, y, cv=cv, scoring=\"f1\", n_jobs=-1).mean()\n",
    "\n",
    "    # метрику необходимо минимизировать, поэтому ставим знак минус\n",
    "    return -score"
   ]
  },
  {
   "cell_type": "code",
   "execution_count": 100,
   "id": "92c68e99",
   "metadata": {},
   "outputs": [
    {
     "name": "stdout",
     "output_type": "stream",
     "text": [
      " 45%|█████████████████████▌                          | 9/20 [08:32<12:04, 65.86s/trial, best loss: -0.7817633488644076]"
     ]
    },
    {
     "name": "stderr",
     "output_type": "stream",
     "text": [
      "C:\\Users\\agner\\Anaconda3\\lib\\site-packages\\sklearn\\linear_model\\_sag.py:354: ConvergenceWarning: The max_iter was reached which means the coef_ did not converge\n",
      "  ConvergenceWarning,\n",
      "\n"
     ]
    },
    {
     "name": "stdout",
     "output_type": "stream",
     "text": [
      " 60%|████████████████████████████▏                  | 12/20 [12:50<08:06, 60.76s/trial, best loss: -0.7817633488644076]"
     ]
    },
    {
     "name": "stderr",
     "output_type": "stream",
     "text": [
      "C:\\Users\\agner\\Anaconda3\\lib\\site-packages\\sklearn\\linear_model\\_sag.py:354: ConvergenceWarning: The max_iter was reached which means the coef_ did not converge\n",
      "  ConvergenceWarning,\n",
      "\n"
     ]
    },
    {
     "name": "stdout",
     "output_type": "stream",
     "text": [
      " 90%|██████████████████████████████████████████▎    | 18/20 [17:14<00:42, 21.40s/trial, best loss: -0.7819106289405601]"
     ]
    },
    {
     "name": "stderr",
     "output_type": "stream",
     "text": [
      "C:\\Users\\agner\\Anaconda3\\lib\\site-packages\\sklearn\\linear_model\\_sag.py:354: ConvergenceWarning: The max_iter was reached which means the coef_ did not converge\n",
      "  ConvergenceWarning,\n",
      "\n"
     ]
    },
    {
     "name": "stdout",
     "output_type": "stream",
     "text": [
      "100%|███████████████████████████████████████████████| 20/20 [22:04<00:00, 66.21s/trial, best loss: -0.7819106289405601]\n",
      "Наилучшие значения гиперпараметров {'C': 1, 'penalty': 1, 'solver': 0}\n"
     ]
    }
   ],
   "source": [
    "# начинаем подбор гиперпараметров\n",
    "\n",
    "trials = Trials() # используется для логирования результатов. Они могут понадобиться для дальнейших поисков гиперпараметров.\n",
    "\n",
    "best=fmin(hyperopt_rf, # наша функция \n",
    "          space=space, # пространство гиперпараметров\n",
    "          algo=tpe.suggest, # алгоритм оптимизации, установлен по умолчанию, задавать необязательно\n",
    "          max_evals=20, # максимальное количество итераций\n",
    "          trials=trials, # логирование результатов\n",
    "         )\n",
    "print(\"Наилучшие значения гиперпараметров {}\".format(best))"
   ]
  },
  {
   "cell_type": "code",
   "execution_count": 101,
   "id": "1bea7cee",
   "metadata": {},
   "outputs": [
    {
     "name": "stdout",
     "output_type": "stream",
     "text": [
      "f1_score на тестовом наборе: 0.78\n"
     ]
    }
   ],
   "source": [
    "#Посчитаем метрику f1 для тестовой выборки с выбранными параметрами:\n",
    "\n",
    "model = linear_model.LogisticRegression(penalty=best['penalty'],\n",
    "                                        C=best['C'],\n",
    "                                        solver=best['solver'],\n",
    "                                        max_iter=2000, \n",
    "                                        random_state=1)\n",
    "lr.fit(X_train,y_train)\n",
    "y_test_pred = lr.predict(X_test)\n",
    "\n",
    "print('f1_score на тестовом наборе: {:.2f}'.format(metrics.f1_score(y_test, y_test_pred)))"
   ]
  },
  {
   "cell_type": "code",
   "execution_count": null,
   "id": "a34b8166",
   "metadata": {},
   "outputs": [],
   "source": []
  },
  {
   "cell_type": "code",
   "execution_count": 50,
   "id": "8865fcc6",
   "metadata": {},
   "outputs": [],
   "source": [
    "#Для модели случайного леса без кроссвалидации\n",
    "\n",
    "# зададим пространство поиска гиперпараметров\n",
    "space={'n_estimators': hp.quniform('n_estimators', 100, 300, 100),\n",
    "       'max_depth' : hp.quniform('max_depth', 5, 20, 5),\n",
    "       'min_samples_leaf': hp.quniform('min_samples_leaf', 5, 20, 5)\n",
    "      }\n",
    "\n",
    "random_state = 1\n",
    "def hyperopt_rf(params, cv=5, X=X_train, y=y_train, random_state=random_state):\n",
    "    # функция получает комбинацию гиперпараметров в \"params\"\n",
    "    params = {'n_estimators': int(params['n_estimators']), \n",
    "              'max_depth': int(params['max_depth']), \n",
    "             'min_samples_leaf': int(params['min_samples_leaf'])\n",
    "              }\n",
    "  \n",
    "    # используем эту комбинацию для построения модели\n",
    "    model = ensemble.RandomForestClassifier(**params, random_state=random_state)\n",
    "\n",
    "    # обучаем модель\n",
    "    model.fit(X, y)\n",
    "    score = metrics.f1_score(y, model.predict(X))\n",
    "    \n",
    "    # обучать модель можно также с помощью кросс-валидации\n",
    "    # применим  cross validation с тем же количеством фолдов\n",
    "    # score = cross_val_score(model, X, y, cv=cv, scoring=\"f1\", n_jobs=-1).mean()\n",
    "\n",
    "    # метрику необходимо минимизировать, поэтому ставим знак минус\n",
    "    return -score"
   ]
  },
  {
   "cell_type": "code",
   "execution_count": 51,
   "id": "2df6fde2",
   "metadata": {},
   "outputs": [
    {
     "name": "stdout",
     "output_type": "stream",
     "text": [
      "100%|███████████████████████████████████████████████| 20/20 [00:43<00:00,  2.18s/trial, best loss: -0.9440538061754814]\n",
      "Наилучшие значения гиперпараметров {'max_depth': 20.0, 'min_samples_leaf': 5.0, 'n_estimators': 100.0}\n"
     ]
    }
   ],
   "source": [
    "# начинаем подбор гиперпараметров\n",
    "#%%time\n",
    "\n",
    "trials = Trials() # используется для логирования результатов. Они могут понадобиться для дальнейших поисков гиперпараметров.\n",
    "\n",
    "best=fmin(hyperopt_rf, # наша функция \n",
    "          space=space, # пространство гиперпараметров\n",
    "          algo=tpe.suggest, # алгоритм оптимизации, установлен по умолчанию, задавать необязательно\n",
    "          max_evals=20, # максимальное количество итераций\n",
    "          trials=trials, # логирование результатов\n",
    "         )\n",
    "print(\"Наилучшие значения гиперпараметров {}\".format(best))"
   ]
  },
  {
   "cell_type": "code",
   "execution_count": 52,
   "id": "7df5d203",
   "metadata": {},
   "outputs": [
    {
     "name": "stdout",
     "output_type": "stream",
     "text": [
      "f1_score на тестовом наборе: 0.81\n"
     ]
    }
   ],
   "source": [
    "# рассчитаем метрику f1 для тестовой выборки\n",
    "model = ensemble.RandomForestClassifier(\n",
    "    random_state=random_state, \n",
    "    n_estimators=int(best['n_estimators']),\n",
    "    max_depth=int(best['max_depth']),\n",
    "    min_samples_leaf=int(best['min_samples_leaf'])\n",
    ")\n",
    "model.fit(X_train, y_train)\n",
    "y_test_pred = model.predict(X_test)\n",
    "print('f1_score на тестовом наборе: {:.2f}'.format(metrics.f1_score(y_test, y_test_pred)))"
   ]
  },
  {
   "cell_type": "code",
   "execution_count": null,
   "id": "932ca48c",
   "metadata": {},
   "outputs": [],
   "source": []
  },
  {
   "cell_type": "code",
   "execution_count": null,
   "id": "e88e1634",
   "metadata": {},
   "outputs": [],
   "source": [
    "#Для модели случайного леса с кроссвалидацией\n",
    "\n",
    "# зададим пространство поиска гиперпараметров\n",
    "space={'n_estimators': hp.quniform('n_estimators', 100, 300, 100),\n",
    "       'max_depth' : hp.quniform('max_depth', 5, 20, 5),\n",
    "       'min_samples_leaf': hp.quniform('min_samples_leaf', 5, 20, 5)\n",
    "      }\n",
    "\n",
    "random_state = 1\n",
    "def hyperopt_rf(params, cv=5, X=X_train, y=y_train, random_state=random_state):\n",
    "    # функция получает комбинацию гиперпараметров в \"params\"\n",
    "    params = {'n_estimators': int(params['n_estimators']), \n",
    "              'max_depth': int(params['max_depth']), \n",
    "             'min_samples_leaf': int(params['min_samples_leaf'])\n",
    "              }\n",
    "  \n",
    "    # используем эту комбинацию для построения модели\n",
    "    model = ensemble.RandomForestClassifier(**params, random_state=random_state)\n",
    "\n",
    "    # обучаем модель\n",
    "    model.fit(X, y)\n",
    "    #score = metrics.f1_score(y, model.predict(X))\n",
    "    \n",
    "    # обучать модель можно также с помощью кросс-валидации\n",
    "    # применим  cross validation с тем же количеством фолдов\n",
    "    score = cross_val_score(model, X, y, cv=cv, scoring=\"f1\", n_jobs=-1).mean()\n",
    "\n",
    "    # метрику необходимо минимизировать, поэтому ставим знак минус\n",
    "    return -score"
   ]
  },
  {
   "cell_type": "code",
   "execution_count": 53,
   "id": "6cafcc2f",
   "metadata": {},
   "outputs": [
    {
     "name": "stdout",
     "output_type": "stream",
     "text": [
      "100%|███████████████████████████████████████████████| 20/20 [00:38<00:00,  1.94s/trial, best loss: -0.9388753056234718]\n",
      "Наилучшие значения гиперпараметров {'max_depth': 15.0, 'min_samples_leaf': 5.0, 'n_estimators': 200.0}\n"
     ]
    }
   ],
   "source": [
    "# начинаем подбор гиперпараметров\n",
    "#%%time\n",
    "\n",
    "trials = Trials() # используется для логирования результатов. Они могут понадобиться для дальнейших поисков гиперпараметров.\n",
    "\n",
    "best=fmin(hyperopt_rf, # наша функция \n",
    "          space=space, # пространство гиперпараметров\n",
    "          algo=tpe.suggest, # алгоритм оптимизации, установлен по умолчанию, задавать необязательно\n",
    "          max_evals=20, # максимальное количество итераций\n",
    "          trials=trials, # логирование результатов\n",
    "         )\n",
    "print(\"Наилучшие значения гиперпараметров {}\".format(best))"
   ]
  },
  {
   "cell_type": "code",
   "execution_count": 54,
   "id": "7ff72d44",
   "metadata": {},
   "outputs": [
    {
     "name": "stdout",
     "output_type": "stream",
     "text": [
      "f1_score на тестовом наборе: 0.82\n"
     ]
    }
   ],
   "source": [
    "# рассчитаем метрику f1 для тестовой выборки\n",
    "model = ensemble.RandomForestClassifier(\n",
    "    random_state=random_state, \n",
    "    n_estimators=int(best['n_estimators']),\n",
    "    max_depth=int(best['max_depth']),\n",
    "    min_samples_leaf=int(best['min_samples_leaf'])\n",
    ")\n",
    "model.fit(X_train, y_train)\n",
    "y_test_pred = model.predict(X_test)\n",
    "print('f1_score на тестовом наборе: {:.2f}'.format(metrics.f1_score(y_test, y_test_pred)))"
   ]
  },
  {
   "cell_type": "code",
   "execution_count": null,
   "id": "cb59cf72",
   "metadata": {},
   "outputs": [],
   "source": []
  },
  {
   "cell_type": "markdown",
   "id": "5842d071",
   "metadata": {},
   "source": [
    "# Подбор гиперпараметнов с помощью Optuna"
   ]
  },
  {
   "cell_type": "code",
   "execution_count": 113,
   "id": "1f667b18",
   "metadata": {},
   "outputs": [],
   "source": [
    "# Для модели логистической регрессии\n",
    "\n",
    "def optuna_rf(trial):\n",
    "  # задаем пространства поиска гиперпараметров\n",
    "    penalty = trial.suggest_categorical('penalty', ['l1', 'l2'])\n",
    "    solver = trial.suggest_categorical('solver', ['liblinear', 'saga'])\n",
    "    C = trial.suggest_float('C', 0.01, 0.91, step=0.1)\n",
    "\n",
    "    # создаем модель    \n",
    "    model = linear_model.LogisticRegression(penalty=penalty,\n",
    "                                            C=C,\n",
    "                                            solver=solver,\n",
    "                                            max_iter=2000, \n",
    "                                            random_state=1)    \n",
    "\n",
    "    # обучаем модель\n",
    "    model.fit(X_train, y_train)\n",
    "    score = metrics.f1_score(y_train, model.predict(X_train))\n",
    "\n",
    "    return score"
   ]
  },
  {
   "cell_type": "code",
   "execution_count": 114,
   "id": "0ed29422",
   "metadata": {},
   "outputs": [
    {
     "name": "stderr",
     "output_type": "stream",
     "text": [
      "\u001b[32m[I 2022-09-14 16:02:17,896]\u001b[0m A new study created in memory with name: LogisticRegression\u001b[0m\n",
      "\u001b[32m[I 2022-09-14 16:02:39,418]\u001b[0m Trial 0 finished with value: 0.8760330578512396 and parameters: {'penalty': 'l2', 'solver': 'saga', 'C': 0.6100000000000001}. Best is trial 0 with value: 0.8760330578512396.\u001b[0m\n",
      "\u001b[32m[I 2022-09-14 16:02:39,667]\u001b[0m Trial 1 finished with value: 0.816154309825196 and parameters: {'penalty': 'l1', 'solver': 'liblinear', 'C': 0.21000000000000002}. Best is trial 0 with value: 0.8760330578512396.\u001b[0m\n",
      "\u001b[32m[I 2022-09-14 16:02:39,902]\u001b[0m Trial 2 finished with value: 0.816154309825196 and parameters: {'penalty': 'l1', 'solver': 'liblinear', 'C': 0.21000000000000002}. Best is trial 0 with value: 0.8760330578512396.\u001b[0m\n",
      "\u001b[32m[I 2022-09-14 16:04:31,547]\u001b[0m Trial 3 finished with value: 0.8590604026845637 and parameters: {'penalty': 'l1', 'solver': 'saga', 'C': 0.7100000000000001}. Best is trial 0 with value: 0.8760330578512396.\u001b[0m\n",
      "\u001b[32m[I 2022-09-14 16:04:31,910]\u001b[0m Trial 4 finished with value: 0.8642878926501982 and parameters: {'penalty': 'l2', 'solver': 'liblinear', 'C': 0.21000000000000002}. Best is trial 0 with value: 0.8760330578512396.\u001b[0m\n",
      "\u001b[32m[I 2022-09-14 16:04:39,545]\u001b[0m Trial 5 finished with value: 0.8170365926814637 and parameters: {'penalty': 'l2', 'solver': 'saga', 'C': 0.01}. Best is trial 0 with value: 0.8760330578512396.\u001b[0m\n",
      "\u001b[32m[I 2022-09-14 16:06:10,809]\u001b[0m Trial 6 finished with value: 0.8418816388467375 and parameters: {'penalty': 'l1', 'solver': 'saga', 'C': 0.41000000000000003}. Best is trial 0 with value: 0.8760330578512396.\u001b[0m\n",
      "\u001b[32m[I 2022-09-14 16:06:11,055]\u001b[0m Trial 7 finished with value: 0.816154309825196 and parameters: {'penalty': 'l1', 'solver': 'liblinear', 'C': 0.21000000000000002}. Best is trial 0 with value: 0.8760330578512396.\u001b[0m\n",
      "\u001b[32m[I 2022-09-14 16:06:33,152]\u001b[0m Trial 8 finished with value: 0.816043425814234 and parameters: {'penalty': 'l1', 'solver': 'saga', 'C': 0.21000000000000002}. Best is trial 0 with value: 0.8760330578512396.\u001b[0m\n",
      "\u001b[32m[I 2022-09-14 16:06:49,924]\u001b[0m Trial 9 finished with value: 0.8064516129032258 and parameters: {'penalty': 'l1', 'solver': 'saga', 'C': 0.11}. Best is trial 0 with value: 0.8760330578512396.\u001b[0m\n",
      "\u001b[32m[I 2022-09-14 16:07:18,465]\u001b[0m Trial 10 finished with value: 0.8825688073394496 and parameters: {'penalty': 'l2', 'solver': 'saga', 'C': 0.91}. Best is trial 10 with value: 0.8825688073394496.\u001b[0m\n",
      "\u001b[32m[I 2022-09-14 16:07:47,087]\u001b[0m Trial 11 finished with value: 0.8825688073394496 and parameters: {'penalty': 'l2', 'solver': 'saga', 'C': 0.91}. Best is trial 10 with value: 0.8825688073394496.\u001b[0m\n",
      "\u001b[32m[I 2022-09-14 16:08:15,713]\u001b[0m Trial 12 finished with value: 0.8825688073394496 and parameters: {'penalty': 'l2', 'solver': 'saga', 'C': 0.91}. Best is trial 10 with value: 0.8825688073394496.\u001b[0m\n",
      "\u001b[32m[I 2022-09-14 16:08:44,879]\u001b[0m Trial 13 finished with value: 0.8825688073394496 and parameters: {'penalty': 'l2', 'solver': 'saga', 'C': 0.91}. Best is trial 10 with value: 0.8825688073394496.\u001b[0m\n",
      "\u001b[32m[I 2022-09-14 16:09:09,624]\u001b[0m Trial 14 finished with value: 0.8785561333741205 and parameters: {'penalty': 'l2', 'solver': 'saga', 'C': 0.7100000000000001}. Best is trial 10 with value: 0.8825688073394496.\u001b[0m\n",
      "\u001b[32m[I 2022-09-14 16:09:36,422]\u001b[0m Trial 15 finished with value: 0.8810033649434078 and parameters: {'penalty': 'l2', 'solver': 'saga', 'C': 0.81}. Best is trial 10 with value: 0.8825688073394496.\u001b[0m\n",
      "\u001b[32m[I 2022-09-14 16:09:55,367]\u001b[0m Trial 16 finished with value: 0.8731617647058824 and parameters: {'penalty': 'l2', 'solver': 'saga', 'C': 0.51}. Best is trial 10 with value: 0.8825688073394496.\u001b[0m\n",
      "\u001b[32m[I 2022-09-14 16:10:21,764]\u001b[0m Trial 17 finished with value: 0.8810033649434078 and parameters: {'penalty': 'l2', 'solver': 'saga', 'C': 0.81}. Best is trial 10 with value: 0.8825688073394496.\u001b[0m\n",
      "\u001b[32m[I 2022-09-14 16:10:22,221]\u001b[0m Trial 18 finished with value: 0.8705234159779613 and parameters: {'penalty': 'l2', 'solver': 'liblinear', 'C': 0.41000000000000003}. Best is trial 10 with value: 0.8825688073394496.\u001b[0m\n",
      "\u001b[32m[I 2022-09-14 16:10:50,745]\u001b[0m Trial 19 finished with value: 0.8825688073394496 and parameters: {'penalty': 'l2', 'solver': 'saga', 'C': 0.91}. Best is trial 10 with value: 0.8825688073394496.\u001b[0m\n"
     ]
    },
    {
     "name": "stdout",
     "output_type": "stream",
     "text": [
      "Wall time: 8min 32s\n"
     ]
    }
   ],
   "source": [
    "%%time\n",
    "# cоздаем объект исследования\n",
    "# можем напрямую указать, что нам необходимо максимизировать метрику direction=\"maximize\"\n",
    "study = optuna.create_study(study_name=\"LogisticRegression\", direction=\"maximize\")\n",
    "# ищем лучшую комбинацию гиперпараметров n_trials раз\n",
    "study.optimize(optuna_rf, n_trials=20)"
   ]
  },
  {
   "cell_type": "code",
   "execution_count": 116,
   "id": "2d81a7de",
   "metadata": {},
   "outputs": [
    {
     "name": "stdout",
     "output_type": "stream",
     "text": [
      "f1_score на тестовом наборе: 0.78\n"
     ]
    }
   ],
   "source": [
    "# рассчитаем точность для тестовой выборки\n",
    "model = linear_model.LogisticRegression(**study.best_params,random_state=random_state, max_iter=1000)\n",
    "model.fit(X_train, y_train)\n",
    "y_test_pred = model.predict(X_test)\n",
    "print('f1_score на тестовом наборе: {:.2f}'.format(metrics.f1_score(y_test, y_test_pred)))"
   ]
  },
  {
   "cell_type": "code",
   "execution_count": null,
   "id": "1fd14db6",
   "metadata": {},
   "outputs": [],
   "source": []
  },
  {
   "cell_type": "code",
   "execution_count": 102,
   "id": "2e8fcbbb",
   "metadata": {},
   "outputs": [],
   "source": [
    "# Для модели случайного леса\n",
    "\n",
    "def optuna_rf(trial):\n",
    "  # задаем пространства поиска гиперпараметров\n",
    "  n_estimators = trial.suggest_int('n_estimators', 100, 300, 100)\n",
    "  max_depth = trial.suggest_int('max_depth', 5, 20, 5)\n",
    "  min_samples_leaf = trial.suggest_int('min_samples_leaf', 5, 20, 5)\n",
    "\n",
    "  # создаем модель\n",
    "  model = ensemble.RandomForestClassifier(n_estimators=n_estimators,\n",
    "                                          max_depth=max_depth,\n",
    "                                          min_samples_leaf=min_samples_leaf,\n",
    "                                          random_state=random_state)\n",
    "  # обучаем модель\n",
    "  model.fit(X_train, y_train)\n",
    "  score = metrics.f1_score(y_train, model.predict(X_train))\n",
    "\n",
    "  return score"
   ]
  },
  {
   "cell_type": "code",
   "execution_count": 103,
   "id": "33f9d4e6",
   "metadata": {},
   "outputs": [
    {
     "name": "stderr",
     "output_type": "stream",
     "text": [
      "\u001b[32m[I 2022-09-14 15:46:23,244]\u001b[0m A new study created in memory with name: RandomForestClassifier\u001b[0m\n",
      "\u001b[32m[I 2022-09-14 15:46:24,456]\u001b[0m Trial 0 finished with value: 0.8475404827375497 and parameters: {'n_estimators': 100, 'max_depth': 10, 'min_samples_leaf': 20}. Best is trial 0 with value: 0.8475404827375497.\u001b[0m\n",
      "\u001b[32m[I 2022-09-14 15:46:25,064]\u001b[0m Trial 1 finished with value: 0.7996289424860854 and parameters: {'n_estimators': 100, 'max_depth': 5, 'min_samples_leaf': 10}. Best is trial 0 with value: 0.8475404827375497.\u001b[0m\n",
      "\u001b[32m[I 2022-09-14 15:46:28,407]\u001b[0m Trial 2 finished with value: 0.8984709480122324 and parameters: {'n_estimators': 300, 'max_depth': 20, 'min_samples_leaf': 10}. Best is trial 2 with value: 0.8984709480122324.\u001b[0m\n",
      "\u001b[32m[I 2022-09-14 15:46:30,413]\u001b[0m Trial 3 finished with value: 0.8699112335475973 and parameters: {'n_estimators': 200, 'max_depth': 20, 'min_samples_leaf': 15}. Best is trial 2 with value: 0.8984709480122324.\u001b[0m\n",
      "\u001b[32m[I 2022-09-14 15:46:33,610]\u001b[0m Trial 4 finished with value: 0.9045566502463055 and parameters: {'n_estimators': 300, 'max_depth': 10, 'min_samples_leaf': 5}. Best is trial 4 with value: 0.9045566502463055.\u001b[0m\n",
      "\u001b[32m[I 2022-09-14 15:46:36,234]\u001b[0m Trial 5 finished with value: 0.9434077699602326 and parameters: {'n_estimators': 200, 'max_depth': 20, 'min_samples_leaf': 5}. Best is trial 5 with value: 0.9434077699602326.\u001b[0m\n",
      "\u001b[32m[I 2022-09-14 15:46:38,938]\u001b[0m Trial 6 finished with value: 0.8521686010995723 and parameters: {'n_estimators': 300, 'max_depth': 20, 'min_samples_leaf': 20}. Best is trial 5 with value: 0.9434077699602326.\u001b[0m\n",
      "\u001b[32m[I 2022-09-14 15:46:42,165]\u001b[0m Trial 7 finished with value: 0.8980091883614089 and parameters: {'n_estimators': 300, 'max_depth': 15, 'min_samples_leaf': 10}. Best is trial 5 with value: 0.9434077699602326.\u001b[0m\n",
      "\u001b[32m[I 2022-09-14 15:46:45,286]\u001b[0m Trial 8 finished with value: 0.9045566502463055 and parameters: {'n_estimators': 300, 'max_depth': 10, 'min_samples_leaf': 5}. Best is trial 5 with value: 0.9434077699602326.\u001b[0m\n",
      "\u001b[32m[I 2022-09-14 15:46:48,526]\u001b[0m Trial 9 finished with value: 0.8980091883614089 and parameters: {'n_estimators': 300, 'max_depth': 15, 'min_samples_leaf': 10}. Best is trial 5 with value: 0.9434077699602326.\u001b[0m\n",
      "\u001b[32m[I 2022-09-14 15:46:51,150]\u001b[0m Trial 10 finished with value: 0.9388753056234718 and parameters: {'n_estimators': 200, 'max_depth': 15, 'min_samples_leaf': 5}. Best is trial 5 with value: 0.9434077699602326.\u001b[0m\n",
      "\u001b[32m[I 2022-09-14 15:46:53,673]\u001b[0m Trial 11 finished with value: 0.9388753056234718 and parameters: {'n_estimators': 200, 'max_depth': 15, 'min_samples_leaf': 5}. Best is trial 5 with value: 0.9434077699602326.\u001b[0m\n",
      "\u001b[32m[I 2022-09-14 15:46:56,266]\u001b[0m Trial 12 finished with value: 0.9434077699602326 and parameters: {'n_estimators': 200, 'max_depth': 20, 'min_samples_leaf': 5}. Best is trial 5 with value: 0.9434077699602326.\u001b[0m\n",
      "\u001b[32m[I 2022-09-14 15:46:58,241]\u001b[0m Trial 13 finished with value: 0.8699112335475973 and parameters: {'n_estimators': 200, 'max_depth': 20, 'min_samples_leaf': 15}. Best is trial 5 with value: 0.9434077699602326.\u001b[0m\n",
      "\u001b[32m[I 2022-09-14 15:46:59,618]\u001b[0m Trial 14 finished with value: 0.9440538061754814 and parameters: {'n_estimators': 100, 'max_depth': 20, 'min_samples_leaf': 5}. Best is trial 14 with value: 0.9440538061754814.\u001b[0m\n",
      "\u001b[32m[I 2022-09-14 15:47:00,261]\u001b[0m Trial 15 finished with value: 0.8037267080745342 and parameters: {'n_estimators': 100, 'max_depth': 5, 'min_samples_leaf': 5}. Best is trial 14 with value: 0.9440538061754814.\u001b[0m\n",
      "\u001b[32m[I 2022-09-14 15:47:01,317]\u001b[0m Trial 16 finished with value: 0.8678899082568807 and parameters: {'n_estimators': 100, 'max_depth': 20, 'min_samples_leaf': 15}. Best is trial 14 with value: 0.9440538061754814.\u001b[0m\n",
      "\u001b[32m[I 2022-09-14 15:47:02,462]\u001b[0m Trial 17 finished with value: 0.8982584784601283 and parameters: {'n_estimators': 100, 'max_depth': 15, 'min_samples_leaf': 10}. Best is trial 14 with value: 0.9440538061754814.\u001b[0m\n",
      "\u001b[32m[I 2022-09-14 15:47:05,070]\u001b[0m Trial 18 finished with value: 0.9434077699602326 and parameters: {'n_estimators': 200, 'max_depth': 20, 'min_samples_leaf': 5}. Best is trial 14 with value: 0.9440538061754814.\u001b[0m\n",
      "\u001b[32m[I 2022-09-14 15:47:06,199]\u001b[0m Trial 19 finished with value: 0.8982584784601283 and parameters: {'n_estimators': 100, 'max_depth': 15, 'min_samples_leaf': 10}. Best is trial 14 with value: 0.9440538061754814.\u001b[0m\n"
     ]
    },
    {
     "name": "stdout",
     "output_type": "stream",
     "text": [
      "Wall time: 43 s\n"
     ]
    }
   ],
   "source": [
    "%%time\n",
    "# cоздаем объект исследования\n",
    "# можем напрямую указать, что нам необходимо максимизировать метрику direction=\"maximize\"\n",
    "study = optuna.create_study(study_name=\"RandomForestClassifier\", direction=\"maximize\")\n",
    "# ищем лучшую комбинацию гиперпараметров n_trials раз\n",
    "study.optimize(optuna_rf, n_trials=20)"
   ]
  },
  {
   "cell_type": "code",
   "execution_count": 104,
   "id": "b616c4bf",
   "metadata": {},
   "outputs": [
    {
     "name": "stdout",
     "output_type": "stream",
     "text": [
      "f1_score на тестовом наборе: 0.81\n"
     ]
    }
   ],
   "source": [
    "# рассчитаем точность для тестовой выборки\n",
    "model = ensemble.RandomForestClassifier(**study.best_params,random_state=random_state, )\n",
    "model.fit(X_train, y_train)\n",
    "y_test_pred = model.predict(X_test)\n",
    "print('f1_score на тестовом наборе: {:.2f}'.format(metrics.f1_score(y_test, y_test_pred)))"
   ]
  },
  {
   "cell_type": "code",
   "execution_count": null,
   "id": "4e4d8413",
   "metadata": {},
   "outputs": [],
   "source": []
  }
 ],
 "metadata": {
  "kernelspec": {
   "display_name": "Python 3 (ipykernel)",
   "language": "python",
   "name": "python3"
  },
  "language_info": {
   "codemirror_mode": {
    "name": "ipython",
    "version": 3
   },
   "file_extension": ".py",
   "mimetype": "text/x-python",
   "name": "python",
   "nbconvert_exporter": "python",
   "pygments_lexer": "ipython3",
   "version": "3.9.12"
  }
 },
 "nbformat": 4,
 "nbformat_minor": 5
}
