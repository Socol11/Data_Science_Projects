{
 "cells": [
  {
   "cell_type": "markdown",
   "id": "829cb75b-f14e-4ba8-9195-7ba929a7d656",
   "metadata": {
    "id": "829cb75b-f14e-4ba8-9195-7ba929a7d656",
    "tags": []
   },
   "source": [
    "# Проект: Анализ вакансий из HeadHunter\n",
    "\n",
    "Изучаем данные о вакансиях с сайта HeadHunter."
   ]
  },
  {
   "cell_type": "code",
   "execution_count": 1,
   "id": "e8a94607",
   "metadata": {},
   "outputs": [],
   "source": [
    "#!pip install psycopg2"
   ]
  },
  {
   "cell_type": "code",
   "execution_count": 2,
   "id": "dccfde33-2452-43fb-a8a5-5c6ebc02a71d",
   "metadata": {
    "id": "dccfde33-2452-43fb-a8a5-5c6ebc02a71d"
   },
   "outputs": [],
   "source": [
    "#Импортируем нужные библиотеки\n",
    "import pandas as pd\n",
    "import psycopg2\n",
    "import requests\n",
    "from bs4 import BeautifulSoup"
   ]
  },
  {
   "cell_type": "code",
   "execution_count": 3,
   "id": "oVKH4ehvf8Ay",
   "metadata": {
    "id": "oVKH4ehvf8Ay"
   },
   "outputs": [],
   "source": [
    "#Данные для подключения к базе \n",
    "DBNAME = '*************'\n",
    "USER = '*************'\n",
    "PASSWORD = '*************'\n",
    "HOST = '*************'\n",
    "PORT = ****"
   ]
  },
  {
   "cell_type": "code",
   "execution_count": 4,
   "id": "G4X_q8KBf7SF",
   "metadata": {
    "id": "G4X_q8KBf7SF"
   },
   "outputs": [],
   "source": [
    "#Создаём подключение\n",
    "connection = psycopg2.connect(\n",
    "    dbname=DBNAME,\n",
    "    user=USER,\n",
    "    host=HOST,\n",
    "    password=PASSWORD,\n",
    "    port=PORT\n",
    ")"
   ]
  },
  {
   "cell_type": "markdown",
   "id": "0dc6476b-7a00-44f1-ac93-6e3baed33a29",
   "metadata": {
    "id": "0dc6476b-7a00-44f1-ac93-6e3baed33a29"
   },
   "source": [
    "# Юнит 3. Предварительный анализ данных"
   ]
  },
  {
   "cell_type": "markdown",
   "id": "889782b6-8d1c-410e-8920-e57f27917c64",
   "metadata": {
    "id": "889782b6-8d1c-410e-8920-e57f27917c64"
   },
   "source": [
    "1. Напишите запрос, который посчитает количество вакансий в нашей базе (вакансии находятся в таблице vacancies). "
   ]
  },
  {
   "cell_type": "code",
   "execution_count": 5,
   "id": "bc39e68e-ed02-4ee2-9235-7258a2f867a8",
   "metadata": {
    "id": "bc39e68e-ed02-4ee2-9235-7258a2f867a8"
   },
   "outputs": [],
   "source": [
    "# текст запроса\n",
    "query_3_1 = f'''\n",
    "            SELECT COUNT(*) AS vacancies_count\n",
    "            FROM public.vacancies\n",
    "'''"
   ]
  },
  {
   "cell_type": "code",
   "execution_count": 6,
   "id": "7mAwtsk4hEHY",
   "metadata": {
    "id": "7mAwtsk4hEHY"
   },
   "outputs": [
    {
     "name": "stdout",
     "output_type": "stream",
     "text": [
      "Количество вакансий в базе: 49197\n"
     ]
    }
   ],
   "source": [
    "# используем метод read_sql_query, чтобы получить результаты запроса сразу в виде датафрейма\n",
    "vac_count = pd.read_sql_query(query_3_1, connection)\n",
    "print(f'Количество вакансий в базе: {vac_count.vacancies_count[0]}')"
   ]
  },
  {
   "cell_type": "markdown",
   "id": "b583485d-1f9e-494e-ada4-80ffff7c53d6",
   "metadata": {
    "id": "b583485d-1f9e-494e-ada4-80ffff7c53d6"
   },
   "source": [
    "2. Напишите запрос, который посчитает количество работодателей (таблица employers). "
   ]
  },
  {
   "cell_type": "code",
   "execution_count": 7,
   "id": "5408c52c-3407-4a63-b25b-1aafa2322d28",
   "metadata": {
    "id": "5408c52c-3407-4a63-b25b-1aafa2322d28"
   },
   "outputs": [],
   "source": [
    "# текст запроса\n",
    "query_3_2 = f'''\n",
    "            SELECT COUNT(*) AS employers_count\n",
    "            FROM public.employers\n",
    "'''"
   ]
  },
  {
   "cell_type": "code",
   "execution_count": 8,
   "id": "jVL4eshKhdqc",
   "metadata": {
    "id": "jVL4eshKhdqc"
   },
   "outputs": [
    {
     "name": "stdout",
     "output_type": "stream",
     "text": [
      "Количество работодателей: 23501\n"
     ]
    }
   ],
   "source": [
    "# результат запроса\n",
    "emp_count = pd.read_sql_query(query_3_2, connection)\n",
    "print(f'Количество работодателей: {emp_count.employers_count[0]}')"
   ]
  },
  {
   "cell_type": "markdown",
   "id": "a2bfff1f-c975-4bf6-84be-2185d79dcb76",
   "metadata": {
    "id": "a2bfff1f-c975-4bf6-84be-2185d79dcb76"
   },
   "source": [
    "3. Посчитате с помощью запроса количество регионов (таблица areas)."
   ]
  },
  {
   "cell_type": "code",
   "execution_count": 9,
   "id": "1m8QJwBYhey6",
   "metadata": {
    "id": "1m8QJwBYhey6"
   },
   "outputs": [],
   "source": [
    "# текст запроса\n",
    "query_3_3 = f'''\n",
    "            SELECT COUNT(*) AS areas_count\n",
    "            FROM public.areas\n",
    "'''"
   ]
  },
  {
   "cell_type": "code",
   "execution_count": 10,
   "id": "EZsn9tlfhe7f",
   "metadata": {
    "id": "EZsn9tlfhe7f"
   },
   "outputs": [
    {
     "name": "stdout",
     "output_type": "stream",
     "text": [
      "Количество регионов: 1362\n"
     ]
    }
   ],
   "source": [
    "# результат запроса\n",
    "areas_count = pd.read_sql_query(query_3_3, connection)\n",
    "print(f'Количество регионов: {areas_count.areas_count[0]}')"
   ]
  },
  {
   "cell_type": "markdown",
   "id": "41bb59f3-53cc-4a67-a5bc-bedf573955e4",
   "metadata": {
    "id": "41bb59f3-53cc-4a67-a5bc-bedf573955e4"
   },
   "source": [
    "4. Посчитате с помощью запроса количество сфер деятельности в базе (таблица industries)."
   ]
  },
  {
   "cell_type": "code",
   "execution_count": 11,
   "id": "d286cf4c-707b-4cd2-9190-7ab3587d04a1",
   "metadata": {
    "id": "d286cf4c-707b-4cd2-9190-7ab3587d04a1"
   },
   "outputs": [],
   "source": [
    "# текст запроса\n",
    "query_3_4 = f'''\n",
    "            SELECT COUNT(*) AS industries_count\n",
    "            FROM public.industries\n",
    "'''"
   ]
  },
  {
   "cell_type": "code",
   "execution_count": 12,
   "id": "JYAaoZ4qhfzW",
   "metadata": {
    "id": "JYAaoZ4qhfzW"
   },
   "outputs": [
    {
     "name": "stdout",
     "output_type": "stream",
     "text": [
      "Количество сфер деятельности: 294\n"
     ]
    }
   ],
   "source": [
    "# результат запроса\n",
    "ind_count = pd.read_sql_query(query_3_4, connection)\n",
    "print(f'Количество сфер деятельности: {ind_count.industries_count[0]}')"
   ]
  },
  {
   "cell_type": "markdown",
   "id": "9a8a2181-6914-448b-85f1-38f5f18b8a93",
   "metadata": {
    "id": "9a8a2181-6914-448b-85f1-38f5f18b8a93"
   },
   "source": [
    "***"
   ]
  },
  {
   "cell_type": "markdown",
   "id": "078876c1",
   "metadata": {
    "id": "be4e9bd3-a4db-4a20-82fb-6b02fc2957e0"
   },
   "source": [
    "## Выводы по предварительному анализу данных\n",
    "\n",
    "- Данные включают 5 таблиц: vacancies, employers, areas, employers_industries, industries.\n",
    "\n",
    "- Общее количество вакансий в таблице vacancies - 49197\n",
    "\n",
    "- Общее количество работотаделей в таблице employers - 23501\n",
    "\n",
    "- Количество регионов, представленных в таблице areas - 1362\n",
    "\n",
    "- Количество сфер деятельности, представленных в таблице industries - 294"
   ]
  },
  {
   "cell_type": "markdown",
   "id": "8d62a9f3-f64e-4fe7-bdac-c4dffa16155e",
   "metadata": {
    "id": "8d62a9f3-f64e-4fe7-bdac-c4dffa16155e"
   },
   "source": [
    "# Юнит 4. Детальный анализ вакансий"
   ]
  },
  {
   "cell_type": "markdown",
   "id": "93053d3d-b284-481a-9cf7-012d7014c0e0",
   "metadata": {
    "id": "93053d3d-b284-481a-9cf7-012d7014c0e0"
   },
   "source": [
    "1. Напишите запрос, который позволит узнать, сколько (cnt) вакансий в каждом регионе (area).\n",
    "Отсортируйте по количеству вакансий в порядке убывания.\n",
    "\n",
    "Вывести пятёрку регионов-лидеров по количествю вакансий."
   ]
  },
  {
   "cell_type": "code",
   "execution_count": 13,
   "id": "3f069da6-fdc9-4ae7-b514-fafe2675efd3",
   "metadata": {
    "id": "3f069da6-fdc9-4ae7-b514-fafe2675efd3"
   },
   "outputs": [],
   "source": [
    "# текст запроса\n",
    "query_4_1 = f'''\n",
    "            SELECT COUNT(vac.name) AS vacancy_count, \n",
    "                   ar.name AS region_name\n",
    "            FROM public.vacancies AS vac\n",
    "            JOIN public.areas AS ar\n",
    "            ON vac.area_id=ar.id\n",
    "            GROUP BY region_name\n",
    "            ORDER BY vacancy_count desc\n",
    "            LIMIT 5\n",
    "'''"
   ]
  },
  {
   "cell_type": "code",
   "execution_count": 14,
   "id": "P7QL86hrjhRJ",
   "metadata": {
    "id": "P7QL86hrjhRJ"
   },
   "outputs": [
    {
     "data": {
      "text/html": [
       "<div>\n",
       "<style scoped>\n",
       "    .dataframe tbody tr th:only-of-type {\n",
       "        vertical-align: middle;\n",
       "    }\n",
       "\n",
       "    .dataframe tbody tr th {\n",
       "        vertical-align: top;\n",
       "    }\n",
       "\n",
       "    .dataframe thead th {\n",
       "        text-align: right;\n",
       "    }\n",
       "</style>\n",
       "<table border=\"1\" class=\"dataframe\">\n",
       "  <thead>\n",
       "    <tr style=\"text-align: right;\">\n",
       "      <th></th>\n",
       "      <th>vacancy_count</th>\n",
       "      <th>region_name</th>\n",
       "    </tr>\n",
       "  </thead>\n",
       "  <tbody>\n",
       "    <tr>\n",
       "      <th>0</th>\n",
       "      <td>5333</td>\n",
       "      <td>Москва</td>\n",
       "    </tr>\n",
       "    <tr>\n",
       "      <th>1</th>\n",
       "      <td>2851</td>\n",
       "      <td>Санкт-Петербург</td>\n",
       "    </tr>\n",
       "    <tr>\n",
       "      <th>2</th>\n",
       "      <td>2112</td>\n",
       "      <td>Минск</td>\n",
       "    </tr>\n",
       "    <tr>\n",
       "      <th>3</th>\n",
       "      <td>2006</td>\n",
       "      <td>Новосибирск</td>\n",
       "    </tr>\n",
       "    <tr>\n",
       "      <th>4</th>\n",
       "      <td>1892</td>\n",
       "      <td>Алматы</td>\n",
       "    </tr>\n",
       "  </tbody>\n",
       "</table>\n",
       "</div>"
      ],
      "text/plain": [
       "   vacancy_count      region_name\n",
       "0           5333           Москва\n",
       "1           2851  Санкт-Петербург\n",
       "2           2112            Минск\n",
       "3           2006      Новосибирск\n",
       "4           1892           Алматы"
      ]
     },
     "execution_count": 14,
     "metadata": {},
     "output_type": "execute_result"
    }
   ],
   "source": [
    "# результат запроса\n",
    "vac_by_areaid_count = pd.read_sql_query(query_4_1, connection)\n",
    "vac_by_areaid_count\n"
   ]
  },
  {
   "cell_type": "markdown",
   "id": "4266f0b6-1646-492a-88b4-2f6a46502135",
   "metadata": {
    "id": "4266f0b6-1646-492a-88b4-2f6a46502135"
   },
   "source": [
    "2. Напишите запрос, чтобы определить у какого количества вакансий заполнено хотя бы одно из двух полей с зарплатой."
   ]
  },
  {
   "cell_type": "code",
   "execution_count": 15,
   "id": "0c44b350-72eb-4d65-8b54-a1fc449ba9fd",
   "metadata": {
    "id": "0c44b350-72eb-4d65-8b54-a1fc449ba9fd"
   },
   "outputs": [],
   "source": [
    "# текст запроса\n",
    "query_4_2 = f'''\n",
    "            SELECT COUNT(id) AS vacancy_count\n",
    "            FROM public.vacancies\n",
    "            WHERE salary_from IS NOT Null OR salary_to IS NOT Null\n",
    "'''"
   ]
  },
  {
   "cell_type": "code",
   "execution_count": 16,
   "id": "rhvwaMDkoWTi",
   "metadata": {
    "id": "rhvwaMDkoWTi"
   },
   "outputs": [
    {
     "name": "stdout",
     "output_type": "stream",
     "text": [
      "Количество вакансий с заполненными полями с зарплатой: 24073\n"
     ]
    }
   ],
   "source": [
    "# результат запроса\n",
    "not_null_salary_count = pd.read_sql_query(query_4_2, connection)\n",
    "print(f'Количество вакансий с заполненными полями с зарплатой: {not_null_salary_count.vacancy_count[0]}')"
   ]
  },
  {
   "cell_type": "markdown",
   "id": "635c4d5d-f323-4c66-b428-50a088120aa0",
   "metadata": {
    "id": "635c4d5d-f323-4c66-b428-50a088120aa0"
   },
   "source": [
    "3. Найдите средние значения для нижней и верхней границы зарплатной вилки. Округлите значения до целого."
   ]
  },
  {
   "cell_type": "code",
   "execution_count": 17,
   "id": "603cdbe4-0ec3-4106-8eaf-c73fcdd29165",
   "metadata": {
    "id": "603cdbe4-0ec3-4106-8eaf-c73fcdd29165"
   },
   "outputs": [],
   "source": [
    "# текст запроса\n",
    "query_4_3 = f'''\n",
    "            SELECT ROUND(AVG(salary_from), 0) AS avg_min_salary, \n",
    "                   ROUND(AVG(salary_to), 0) AS avg_max_salary\n",
    "            FROM public.vacancies\n",
    "'''"
   ]
  },
  {
   "cell_type": "code",
   "execution_count": 18,
   "id": "pswpAb66ovZZ",
   "metadata": {
    "id": "pswpAb66ovZZ"
   },
   "outputs": [
    {
     "name": "stdout",
     "output_type": "stream",
     "text": [
      "Среднее значение для нижней границы зарплатной вилки: 71065.0\n",
      "Среднее значение для верхней границы зарплатной вилки: 110537.0\n"
     ]
    }
   ],
   "source": [
    "# результат запроса\n",
    "avg_salaryes = pd.read_sql_query(query_4_3, connection)\n",
    "avg_salaryes\n",
    "print(f'Среднее значение для нижней границы зарплатной вилки: {avg_salaryes.avg_min_salary[0]}')\n",
    "print(f'Среднее значение для верхней границы зарплатной вилки: {avg_salaryes.avg_max_salary[0]}')"
   ]
  },
  {
   "cell_type": "markdown",
   "id": "f3fdaec9-5fd3-4260-9cf5-1d7406b628a5",
   "metadata": {
    "id": "f3fdaec9-5fd3-4260-9cf5-1d7406b628a5"
   },
   "source": [
    "4. Напишите запрос, который выведет количество вакансий для каждого сочетания типа рабочего графика (schedule) и типа трудоустройства (employment), используемого в вакансиях. Результат отсортируйте по убыванию количества.\n"
   ]
  },
  {
   "cell_type": "code",
   "execution_count": 19,
   "id": "1ea710ec-871b-431e-9462-c7d0fd87011b",
   "metadata": {
    "id": "1ea710ec-871b-431e-9462-c7d0fd87011b"
   },
   "outputs": [],
   "source": [
    "# текст запроса\n",
    "query_4_4 = f'''\n",
    "            SELECT COUNT(id) AS vacancy_count, \n",
    "                   schedule, \n",
    "                   employment\n",
    "            FROM public.vacancies\n",
    "            GROUP BY schedule, employment\n",
    "            ORDER BY vacancy_count DESC\n",
    "            LIMIT 5\n",
    "'''"
   ]
  },
  {
   "cell_type": "code",
   "execution_count": 20,
   "id": "lGUVqavdo4JQ",
   "metadata": {
    "id": "lGUVqavdo4JQ"
   },
   "outputs": [
    {
     "data": {
      "text/html": [
       "<div>\n",
       "<style scoped>\n",
       "    .dataframe tbody tr th:only-of-type {\n",
       "        vertical-align: middle;\n",
       "    }\n",
       "\n",
       "    .dataframe tbody tr th {\n",
       "        vertical-align: top;\n",
       "    }\n",
       "\n",
       "    .dataframe thead th {\n",
       "        text-align: right;\n",
       "    }\n",
       "</style>\n",
       "<table border=\"1\" class=\"dataframe\">\n",
       "  <thead>\n",
       "    <tr style=\"text-align: right;\">\n",
       "      <th></th>\n",
       "      <th>vacancy_count</th>\n",
       "      <th>schedule</th>\n",
       "      <th>employment</th>\n",
       "    </tr>\n",
       "  </thead>\n",
       "  <tbody>\n",
       "    <tr>\n",
       "      <th>0</th>\n",
       "      <td>35367</td>\n",
       "      <td>Полный день</td>\n",
       "      <td>Полная занятость</td>\n",
       "    </tr>\n",
       "    <tr>\n",
       "      <th>1</th>\n",
       "      <td>7802</td>\n",
       "      <td>Удаленная работа</td>\n",
       "      <td>Полная занятость</td>\n",
       "    </tr>\n",
       "    <tr>\n",
       "      <th>2</th>\n",
       "      <td>1593</td>\n",
       "      <td>Гибкий график</td>\n",
       "      <td>Полная занятость</td>\n",
       "    </tr>\n",
       "    <tr>\n",
       "      <th>3</th>\n",
       "      <td>1312</td>\n",
       "      <td>Удаленная работа</td>\n",
       "      <td>Частичная занятость</td>\n",
       "    </tr>\n",
       "    <tr>\n",
       "      <th>4</th>\n",
       "      <td>940</td>\n",
       "      <td>Сменный график</td>\n",
       "      <td>Полная занятость</td>\n",
       "    </tr>\n",
       "  </tbody>\n",
       "</table>\n",
       "</div>"
      ],
      "text/plain": [
       "   vacancy_count          schedule           employment\n",
       "0          35367       Полный день     Полная занятость\n",
       "1           7802  Удаленная работа     Полная занятость\n",
       "2           1593     Гибкий график     Полная занятость\n",
       "3           1312  Удаленная работа  Частичная занятость\n",
       "4            940    Сменный график     Полная занятость"
      ]
     },
     "execution_count": 20,
     "metadata": {},
     "output_type": "execute_result"
    }
   ],
   "source": [
    "# результат запроса\n",
    "vacancy_count = pd.read_sql_query(query_4_4, connection)\n",
    "vacancy_count"
   ]
  },
  {
   "cell_type": "markdown",
   "id": "0136ffee-0ead-4a6b-b608-61d1c753a438",
   "metadata": {
    "id": "0136ffee-0ead-4a6b-b608-61d1c753a438"
   },
   "source": [
    "5. Напишите запрос, выводящий значения поля Требуемый опыт работы (experience) в порядке возрастания количества вакансий, в которых указан данный вариант опыта. "
   ]
  },
  {
   "cell_type": "code",
   "execution_count": 21,
   "id": "5b3a8e79-f7ab-4008-b767-12aea3a205ea",
   "metadata": {
    "id": "5b3a8e79-f7ab-4008-b767-12aea3a205ea"
   },
   "outputs": [],
   "source": [
    "# текст запроса\n",
    "query_4_5 = f'''\n",
    "            SELECT experience, \n",
    "                   COUNT(name) AS vacancy_count\n",
    "            FROM public.vacancies\n",
    "            GROUP BY experience\n",
    "            ORDER BY vacancy_count ASC\n",
    "'''"
   ]
  },
  {
   "cell_type": "code",
   "execution_count": 22,
   "id": "3Is64Y-hpDpq",
   "metadata": {
    "id": "3Is64Y-hpDpq"
   },
   "outputs": [
    {
     "data": {
      "text/html": [
       "<div>\n",
       "<style scoped>\n",
       "    .dataframe tbody tr th:only-of-type {\n",
       "        vertical-align: middle;\n",
       "    }\n",
       "\n",
       "    .dataframe tbody tr th {\n",
       "        vertical-align: top;\n",
       "    }\n",
       "\n",
       "    .dataframe thead th {\n",
       "        text-align: right;\n",
       "    }\n",
       "</style>\n",
       "<table border=\"1\" class=\"dataframe\">\n",
       "  <thead>\n",
       "    <tr style=\"text-align: right;\">\n",
       "      <th></th>\n",
       "      <th>experience</th>\n",
       "      <th>vacancy_count</th>\n",
       "    </tr>\n",
       "  </thead>\n",
       "  <tbody>\n",
       "    <tr>\n",
       "      <th>0</th>\n",
       "      <td>Более 6 лет</td>\n",
       "      <td>1337</td>\n",
       "    </tr>\n",
       "    <tr>\n",
       "      <th>1</th>\n",
       "      <td>Нет опыта</td>\n",
       "      <td>7197</td>\n",
       "    </tr>\n",
       "    <tr>\n",
       "      <th>2</th>\n",
       "      <td>От 3 до 6 лет</td>\n",
       "      <td>14511</td>\n",
       "    </tr>\n",
       "    <tr>\n",
       "      <th>3</th>\n",
       "      <td>От 1 года до 3 лет</td>\n",
       "      <td>26152</td>\n",
       "    </tr>\n",
       "  </tbody>\n",
       "</table>\n",
       "</div>"
      ],
      "text/plain": [
       "           experience  vacancy_count\n",
       "0         Более 6 лет           1337\n",
       "1           Нет опыта           7197\n",
       "2       От 3 до 6 лет          14511\n",
       "3  От 1 года до 3 лет          26152"
      ]
     },
     "execution_count": 22,
     "metadata": {},
     "output_type": "execute_result"
    }
   ],
   "source": [
    "# результат запроса\n",
    "experience_sorted = pd.read_sql_query(query_4_5, connection)\n",
    "experience_sorted\n"
   ]
  },
  {
   "cell_type": "markdown",
   "id": "oq2b7n1QpIka",
   "metadata": {
    "id": "oq2b7n1QpIka"
   },
   "source": [
    "***"
   ]
  },
  {
   "cell_type": "markdown",
   "id": "42016abf",
   "metadata": {
    "id": "e91f87ed-e25c-4f96-9f92-b642e8c0b4fa"
   },
   "source": [
    "## Выводы по детальному анализу вакансий\n",
    "\n",
    "- Больше всего вакансий предлагается в таких городах, как: Москва, Санкт-Петербург, Минск, Новосибирск, Алматы. Причём, в Москве вакансий в два раза больше, чем в ближайшем к ней по числу вакансий Санкт-Петербурге.\n",
    "\n",
    "- Данные о зарплате заполнены примерно у половины всех вакансий. \n",
    "\n",
    "- Средние значения нижней и верхней границ по зарплатам: 71065 и 110537\n",
    "\n",
    "- Наиболее популярные сочетания типа рабочего графика и типа трудоустройства следующие: Полный день - Полная занятость, Удалённая работа - Полная занятость.\n",
    "\n",
    "- Требования к опыту во всей совокупности изучаемых вакансий распределились так: больше всего вакансий требуют опыт от 1 до 3 лет, в два раза меньше вакансий с требованием к опыту от 3 до 6 лет, ещё в два раза меньше вакансий для соискателей без опыта работы, и лишь около 2.5% всех вакансий для соискателей с опытом более 6 лет.\n"
   ]
  },
  {
   "cell_type": "markdown",
   "id": "7ea20ab6-04a7-40a0-adec-443a0e5a42c3",
   "metadata": {
    "id": "7ea20ab6-04a7-40a0-adec-443a0e5a42c3"
   },
   "source": [
    "# Юнит 5. Анализ работодателей"
   ]
  },
  {
   "cell_type": "markdown",
   "id": "968aed80-74ef-4ffb-b5bf-c65b84e9caea",
   "metadata": {
    "id": "968aed80-74ef-4ffb-b5bf-c65b84e9caea"
   },
   "source": [
    "1. Напишите запрос, который позволит узнать, какие работодатели находятся на первом и пятом месте по количеству вакансий."
   ]
  },
  {
   "cell_type": "code",
   "execution_count": 23,
   "id": "f2d62796-d400-4ec1-a675-88112739a50e",
   "metadata": {
    "id": "f2d62796-d400-4ec1-a675-88112739a50e"
   },
   "outputs": [],
   "source": [
    "# текст запроса\n",
    "query_5_1 = f'''\n",
    "            SELECT emp.name AS emp_name,\n",
    "                   COUNT(vac.name) AS vac_count\n",
    "            FROM public.vacancies AS vac\n",
    "            JOIN public.employers AS emp\n",
    "            ON vac.employer_id=emp.id\n",
    "            GROUP BY emp_name\n",
    "            ORDER BY vac_count DESC\n",
    "            LIMIT 5\n",
    "'''"
   ]
  },
  {
   "cell_type": "code",
   "execution_count": 24,
   "id": "64tOMkAxqkQk",
   "metadata": {
    "id": "64tOMkAxqkQk"
   },
   "outputs": [
    {
     "data": {
      "text/html": [
       "<div>\n",
       "<style scoped>\n",
       "    .dataframe tbody tr th:only-of-type {\n",
       "        vertical-align: middle;\n",
       "    }\n",
       "\n",
       "    .dataframe tbody tr th {\n",
       "        vertical-align: top;\n",
       "    }\n",
       "\n",
       "    .dataframe thead th {\n",
       "        text-align: right;\n",
       "    }\n",
       "</style>\n",
       "<table border=\"1\" class=\"dataframe\">\n",
       "  <thead>\n",
       "    <tr style=\"text-align: right;\">\n",
       "      <th></th>\n",
       "      <th>emp_name</th>\n",
       "      <th>vac_count</th>\n",
       "    </tr>\n",
       "  </thead>\n",
       "  <tbody>\n",
       "    <tr>\n",
       "      <th>0</th>\n",
       "      <td>Яндекс</td>\n",
       "      <td>1933</td>\n",
       "    </tr>\n",
       "    <tr>\n",
       "      <th>1</th>\n",
       "      <td>Ростелеком</td>\n",
       "      <td>491</td>\n",
       "    </tr>\n",
       "    <tr>\n",
       "      <th>2</th>\n",
       "      <td>Тинькофф</td>\n",
       "      <td>444</td>\n",
       "    </tr>\n",
       "    <tr>\n",
       "      <th>3</th>\n",
       "      <td>СБЕР</td>\n",
       "      <td>428</td>\n",
       "    </tr>\n",
       "    <tr>\n",
       "      <th>4</th>\n",
       "      <td>Газпром нефть</td>\n",
       "      <td>331</td>\n",
       "    </tr>\n",
       "  </tbody>\n",
       "</table>\n",
       "</div>"
      ],
      "text/plain": [
       "        emp_name  vac_count\n",
       "0         Яндекс       1933\n",
       "1     Ростелеком        491\n",
       "2       Тинькофф        444\n",
       "3           СБЕР        428\n",
       "4  Газпром нефть        331"
      ]
     },
     "execution_count": 24,
     "metadata": {},
     "output_type": "execute_result"
    }
   ],
   "source": [
    "# результат запроса\n",
    "emp_count_vac = pd.read_sql_query(query_5_1, connection)\n",
    "emp_count_vac"
   ]
  },
  {
   "cell_type": "markdown",
   "id": "68377cfc-b378-43dc-ab7d-1195abf2c515",
   "metadata": {
    "id": "68377cfc-b378-43dc-ab7d-1195abf2c515"
   },
   "source": [
    "2. Напишите запрос, который для каждого региона выведет количество работодателей и вакансий в нём.\n",
    "Среди регионов, в которых нет вакансий, найдите тот, в котором наибольшее количество работодателей.\n"
   ]
  },
  {
   "cell_type": "code",
   "execution_count": 25,
   "id": "dd7df27a-e3e8-412e-a21a-5d389b71e891",
   "metadata": {
    "id": "dd7df27a-e3e8-412e-a21a-5d389b71e891"
   },
   "outputs": [],
   "source": [
    "\n",
    "query_5_2 = f'''\n",
    "            SELECT ar.name AS region,\n",
    "                   COUNT(DISTINCT(emp.name)) AS employer_count,\n",
    "                   COUNT(DISTINCT(vac.name)) AS vacancies_count\n",
    "            FROM public.areas AS ar\n",
    "            LEFT JOIN public.vacancies AS vac\n",
    "            ON ar.id=vac.area_id\n",
    "            LEFT JOIN public.employers AS emp\n",
    "            ON emp.area=ar.id\n",
    "            WHERE vac.name IS Null\n",
    "            \n",
    "            GROUP BY region\n",
    "            ORDER BY employer_count DESC\n",
    "            LIMIT 5\n",
    "                       \n",
    "'''"
   ]
  },
  {
   "cell_type": "code",
   "execution_count": 26,
   "id": "x1ikWbydrbf6",
   "metadata": {
    "id": "x1ikWbydrbf6"
   },
   "outputs": [
    {
     "data": {
      "text/html": [
       "<div>\n",
       "<style scoped>\n",
       "    .dataframe tbody tr th:only-of-type {\n",
       "        vertical-align: middle;\n",
       "    }\n",
       "\n",
       "    .dataframe tbody tr th {\n",
       "        vertical-align: top;\n",
       "    }\n",
       "\n",
       "    .dataframe thead th {\n",
       "        text-align: right;\n",
       "    }\n",
       "</style>\n",
       "<table border=\"1\" class=\"dataframe\">\n",
       "  <thead>\n",
       "    <tr style=\"text-align: right;\">\n",
       "      <th></th>\n",
       "      <th>region</th>\n",
       "      <th>employer_count</th>\n",
       "      <th>vacancies_count</th>\n",
       "    </tr>\n",
       "  </thead>\n",
       "  <tbody>\n",
       "    <tr>\n",
       "      <th>0</th>\n",
       "      <td>Россия</td>\n",
       "      <td>410</td>\n",
       "      <td>0</td>\n",
       "    </tr>\n",
       "    <tr>\n",
       "      <th>1</th>\n",
       "      <td>Казахстан</td>\n",
       "      <td>207</td>\n",
       "      <td>0</td>\n",
       "    </tr>\n",
       "    <tr>\n",
       "      <th>2</th>\n",
       "      <td>Московская область</td>\n",
       "      <td>75</td>\n",
       "      <td>0</td>\n",
       "    </tr>\n",
       "    <tr>\n",
       "      <th>3</th>\n",
       "      <td>Краснодарский край</td>\n",
       "      <td>19</td>\n",
       "      <td>0</td>\n",
       "    </tr>\n",
       "    <tr>\n",
       "      <th>4</th>\n",
       "      <td>Беларусь</td>\n",
       "      <td>18</td>\n",
       "      <td>0</td>\n",
       "    </tr>\n",
       "  </tbody>\n",
       "</table>\n",
       "</div>"
      ],
      "text/plain": [
       "               region  employer_count  vacancies_count\n",
       "0              Россия             410                0\n",
       "1           Казахстан             207                0\n",
       "2  Московская область              75                0\n",
       "3  Краснодарский край              19                0\n",
       "4            Беларусь              18                0"
      ]
     },
     "execution_count": 26,
     "metadata": {},
     "output_type": "execute_result"
    }
   ],
   "source": [
    "# результат запроса\n",
    "area_emp_vac_count = pd.read_sql_query(query_5_2, connection)\n",
    "area_emp_vac_count"
   ]
  },
  {
   "cell_type": "markdown",
   "id": "f2fe0acb-ab1a-4e15-9326-2560e22d73c1",
   "metadata": {
    "id": "f2fe0acb-ab1a-4e15-9326-2560e22d73c1"
   },
   "source": [
    "3. Для каждого работодателя посчитайте количество регионов, в которых он публикует свои вакансии. Отсортируйте результат по убыванию количества.\n"
   ]
  },
  {
   "cell_type": "code",
   "execution_count": 27,
   "id": "fcc8ab84",
   "metadata": {},
   "outputs": [],
   "source": [
    "query_5_3 = f'''\n",
    "            SELECT emp.name AS emp_name,\n",
    "                   COUNT(DISTINCT(vac.area_id)) AS area_count\n",
    "            \n",
    "            FROM public.vacancies AS vac\n",
    "            LEFT JOIN public.employers AS emp\n",
    "            ON vac.employer_id=emp.id\n",
    "            GROUP BY emp.name\n",
    "            ORDER BY area_count DESC\n",
    "            LIMIT 5\n",
    "'''"
   ]
  },
  {
   "cell_type": "code",
   "execution_count": 28,
   "id": "1EIvX3HasH4F",
   "metadata": {
    "id": "1EIvX3HasH4F"
   },
   "outputs": [
    {
     "data": {
      "text/html": [
       "<div>\n",
       "<style scoped>\n",
       "    .dataframe tbody tr th:only-of-type {\n",
       "        vertical-align: middle;\n",
       "    }\n",
       "\n",
       "    .dataframe tbody tr th {\n",
       "        vertical-align: top;\n",
       "    }\n",
       "\n",
       "    .dataframe thead th {\n",
       "        text-align: right;\n",
       "    }\n",
       "</style>\n",
       "<table border=\"1\" class=\"dataframe\">\n",
       "  <thead>\n",
       "    <tr style=\"text-align: right;\">\n",
       "      <th></th>\n",
       "      <th>emp_name</th>\n",
       "      <th>area_count</th>\n",
       "    </tr>\n",
       "  </thead>\n",
       "  <tbody>\n",
       "    <tr>\n",
       "      <th>0</th>\n",
       "      <td>Яндекс</td>\n",
       "      <td>181</td>\n",
       "    </tr>\n",
       "    <tr>\n",
       "      <th>1</th>\n",
       "      <td>Ростелеком</td>\n",
       "      <td>152</td>\n",
       "    </tr>\n",
       "    <tr>\n",
       "      <th>2</th>\n",
       "      <td>Спецремонт</td>\n",
       "      <td>116</td>\n",
       "    </tr>\n",
       "    <tr>\n",
       "      <th>3</th>\n",
       "      <td>Поляков Денис Иванович</td>\n",
       "      <td>88</td>\n",
       "    </tr>\n",
       "    <tr>\n",
       "      <th>4</th>\n",
       "      <td>ООО ЕФИН</td>\n",
       "      <td>71</td>\n",
       "    </tr>\n",
       "  </tbody>\n",
       "</table>\n",
       "</div>"
      ],
      "text/plain": [
       "                 emp_name  area_count\n",
       "0                  Яндекс         181\n",
       "1              Ростелеком         152\n",
       "2              Спецремонт         116\n",
       "3  Поляков Денис Иванович          88\n",
       "4               ООО ЕФИН           71"
      ]
     },
     "execution_count": 28,
     "metadata": {},
     "output_type": "execute_result"
    }
   ],
   "source": [
    "# результат запроса\n",
    "employers = pd.read_sql_query(query_5_3, connection)\n",
    "employers"
   ]
  },
  {
   "cell_type": "markdown",
   "id": "eab2206d-d95b-468b-8e5f-34381abf0ce7",
   "metadata": {
    "id": "eab2206d-d95b-468b-8e5f-34381abf0ce7"
   },
   "source": [
    "4. Напишите запрос для подсчёта количества работодателей, у которых не указана сфера деятельности. \n"
   ]
  },
  {
   "cell_type": "code",
   "execution_count": 29,
   "id": "d95e3767",
   "metadata": {},
   "outputs": [],
   "source": [
    "#Для этого сравним две таблицы: \n",
    "#- в таблице employers_industries может не быть записей о работодателях из таблицы employers.\n",
    "#- поэтому объединим их с помощью left join (employers - левая таблица) и найдём строки, в которых industry_id имеет значение Null\n",
    "#- посчитаем количество строк, соответствующих этому условию \n",
    "\n",
    "query_5_4 = f'''\n",
    "            SELECT COUNT(*) AS emp_count\n",
    "            FROM public.employers AS emp\n",
    "            LEFT JOIN public.employers_industries AS emp_ind\n",
    "            ON emp.id=emp_ind.employer_id\n",
    "            WHERE industry_id IS Null\n",
    "'''"
   ]
  },
  {
   "cell_type": "code",
   "execution_count": 30,
   "id": "Dp_yCx6ysQSu",
   "metadata": {
    "id": "Dp_yCx6ysQSu"
   },
   "outputs": [
    {
     "name": "stdout",
     "output_type": "stream",
     "text": [
      "Число работодателей с неуказанной сферой деятельности: 8419\n"
     ]
    }
   ],
   "source": [
    "# результат запроса\n",
    "ind = pd.read_sql_query(query_5_4, connection)\n",
    "ind\n",
    "print(f'Число работодателей с неуказанной сферой деятельности: {ind.emp_count[0]}')"
   ]
  },
  {
   "cell_type": "markdown",
   "id": "0112af31-f6b0-4e3b-82ab-71296e752e5e",
   "metadata": {
    "id": "0112af31-f6b0-4e3b-82ab-71296e752e5e"
   },
   "source": [
    "5. Напишите запрос, чтобы узнать название компании, находящейся на третьем месте в алфавитном списке (по названию) компаний, у которых указано четыре сферы деятельности. "
   ]
  },
  {
   "cell_type": "code",
   "execution_count": 31,
   "id": "29a20755",
   "metadata": {},
   "outputs": [],
   "source": [
    "query_5_5 = f'''\n",
    "            SELECT name,\n",
    "                   COUNT(industry_id) AS ind_count\n",
    "            FROM public.employers AS emp\n",
    "            LEFT JOIN public.employers_industries AS emp_ind\n",
    "            ON emp.id=emp_ind.employer_id\n",
    "            GROUP BY name\n",
    "            HAVING COUNT(industry_id) = 4\n",
    "            ORDER BY name\n",
    "            LIMIT 3\n",
    "'''"
   ]
  },
  {
   "cell_type": "code",
   "execution_count": 32,
   "id": "xsPtpp8EsaED",
   "metadata": {
    "id": "xsPtpp8EsaED"
   },
   "outputs": [
    {
     "data": {
      "text/html": [
       "<div>\n",
       "<style scoped>\n",
       "    .dataframe tbody tr th:only-of-type {\n",
       "        vertical-align: middle;\n",
       "    }\n",
       "\n",
       "    .dataframe tbody tr th {\n",
       "        vertical-align: top;\n",
       "    }\n",
       "\n",
       "    .dataframe thead th {\n",
       "        text-align: right;\n",
       "    }\n",
       "</style>\n",
       "<table border=\"1\" class=\"dataframe\">\n",
       "  <thead>\n",
       "    <tr style=\"text-align: right;\">\n",
       "      <th></th>\n",
       "      <th>name</th>\n",
       "      <th>ind_count</th>\n",
       "    </tr>\n",
       "  </thead>\n",
       "  <tbody>\n",
       "    <tr>\n",
       "      <th>0</th>\n",
       "      <td>101 Интернет</td>\n",
       "      <td>4</td>\n",
       "    </tr>\n",
       "    <tr>\n",
       "      <th>1</th>\n",
       "      <td>21vek.by</td>\n",
       "      <td>4</td>\n",
       "    </tr>\n",
       "    <tr>\n",
       "      <th>2</th>\n",
       "      <td>2ГИС</td>\n",
       "      <td>4</td>\n",
       "    </tr>\n",
       "  </tbody>\n",
       "</table>\n",
       "</div>"
      ],
      "text/plain": [
       "           name  ind_count\n",
       "0  101 Интернет          4\n",
       "1      21vek.by          4\n",
       "2          2ГИС          4"
      ]
     },
     "metadata": {},
     "output_type": "display_data"
    },
    {
     "name": "stdout",
     "output_type": "stream",
     "text": [
      "\n",
      "Название третьей компании: 2ГИС\n"
     ]
    }
   ],
   "source": [
    "# результат запроса\n",
    "ind_4 = pd.read_sql_query(query_5_5, connection)\n",
    "display(ind_4)\n",
    "print()\n",
    "print(f'Название третьей компании: {ind_4.name[2]}')\n"
   ]
  },
  {
   "cell_type": "markdown",
   "id": "3bfcfdaf-755d-4d2b-8ed8-326201dc07ab",
   "metadata": {
    "id": "3bfcfdaf-755d-4d2b-8ed8-326201dc07ab"
   },
   "source": [
    "6. С помощью запроса выясните, у какого количества работодателей в качестве сферы деятельности указана Разработка программного обеспечения.\n"
   ]
  },
  {
   "cell_type": "code",
   "execution_count": 33,
   "id": "91466f9d",
   "metadata": {},
   "outputs": [],
   "source": [
    "query_5_6 = f'''\n",
    "            SELECT COUNT(*) developers_count\n",
    "            FROM public.employers AS emp\n",
    "            LEFT JOIN public.employers_industries AS emp_ind\n",
    "            ON emp.id=emp_ind.employer_id\n",
    "            LEFT JOIN public.industries AS ind\n",
    "            ON emp_ind.industry_id=ind.id\n",
    "            WHERE ind.name='Разработка программного обеспечения'\n",
    "'''"
   ]
  },
  {
   "cell_type": "code",
   "execution_count": 34,
   "id": "H72qxWM0shPR",
   "metadata": {
    "id": "H72qxWM0shPR"
   },
   "outputs": [
    {
     "name": "stdout",
     "output_type": "stream",
     "text": [
      "Количество работодателей в области \"Разработка программного обеспечения\": 3553\n"
     ]
    }
   ],
   "source": [
    "# результат запроса\n",
    "developers = pd.read_sql_query(query_5_6, connection)\n",
    "print(f'Количество работодателей в области \"Разработка программного обеспечения\": {developers.developers_count[0]}')"
   ]
  },
  {
   "cell_type": "markdown",
   "id": "7b02bb86-0546-40fb-94a4-242f050a5c57",
   "metadata": {
    "id": "7b02bb86-0546-40fb-94a4-242f050a5c57"
   },
   "source": [
    "7. Для компании «Яндекс» выведите список регионов-миллионников, в которых представлены вакансии компании, вместе с количеством вакансий в этих регионах. Также добавьте строку Total с общим количеством вакансий компании. Результат отсортируйте по возрастанию количества.\n",
    "\n",
    "Список городов-милионников надо взять [отсюда](https://ru.wikipedia.org/wiki/%D0%93%D0%BE%D1%80%D0%BE%D0%B4%D0%B0-%D0%BC%D0%B8%D0%BB%D0%BB%D0%B8%D0%BE%D0%BD%D0%B5%D1%80%D1%8B_%D0%A0%D0%BE%D1%81%D1%81%D0%B8%D0%B8). \n"
   ]
  },
  {
   "cell_type": "code",
   "execution_count": 35,
   "id": "b7f89700",
   "metadata": {
    "scrolled": true
   },
   "outputs": [
    {
     "name": "stdout",
     "output_type": "stream",
     "text": [
      "('Москва', 'Санкт-Петербург', 'Новосибирск', 'Екатеринбург', 'Казань', 'Нижний Новгород', 'Челябинск', 'Красноярск', 'Самара', 'Уфа', 'Ростов-на-Дону', 'Омск', 'Краснодар', 'Воронеж', 'Пермь', 'Волгоград')\n"
     ]
    }
   ],
   "source": [
    "#Получим кортеж с перечнем городов-миллионников\n",
    "URL = 'https://ru.wikipedia.org/wiki/%D0%93%D0%BE%D1%80%D0%BE%D0%B4%D0%B0-%D0%BC%D0%B8%D0%BB%D0%BB%D0%B8%D0%BE%D0%BD%D0%B5%D1%80%D1%8B_%D0%A0%D0%BE%D1%81%D1%81%D0%B8%D0%B8'\n",
    "response = requests.get(URL, headers={'User-Agent': 'Mozilla/5.0 (Windows NT 10.0; Win64; x64) AppleWebKit/537.36 (KHTML, like Gecko) Chrome/108.0.0.0 Safari/537.36'})\n",
    "page = BeautifulSoup(response.text, 'html.parser') \n",
    "links = page.find_all('a')\n",
    "cities = tuple([link.text for link in links[915:931]]) #переведём в кортеж для обработки в SQL запросе\n",
    "print(cities)"
   ]
  },
  {
   "cell_type": "code",
   "execution_count": 36,
   "id": "fc3c8d9b",
   "metadata": {},
   "outputs": [],
   "source": [
    "# текст запроса\n",
    "#cities = ('Москва','Санкт-Петербург','Новосибирск','Екатеринбург','Казань','Нижний Новгород',\n",
    "#          'Челябинск','Красноярск','Самара','Уфа','Ростов-на-Дону','Омск','Краснодар','Воронеж','Пермь','Волгоград')\n",
    "\n",
    "query_16 = f'''\n",
    "            WITH emp_cities AS \n",
    "            (SELECT ar.name AS city,\n",
    "                    COUNT(*) AS vacancy_count\n",
    "            \n",
    "            FROM public.vacancies AS vac\n",
    "            LEFT JOIN public.employers AS emp\n",
    "            ON emp.id=vac.employer_id\n",
    "            LEFT JOIN public.areas AS ar\n",
    "            ON ar.id=vac.area_id\n",
    "            \n",
    "            WHERE emp.name='Яндекс' AND ar.name IN {cities}\n",
    "            \n",
    "            GROUP BY ar.name\n",
    "            ORDER BY vacancy_count ASC)\n",
    "            \n",
    "            --Создаём итоговую таблицу с суммой по колонке--\n",
    "            \n",
    "            SELECT * from emp_cities\n",
    "            UNION ALL\n",
    "            SELECT 'Total',\n",
    "                    SUM(vacancy_count) \n",
    "            FROM emp_cities\n",
    "'''"
   ]
  },
  {
   "cell_type": "code",
   "execution_count": 37,
   "id": "8ce4d385",
   "metadata": {},
   "outputs": [
    {
     "data": {
      "text/html": [
       "<div>\n",
       "<style scoped>\n",
       "    .dataframe tbody tr th:only-of-type {\n",
       "        vertical-align: middle;\n",
       "    }\n",
       "\n",
       "    .dataframe tbody tr th {\n",
       "        vertical-align: top;\n",
       "    }\n",
       "\n",
       "    .dataframe thead th {\n",
       "        text-align: right;\n",
       "    }\n",
       "</style>\n",
       "<table border=\"1\" class=\"dataframe\">\n",
       "  <thead>\n",
       "    <tr style=\"text-align: right;\">\n",
       "      <th></th>\n",
       "      <th>city</th>\n",
       "      <th>vacancy_count</th>\n",
       "    </tr>\n",
       "  </thead>\n",
       "  <tbody>\n",
       "    <tr>\n",
       "      <th>0</th>\n",
       "      <td>Омск</td>\n",
       "      <td>21.0</td>\n",
       "    </tr>\n",
       "    <tr>\n",
       "      <th>1</th>\n",
       "      <td>Челябинск</td>\n",
       "      <td>22.0</td>\n",
       "    </tr>\n",
       "    <tr>\n",
       "      <th>2</th>\n",
       "      <td>Красноярск</td>\n",
       "      <td>23.0</td>\n",
       "    </tr>\n",
       "    <tr>\n",
       "      <th>3</th>\n",
       "      <td>Волгоград</td>\n",
       "      <td>24.0</td>\n",
       "    </tr>\n",
       "    <tr>\n",
       "      <th>4</th>\n",
       "      <td>Пермь</td>\n",
       "      <td>25.0</td>\n",
       "    </tr>\n",
       "    <tr>\n",
       "      <th>5</th>\n",
       "      <td>Казань</td>\n",
       "      <td>25.0</td>\n",
       "    </tr>\n",
       "    <tr>\n",
       "      <th>6</th>\n",
       "      <td>Ростов-на-Дону</td>\n",
       "      <td>25.0</td>\n",
       "    </tr>\n",
       "    <tr>\n",
       "      <th>7</th>\n",
       "      <td>Уфа</td>\n",
       "      <td>26.0</td>\n",
       "    </tr>\n",
       "    <tr>\n",
       "      <th>8</th>\n",
       "      <td>Самара</td>\n",
       "      <td>26.0</td>\n",
       "    </tr>\n",
       "    <tr>\n",
       "      <th>9</th>\n",
       "      <td>Краснодар</td>\n",
       "      <td>30.0</td>\n",
       "    </tr>\n",
       "    <tr>\n",
       "      <th>10</th>\n",
       "      <td>Воронеж</td>\n",
       "      <td>32.0</td>\n",
       "    </tr>\n",
       "    <tr>\n",
       "      <th>11</th>\n",
       "      <td>Новосибирск</td>\n",
       "      <td>35.0</td>\n",
       "    </tr>\n",
       "    <tr>\n",
       "      <th>12</th>\n",
       "      <td>Нижний Новгород</td>\n",
       "      <td>36.0</td>\n",
       "    </tr>\n",
       "    <tr>\n",
       "      <th>13</th>\n",
       "      <td>Екатеринбург</td>\n",
       "      <td>39.0</td>\n",
       "    </tr>\n",
       "    <tr>\n",
       "      <th>14</th>\n",
       "      <td>Санкт-Петербург</td>\n",
       "      <td>42.0</td>\n",
       "    </tr>\n",
       "    <tr>\n",
       "      <th>15</th>\n",
       "      <td>Москва</td>\n",
       "      <td>54.0</td>\n",
       "    </tr>\n",
       "    <tr>\n",
       "      <th>16</th>\n",
       "      <td>Total</td>\n",
       "      <td>485.0</td>\n",
       "    </tr>\n",
       "  </tbody>\n",
       "</table>\n",
       "</div>"
      ],
      "text/plain": [
       "               city  vacancy_count\n",
       "0              Омск           21.0\n",
       "1         Челябинск           22.0\n",
       "2        Красноярск           23.0\n",
       "3         Волгоград           24.0\n",
       "4             Пермь           25.0\n",
       "5            Казань           25.0\n",
       "6    Ростов-на-Дону           25.0\n",
       "7               Уфа           26.0\n",
       "8            Самара           26.0\n",
       "9         Краснодар           30.0\n",
       "10          Воронеж           32.0\n",
       "11      Новосибирск           35.0\n",
       "12  Нижний Новгород           36.0\n",
       "13     Екатеринбург           39.0\n",
       "14  Санкт-Петербург           42.0\n",
       "15           Москва           54.0\n",
       "16            Total          485.0"
      ]
     },
     "execution_count": 37,
     "metadata": {},
     "output_type": "execute_result"
    }
   ],
   "source": [
    "# результат запроса\n",
    "cit = pd.read_sql_query(query_16, connection)\n",
    "cit"
   ]
  },
  {
   "cell_type": "markdown",
   "id": "04966e40-3bc3-4dc8-9ba2-e80580ce3abc",
   "metadata": {
    "id": "04966e40-3bc3-4dc8-9ba2-e80580ce3abc"
   },
   "source": [
    "***"
   ]
  },
  {
   "cell_type": "markdown",
   "id": "aaa2992b",
   "metadata": {
    "id": "aGGyER-yt4SR"
   },
   "source": [
    "## Выводы по анализу работодателей\n",
    "\n",
    "- Больше всего вакансий предлагают такие крупные компании как: Яндекс (лидирует с большим отрывом), Ростелеком, Тинькофф, СБЕР и Газпром нефть.\n",
    "\n",
    "- Четверть всех вакансий компании Яндекс (485 вакансий) представлена в городах-миллионниках. Больше всего вакансий компании открыто в Москве и Санкт-Петербурге. Меньше всего вакансий компании в Омске, Челябинске и Красноярске.\n",
    "\n",
    "- Вакансии по разработке программного обеспечения предлагает 3553 работодателя.\n",
    "\n",
    "- Крупные компании, типа Яндекса, предлагают вакансии в большом количестве регионов (Яндекс в 181 регионе).\n",
    "\n",
    "- Россия и Казахстан лидируют по числу компаний, в которых на данный момент нет открытых вакансий. 410 и 207 компаний соответственно.\n"
   ]
  },
  {
   "cell_type": "markdown",
   "id": "b1ef156a-efcb-49ce-bb23-90763e7f35b2",
   "metadata": {
    "id": "b1ef156a-efcb-49ce-bb23-90763e7f35b2",
    "tags": []
   },
   "source": [
    "# Юнит 6. Предметный анализ"
   ]
  },
  {
   "cell_type": "markdown",
   "id": "b9cd50a0-992d-4988-8463-2b2b1c4629b4",
   "metadata": {
    "id": "b9cd50a0-992d-4988-8463-2b2b1c4629b4"
   },
   "source": [
    "1. Сколько вакансий имеет отношение к данным?\n",
    "\n",
    "Считаем, что вакансия имеет отношение к данным, если в её названии содержатся слова 'data' или 'данн'.\n",
    "\n",
    "*Подсказка: Обратите внимание, что названия вакансий могут быть написаны в любом регистре.* \n"
   ]
  },
  {
   "cell_type": "code",
   "execution_count": 38,
   "id": "54ab0e50-c0f1-47cc-a54b-bc5c8bc363f9",
   "metadata": {
    "id": "54ab0e50-c0f1-47cc-a54b-bc5c8bc363f9"
   },
   "outputs": [],
   "source": [
    "# текст запроса\n",
    "query_6_1 = f'''\n",
    "                SELECT name\n",
    "                FROM public.vacancies\n",
    "                WHERE lower(name) LIKE '%data%' OR lower(name) LIKE '%данн%'              \n",
    "'''"
   ]
  },
  {
   "cell_type": "code",
   "execution_count": 39,
   "id": "9F1meAqsuUjd",
   "metadata": {
    "id": "9F1meAqsuUjd"
   },
   "outputs": [
    {
     "name": "stdout",
     "output_type": "stream",
     "text": [
      "Пример отфильтрованных вакансий:\n"
     ]
    },
    {
     "data": {
      "text/html": [
       "<div>\n",
       "<style scoped>\n",
       "    .dataframe tbody tr th:only-of-type {\n",
       "        vertical-align: middle;\n",
       "    }\n",
       "\n",
       "    .dataframe tbody tr th {\n",
       "        vertical-align: top;\n",
       "    }\n",
       "\n",
       "    .dataframe thead th {\n",
       "        text-align: right;\n",
       "    }\n",
       "</style>\n",
       "<table border=\"1\" class=\"dataframe\">\n",
       "  <thead>\n",
       "    <tr style=\"text-align: right;\">\n",
       "      <th></th>\n",
       "      <th>name</th>\n",
       "    </tr>\n",
       "  </thead>\n",
       "  <tbody>\n",
       "    <tr>\n",
       "      <th>0</th>\n",
       "      <td>Аналитик хранилищ данных и BI-систем/Аналитик ...</td>\n",
       "    </tr>\n",
       "    <tr>\n",
       "      <th>1</th>\n",
       "      <td>Data-analysts (удаленно)</td>\n",
       "    </tr>\n",
       "    <tr>\n",
       "      <th>2</th>\n",
       "      <td>Стажер Data Engineer/Data Аналитик в команду Б...</td>\n",
       "    </tr>\n",
       "    <tr>\n",
       "      <th>3</th>\n",
       "      <td>Старший специалист хранилищ данных</td>\n",
       "    </tr>\n",
       "    <tr>\n",
       "      <th>4</th>\n",
       "      <td>Администратор баз данных и сетей</td>\n",
       "    </tr>\n",
       "  </tbody>\n",
       "</table>\n",
       "</div>"
      ],
      "text/plain": [
       "                                                name\n",
       "0  Аналитик хранилищ данных и BI-систем/Аналитик ...\n",
       "1                           Data-analysts (удаленно)\n",
       "2  Стажер Data Engineer/Data Аналитик в команду Б...\n",
       "3                 Старший специалист хранилищ данных\n",
       "4                   Администратор баз данных и сетей"
      ]
     },
     "metadata": {},
     "output_type": "display_data"
    },
    {
     "name": "stdout",
     "output_type": "stream",
     "text": [
      "\n",
      "Количество вакансий, связанных с данными: 1771\n"
     ]
    }
   ],
   "source": [
    "# результат запроса\n",
    "vac_data = pd.read_sql_query(query_6_1, connection)\n",
    "print('Пример отфильтрованных вакансий:')\n",
    "display(vac_data.head(5))\n",
    "print()\n",
    "print(f'Количество вакансий, связанных с данными: {vac_data.shape[0]}')"
   ]
  },
  {
   "cell_type": "markdown",
   "id": "4dea20cb-a36b-474a-a0b9-e08e8e3857a5",
   "metadata": {
    "id": "4dea20cb-a36b-474a-a0b9-e08e8e3857a5"
   },
   "source": [
    "2. Сколько есть подходящих вакансий для начинающего дата-сайентиста? \n",
    "Будем считать вакансиями для дата-сайентистов такие, в названии которых есть хотя бы одно из следующих сочетаний:\n",
    "* 'data scientist'\n",
    "* 'data science'\n",
    "* 'исследователь данных'\n",
    "* 'ML' (здесь не нужно брать вакансии по HTML)\n",
    "* 'machine learning'\n",
    "* 'машинн%обучен%'\n",
    "\n",
    "** В следующих заданиях мы продолжим работать с вакансиями по этому условию.*\n",
    "\n",
    "Считаем вакансиями для специалистов уровня Junior следующие:\n",
    "* в названии есть слово 'junior' *или*\n",
    "* требуемый опыт — Нет опыта *или*\n",
    "* тип трудоустройства — Стажировка.\n",
    " "
   ]
  },
  {
   "cell_type": "code",
   "execution_count": 40,
   "id": "9c61b3c0-bb66-46c9-ae1e-81d3f5752b4a",
   "metadata": {
    "id": "9c61b3c0-bb66-46c9-ae1e-81d3f5752b4a"
   },
   "outputs": [],
   "source": [
    "# текст запроса\n",
    "#Сделана максимально детализированная выборка, с ответом на платформе не совпадает.\n",
    "query_6_2 = f'''\n",
    "                WITH data_vacs AS(\n",
    "                SELECT * \n",
    "                FROM public.vacancies\n",
    "                WHERE \n",
    "                     lower(name) LIKE '%data scientist%' OR\n",
    "                     lower(name) LIKE '%исследователь данных%' OR \n",
    "                     lower(name) SIMILAR TO '%[/| ]ml%' OR \n",
    "                     lower(name) SIMILAR TO '%[(]ml%' OR\n",
    "                     lower(name) LIKE 'ml%' OR \n",
    "                     lower(name) LIKE '%machine learning%' OR\n",
    "                     lower(name) LIKE '%машинн%обучен%'\n",
    "                )\n",
    "                \n",
    "                SELECT *\n",
    "                FROM data_vacs\n",
    "                WHERE\n",
    "                     lower(name) LIKE '%junior%' OR\n",
    "                     experience = 'Нет опыта' OR\n",
    "                     employment = 'Стажировка'\n",
    "'''"
   ]
  },
  {
   "cell_type": "code",
   "execution_count": 41,
   "id": "ZNM-LLYuu1dj",
   "metadata": {
    "id": "ZNM-LLYuu1dj",
    "scrolled": false
   },
   "outputs": [
    {
     "name": "stdout",
     "output_type": "stream",
     "text": [
      "Количество вакансий, связанных с данными для джуниоров: 51\n"
     ]
    }
   ],
   "source": [
    "# результат запроса\n",
    "data_vacs = pd.read_sql_query(query_6_2, connection)\n",
    "print(f'Количество вакансий, связанных с данными для джуниоров: {data_vacs.shape[0]}')\n"
   ]
  },
  {
   "cell_type": "markdown",
   "id": "eedceb80-c5ca-480e-b27a-278dfb8b4438",
   "metadata": {
    "id": "eedceb80-c5ca-480e-b27a-278dfb8b4438"
   },
   "source": [
    "3. Сколько есть вакансий для DS, в которых в качестве ключевого навыка указан SQL или postgres?\n",
    "\n",
    "** Критерии для отнесения вакансии к DS указаны в предыдущем задании.*"
   ]
  },
  {
   "cell_type": "code",
   "execution_count": 42,
   "id": "69621713-0cc5-4f1b-a1d7-bb144fa6148c",
   "metadata": {
    "id": "69621713-0cc5-4f1b-a1d7-bb144fa6148c"
   },
   "outputs": [],
   "source": [
    "# текст запроса\n",
    "query_6_3 = f'''\n",
    "                WITH data_vacs AS(\n",
    "                SELECT * \n",
    "                FROM public.vacancies\n",
    "                WHERE \n",
    "                     lower(name) LIKE '%data scientist%' OR\n",
    "                     lower(name) LIKE '%исследователь данных%' OR \n",
    "                     lower(name) SIMILAR TO '%[/| ]ml%' OR \n",
    "                     lower(name) SIMILAR TO '%[(]ml%' OR\n",
    "                     lower(name) LIKE 'ml%' OR \n",
    "                     lower(name) LIKE '%machine learning%' OR\n",
    "                     lower(name) LIKE '%машинн%обучен%'\n",
    "                )\n",
    "                \n",
    "                SELECT *\n",
    "                FROM data_vacs\n",
    "                WHERE\n",
    "                     lower(key_skills) LIKE '%sql%' OR\n",
    "                     lower(key_skills) LIKE '%postgres%'\n",
    "'''\n"
   ]
  },
  {
   "cell_type": "code",
   "execution_count": 43,
   "id": "alA8WEAAvGdf",
   "metadata": {
    "id": "alA8WEAAvGdf",
    "scrolled": false
   },
   "outputs": [
    {
     "name": "stdout",
     "output_type": "stream",
     "text": [
      "Количество вакансий, связанных с SQL и postgres: 182\n"
     ]
    }
   ],
   "source": [
    "# результат запроса\n",
    "sql_ds_vacs = pd.read_sql_query(query_6_3, connection)\n",
    "print(f'Количество вакансий, связанных с SQL и postgres: {sql_ds_vacs.shape[0]}')\n"
   ]
  },
  {
   "cell_type": "markdown",
   "id": "1be1e9c6-37cf-4a5f-bfeb-04cab799dc80",
   "metadata": {
    "id": "1be1e9c6-37cf-4a5f-bfeb-04cab799dc80"
   },
   "source": [
    "4. Проверьте, насколько популярен Python в требованиях работодателей к DS.\n",
    "\n",
    "Для этого вычислите количество вакансий, в которых в качестве ключевого навыка указан Python.\n",
    "\n",
    "** Это можно сделать помощью запроса, аналогичного предыдущему.*"
   ]
  },
  {
   "cell_type": "code",
   "execution_count": 44,
   "id": "0036a355-9ccf-4564-8b01-73d8194297e7",
   "metadata": {
    "id": "0036a355-9ccf-4564-8b01-73d8194297e7"
   },
   "outputs": [],
   "source": [
    "# текст запроса\n",
    "query_6_4 = f'''\n",
    "                WITH data_vacs AS(\n",
    "                SELECT * \n",
    "                FROM public.vacancies\n",
    "                WHERE \n",
    "                     lower(name) LIKE '%data scientist%' OR\n",
    "                     lower(name) LIKE '%исследователь данных%' OR \n",
    "                     lower(name) SIMILAR TO '%[/| ]ml%' OR \n",
    "                     lower(name) SIMILAR TO '%[(]ml%' OR\n",
    "                     lower(name) LIKE 'ml%' OR \n",
    "                     lower(name) LIKE '%machine learning%' OR\n",
    "                     lower(name) LIKE '%машинн%обучен%'\n",
    "                )\n",
    "                \n",
    "                SELECT *\n",
    "                FROM data_vacs\n",
    "                WHERE\n",
    "                     lower(key_skills) LIKE '%python%'\n",
    "'''"
   ]
  },
  {
   "cell_type": "code",
   "execution_count": 45,
   "id": "1i-5WyucvQ6v",
   "metadata": {
    "id": "1i-5WyucvQ6v",
    "scrolled": true
   },
   "outputs": [
    {
     "name": "stdout",
     "output_type": "stream",
     "text": [
      "Количество вакансий, связанных с Python: 325\n"
     ]
    }
   ],
   "source": [
    "# результат запроса\n",
    "python_ds_vacs = pd.read_sql_query(query_6_4, connection)\n",
    "print(f'Количество вакансий, связанных с Python: {python_ds_vacs.shape[0]}')\n"
   ]
  },
  {
   "cell_type": "markdown",
   "id": "ec3c8db7-fa21-4a41-a994-1af63742a642",
   "metadata": {
    "id": "ec3c8db7-fa21-4a41-a994-1af63742a642"
   },
   "source": [
    "5. Сколько ключевых навыков в среднем указывают в вакансиях для DS?\n",
    "\n",
    "Ответ округлите до двух знаков после точки-разделителя.\n",
    "указаны в тексте вакансии."
   ]
  },
  {
   "cell_type": "code",
   "execution_count": 46,
   "id": "36bd0958",
   "metadata": {},
   "outputs": [],
   "source": [
    "#В решении использована идея о замене символа табуляции '\\t' пустым значением.\n",
    "#После этого находится разница между длиной полной строки и длиной строки с убранными знаками табуляции.\n",
    "#Таким образом получаем количество навыков минус 1. \n",
    "\n",
    "query_6_5 = f'''\n",
    "                WITH data_vacs AS(\n",
    "                SELECT * \n",
    "                FROM public.vacancies\n",
    "                WHERE \n",
    "                     lower(name) LIKE '%data scientist%' OR\n",
    "                     lower(name) LIKE '%исследователь данных%' OR \n",
    "                     lower(name) SIMILAR TO '%[/| ]ml%' OR \n",
    "                     lower(name) SIMILAR TO '%[(]ml%' OR\n",
    "                     lower(name) LIKE 'ml%' OR \n",
    "                     lower(name) LIKE '%machine learning%' OR\n",
    "                     lower(name) LIKE '%машинн%обучен%'\n",
    "                )\n",
    "                \n",
    "                SELECT AVG(LENGTH(CAST(key_skills AS CHAR(255))) - LENGTH(CAST(REPLACE(key_skills, '\\t', '') AS CHAR(255))) + 1) AS skills_average_number\n",
    "                FROM data_vacs\n",
    "                WHERE LENGTH(CAST(key_skills AS CHAR(255))) - LENGTH(CAST(REPLACE(key_skills, '\\t', '') AS CHAR(255))) > 0\n",
    "\n",
    "'''"
   ]
  },
  {
   "cell_type": "code",
   "execution_count": 47,
   "id": "a3V24Tvmviqk",
   "metadata": {
    "id": "a3V24Tvmviqk"
   },
   "outputs": [
    {
     "name": "stdout",
     "output_type": "stream",
     "text": [
      "Среднее число навыков в вакансиях Data Science: 6.32\n"
     ]
    }
   ],
   "source": [
    "# результат запроса\n",
    "skills_ds_vacs = pd.read_sql_query(query_6_5, connection)\n",
    "print(f'Среднее число навыков в вакансиях Data Science: {round(skills_ds_vacs.skills_average_number[0], 2)}')"
   ]
  },
  {
   "cell_type": "markdown",
   "id": "1041c17a-ca8f-4543-a0ca-32778914fb00",
   "metadata": {
    "id": "1041c17a-ca8f-4543-a0ca-32778914fb00"
   },
   "source": [
    "6. Напишите запрос, позволяющий вычислить, какую зарплату для DS в **среднем** указывают для каждого типа требуемого опыта (уникальное значение из поля *experience*). \n",
    "\n",
    "При решении задачи примите во внимание следующее:\n",
    "1. Рассматриваем только вакансии, у которых заполнено хотя бы одно из двух полей с зарплатой.\n",
    "2. Если заполнены оба поля с зарплатой, то считаем зарплату по каждой вакансии как сумму двух полей, делённую на 2. Если заполнено только одно из полей, то его и считаем зарплатой по вакансии.\n",
    "3. Если в расчётах участвует null, в результате он тоже даст null (посмотрите, что возвращает запрос select 1 + null). Чтобы избежать этой ситуацию, мы воспользуемся функцией [coalesce](https://postgrespro.ru/docs/postgresql/9.5/functions-conditional#functions-coalesce-nvl-ifnull), которая заменит null на значение, которое мы передадим. Например, посмотрите, что возвращает запрос `select 1 + coalesce(null, 0)`\n",
    "\n",
    "Выясните, на какую зарплату в среднем может рассчитывать дата-сайентист с опытом работы от 3 до 6 лет. Результат округлите до целого числа. "
   ]
  },
  {
   "cell_type": "code",
   "execution_count": 48,
   "id": "85659585",
   "metadata": {},
   "outputs": [],
   "source": [
    "query_6_6 = f'''\n",
    "                WITH data_vacs AS(\n",
    "                SELECT * \n",
    "                FROM public.vacancies\n",
    "                WHERE \n",
    "                     lower(name) LIKE '%data scientist%' OR\n",
    "                     lower(name) LIKE '%исследователь данных%' OR \n",
    "                     lower(name) SIMILAR TO '%[/| ]ml%' OR \n",
    "                     lower(name) SIMILAR TO '%[(]ml%' OR\n",
    "                     lower(name) LIKE 'ml%' OR \n",
    "                     lower(name) LIKE '%machine learning%' OR\n",
    "                     lower(name) LIKE '%машинн%обучен%'\n",
    "                ),\n",
    "                \n",
    "                average_salary AS(\n",
    "                SELECT experience,\n",
    "                       salary_from,\n",
    "                       salary_to,\n",
    "                       CASE WHEN salary_from IS NOT Null AND salary_to IS NOT Null THEN (salary_from + salary_to)/2\n",
    "                            WHEN salary_from IS Null AND salary_to IS NOT Null THEN salary_to\n",
    "                            WHEN salary_from IS NOT Null AND salary_to IS Null THEN salary_from \n",
    "                       END AS salary\n",
    "                FROM data_vacs\n",
    "                WHERE salary_from IS NOT Null OR salary_to IS NOT Null\n",
    "                )\n",
    "                \n",
    "                SELECT experience,\n",
    "                       AVG(salary) AS avg_salary\n",
    "                FROM average_salary\n",
    "                GROUP BY experience\n",
    "'''"
   ]
  },
  {
   "cell_type": "code",
   "execution_count": 49,
   "id": "aRIJ0mZEwU1_",
   "metadata": {
    "id": "aRIJ0mZEwU1_"
   },
   "outputs": [
    {
     "name": "stdout",
     "output_type": "stream",
     "text": [
      "Средняя зарплата для датасайентиста с опытом работы от 3 до 6 лет: 240927\n"
     ]
    }
   ],
   "source": [
    "# результат запроса\n",
    "sal = pd.read_sql_query(query_6_6, connection)\n",
    "print(f'Средняя зарплата для датасайентиста с опытом работы от 3 до 6 лет: {round(sal.avg_salary[0])}')\n"
   ]
  },
  {
   "cell_type": "markdown",
   "id": "6a7892b4-4113-4746-adce-18aa2844f18e",
   "metadata": {
    "id": "6a7892b4-4113-4746-adce-18aa2844f18e"
   },
   "source": [
    "***"
   ]
  },
  {
   "cell_type": "markdown",
   "id": "099041c8",
   "metadata": {
    "id": "UjLWUptVwY1o"
   },
   "source": [
    "## Выводы по предметному анализу\n",
    "\n",
    "- Общее количество вакансий, связанных с данными: 1771 (из них только 426 напрямую относятся к Data Science).\n",
    "\n",
    "- Количество вакансий в области Data Science для джуниоров: 51 из 426.\n",
    "\n",
    "- Количество вакансий в области Data Science, связанных с SQL и postgres: 182 из 426.\n",
    "\n",
    "- Количество вакансий в области Data Science, связанных с Python: 325 из 426.\n",
    "\n",
    "- Среднее число навыков в вакансиях в области Data Science: 6.32. Интересно изучить, какие это навыки.\n",
    "\n",
    "- Средняя зарплата для датасайентиста с опытом работы от 3 до 6 лет составляет 240927 рублей в месяц."
   ]
  },
  {
   "cell_type": "markdown",
   "id": "c0ED6fh7wiBT",
   "metadata": {
    "id": "c0ED6fh7wiBT"
   },
   "source": [
    "# Общий вывод по проекту"
   ]
  },
  {
   "cell_type": "markdown",
   "id": "d27ea053",
   "metadata": {
    "id": "h9B3BL-wwj18"
   },
   "source": [
    "## Общие сведения\n",
    "\n",
    "Данные включают 5 таблиц: vacancies, employers, areas, employers_industries, industries.\n",
    "\n",
    "Общее количество вакансий в таблице vacancies - 49197\n",
    "\n",
    "Общее количество работотаделей в таблице employers - 23501\n",
    "\n",
    "Количество регионов, представленных в таблице areas - 1362\n",
    "\n",
    "Количество сфер деятельности, представленных в таблице industries - 294\n",
    "\n",
    "\n",
    "## Работодатели\n",
    "\n",
    "Больше всего вакансий предлагают такие крупные компании как: Яндекс (лидирует с большим отрывом), Ростелеком, Тинькофф, СБЕР и Газпром нефть.\n",
    "\n",
    "Четверть всех вакансий компании Яндекс (485 вакансий) представлена в городах-миллионниках. Больше всего вакансий компании открыто в Москве и Санкт-Петербурге. Меньше всего вакансий компании в Омске, Челябинске и Красноярске.\n",
    "\n",
    "- компания Яндекс очень активно ищет сотрудников в провинции\n",
    "\n",
    "Вакансии по разработке программного обеспечения предлагает 3553 работодателя.\n",
    "\n",
    "- только 15% работодателей относятся к сфере разработки софта\n",
    "\n",
    "Крупные компании, типа Яндекса, предлагают вакансии в большом количестве регионов (Яндекс в 181 регионе).\n",
    "\n",
    "Россия и Казахстан лидируют по числу компаний, в которых на данный момент нет открытых вакансий. 410 и 207 компаний соответственно.\n",
    "\n",
    "- вполне возможно, по этим данным можно косвенно судить о насыщении рынка вакансий в определённых сферах деятельности\n",
    "\n",
    "\n",
    "## Вакансии\n",
    "\n",
    "Больше всего вакансий предлагается в таких городах, как: Москва, Санкт-Петербург, Минск, Новосибирск, Алматы. Причём, в Москве вакансий в два раза больше, чем в ближайшем к ней по числу вакансий Санкт-Петербурге. (Вполне логичная картина).\n",
    "\n",
    "Данные о зарплате заполнены примерно у половины всех вакансий.\n",
    "\n",
    "- по этой причине судить о зарплатах в некоторых сферах деятельности достаточно проблематично. Нужны дополнительные источники информации.\n",
    "\n",
    "Средние значения нижней и верхней границ по зарплатам: 71065 и 110537 \n",
    "\n",
    "- интересно сравнить зарплаты в области Data Science с общей статистикой по зарплатам.\n",
    "\n",
    "Наиболее популярные сочетания типа рабочего графика и типа трудоустройства следующие: Полный день - Полная занятость, Удалённая работа - Полная занятость.\n",
    "\n",
    "Требования к опыту во всей совокупности изучаемых вакансий распределились так: \n",
    "\n",
    "- в большинстве вакансий требуется опыт от 1 до 3 лет (проще всего найти работу людям с опытом от 1 года)\n",
    "- в два раза меньше вакансий с требованием к опыту от 3 до 6 лет\n",
    "- ещё в два раза меньше вакансий для соискателей без опыта работы (найти работу без опыта достаточно трудно) \n",
    "- и лишь около 2.5% всех вакансий для соискателей с опытом более 6 лет\n",
    "\n",
    "## Вакансии в области Data Science\n",
    "\n",
    "Общее количество вакансий, связанных с данными: 1771 из почти 50000 (из них только 426 напрямую относятся к Data Science).\n",
    "\n",
    "- только 3.5% вакансий связаны с работой с данными\n",
    "- и лишь около 1% вакансий относятся к области Data Science\n",
    "\n",
    "Количество вакансий в области Data Science для джуниоров: 51 из 426.\n",
    "\n",
    "- 12% вакансий в области Data Science - для начинающих специалистов.\n",
    "\n",
    "Количество вакансий в области Data Science, связанных с SQL и postgres: 182 из 426.\n",
    "\n",
    "- 43% вакансий в области Data Science требуют знания SQL или PostgreSQL.\n",
    "\n",
    "Количество вакансий в области Data Science, связанных с Python: 325 из 426.\n",
    "\n",
    "- 76% вакансий в области Data Science требуют знания языка программирования Python.\n",
    "\n",
    "Среднее число навыков в вакансиях в области Data Science: 6.32. Интересно изучить, какие это навыки.\n",
    "\n",
    "- Вакансии в области Data Science требуют довольно много навыков - более 6 в среднем. Какие это навыки - требует отдельного изучения.\n",
    "\n",
    "Средняя зарплата для датасайентиста с опытом работы от 3 до 6 лет составляет 240927 рублей в месяц."
   ]
  },
  {
   "cell_type": "markdown",
   "id": "66ee2959",
   "metadata": {},
   "source": [
    "## Дополнительные исследования\n",
    "\n",
    "Имеет смысл провести дополнительные исследования для ответа на вопросы:\n",
    "\n",
    "- В каких регионах больше всего компаний, разрабатывающих программное обеспечение?\n",
    "\n",
    "- Какие компании охватывают максимальное количество сфер деятельности? \n",
    "\n",
    "- Какие навыки в области Data Science наиболее востребованы?\n",
    "\n",
    "- Какой набор навыков ценится наиболее высоко в области Data Science?\n",
    "\n",
    "- В каких регионах больше всего вакансий в области работы с данными?\n",
    "\n",
    "- В каких регионах самые высокие зарплаты у специалистов по данным? Интересно сравнить зарплаты в области Data Science с общей статистикой по зарплатам.\n",
    "\n",
    "- Отдельного изучения требует распределение разных вакансий во времени. К сожалению, наши данные не дают такой информации. "
   ]
  },
  {
   "cell_type": "code",
   "execution_count": null,
   "id": "f1efc256",
   "metadata": {},
   "outputs": [],
   "source": []
  }
 ],
 "metadata": {
  "colab": {
   "collapsed_sections": [
    "8d62a9f3-f64e-4fe7-bdac-c4dffa16155e"
   ],
   "provenance": []
  },
  "kernelspec": {
   "display_name": "Python 3 (ipykernel)",
   "language": "python",
   "name": "python3"
  },
  "language_info": {
   "codemirror_mode": {
    "name": "ipython",
    "version": 3
   },
   "file_extension": ".py",
   "mimetype": "text/x-python",
   "name": "python",
   "nbconvert_exporter": "python",
   "pygments_lexer": "ipython3",
   "version": "3.7.3"
  }
 },
 "nbformat": 4,
 "nbformat_minor": 5
}
