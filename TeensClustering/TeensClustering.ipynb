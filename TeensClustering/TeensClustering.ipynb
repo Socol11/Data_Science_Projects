{
 "cells": [
  {
   "cell_type": "markdown",
   "id": "2d18c4c1",
   "metadata": {},
   "source": [
    "# Кластеризация пользователей соцсети с помощью алгоритмов K-Means и EM\n",
    "\n",
    "Большинство подростков активно общаются в социальных сетях. Многие из них также совершают покупки в интернете, что, естественно, вызывает интерес у рекламодателей. Маркетологи различных компаний стремятся выделять сегменты подростков с похожими интересами, чтобы давать более персонализированную рекламу и привлекать только тех подростков, которые могут стать их потенциальными клиентами. Например, магазину спортивной одежды интересно давать рекламу для девушек и юношей, которые относятся к сегменту интересующихся спортом.\n",
    "\n",
    "### Цель работы: \n",
    "\n",
    "Решить задачу сегментации подростков по их интересам. \n",
    "\n",
    "### Данные:\n",
    "\n",
    "Набор данных представляет собой случайную выборку из 30 000 американских старшеклассников, у которых в 2006 году были профили в одной известной социальной сети, название которой авторы датасета не раскрывают в целях сохранения анонимности. Данные были отобраны равномерно для четырёх разных возрастов (предполагаемый год окончания школы — 2006–2009).\n",
    "\n",
    "Признаки в данных\n",
    "\n",
    "- gradyear — год выпуска;\n",
    "- gender — пол;\n",
    "- age — возраст;\n",
    "- friends — число друзей в социальной сети;\n",
    "- basketball, football, soccer, softball, volleyball, swimming, cheerleading, baseball, tennis, sports, cute, sex, sexy, hot, kissed, dance, band, marching, music, rock, god, church, jesus, bible, hair, dress, blonde, mall, shopping, clothes, hollister, abercrombie, die, death, drunk, drugs (переменные с пятой по сороковую) — частота встречаемости соответствующих слов в сообщениях подростка."
   ]
  },
  {
   "cell_type": "code",
   "execution_count": 23,
   "id": "3374ca58",
   "metadata": {},
   "outputs": [],
   "source": [
    "# Импорт нужных библиотек\n",
    "\n",
    "import pandas as pd\n",
    "import numpy as np\n",
    "from sklearn.preprocessing import StandardScaler\n",
    "from sklearn.cluster import KMeans\n",
    "from sklearn.mixture import GaussianMixture\n",
    "import matplotlib.pyplot as plt\n",
    "from sklearn.metrics import silhouette_score\n",
    "import seaborn as sns"
   ]
  },
  {
   "cell_type": "code",
   "execution_count": 2,
   "id": "50c583ef",
   "metadata": {},
   "outputs": [
    {
     "data": {
      "text/html": [
       "<div>\n",
       "<style scoped>\n",
       "    .dataframe tbody tr th:only-of-type {\n",
       "        vertical-align: middle;\n",
       "    }\n",
       "\n",
       "    .dataframe tbody tr th {\n",
       "        vertical-align: top;\n",
       "    }\n",
       "\n",
       "    .dataframe thead th {\n",
       "        text-align: right;\n",
       "    }\n",
       "</style>\n",
       "<table border=\"1\" class=\"dataframe\">\n",
       "  <thead>\n",
       "    <tr style=\"text-align: right;\">\n",
       "      <th></th>\n",
       "      <th>gradyear</th>\n",
       "      <th>gender</th>\n",
       "      <th>age</th>\n",
       "      <th>friends</th>\n",
       "      <th>basketball</th>\n",
       "      <th>football</th>\n",
       "      <th>soccer</th>\n",
       "      <th>softball</th>\n",
       "      <th>volleyball</th>\n",
       "      <th>swimming</th>\n",
       "      <th>...</th>\n",
       "      <th>blonde</th>\n",
       "      <th>mall</th>\n",
       "      <th>shopping</th>\n",
       "      <th>clothes</th>\n",
       "      <th>hollister</th>\n",
       "      <th>abercrombie</th>\n",
       "      <th>die</th>\n",
       "      <th>death</th>\n",
       "      <th>drunk</th>\n",
       "      <th>drugs</th>\n",
       "    </tr>\n",
       "  </thead>\n",
       "  <tbody>\n",
       "    <tr>\n",
       "      <th>0</th>\n",
       "      <td>2006</td>\n",
       "      <td>M</td>\n",
       "      <td>18.982</td>\n",
       "      <td>7</td>\n",
       "      <td>0</td>\n",
       "      <td>0</td>\n",
       "      <td>0</td>\n",
       "      <td>0</td>\n",
       "      <td>0</td>\n",
       "      <td>0</td>\n",
       "      <td>...</td>\n",
       "      <td>0</td>\n",
       "      <td>0</td>\n",
       "      <td>0</td>\n",
       "      <td>0</td>\n",
       "      <td>0</td>\n",
       "      <td>0</td>\n",
       "      <td>0</td>\n",
       "      <td>0</td>\n",
       "      <td>0</td>\n",
       "      <td>0</td>\n",
       "    </tr>\n",
       "    <tr>\n",
       "      <th>1</th>\n",
       "      <td>2006</td>\n",
       "      <td>F</td>\n",
       "      <td>18.801</td>\n",
       "      <td>0</td>\n",
       "      <td>0</td>\n",
       "      <td>1</td>\n",
       "      <td>0</td>\n",
       "      <td>0</td>\n",
       "      <td>0</td>\n",
       "      <td>0</td>\n",
       "      <td>...</td>\n",
       "      <td>0</td>\n",
       "      <td>1</td>\n",
       "      <td>0</td>\n",
       "      <td>0</td>\n",
       "      <td>0</td>\n",
       "      <td>0</td>\n",
       "      <td>0</td>\n",
       "      <td>0</td>\n",
       "      <td>0</td>\n",
       "      <td>0</td>\n",
       "    </tr>\n",
       "    <tr>\n",
       "      <th>2</th>\n",
       "      <td>2006</td>\n",
       "      <td>M</td>\n",
       "      <td>18.335</td>\n",
       "      <td>69</td>\n",
       "      <td>0</td>\n",
       "      <td>1</td>\n",
       "      <td>0</td>\n",
       "      <td>0</td>\n",
       "      <td>0</td>\n",
       "      <td>0</td>\n",
       "      <td>...</td>\n",
       "      <td>0</td>\n",
       "      <td>0</td>\n",
       "      <td>0</td>\n",
       "      <td>0</td>\n",
       "      <td>0</td>\n",
       "      <td>0</td>\n",
       "      <td>0</td>\n",
       "      <td>1</td>\n",
       "      <td>0</td>\n",
       "      <td>0</td>\n",
       "    </tr>\n",
       "    <tr>\n",
       "      <th>3</th>\n",
       "      <td>2006</td>\n",
       "      <td>F</td>\n",
       "      <td>18.875</td>\n",
       "      <td>0</td>\n",
       "      <td>0</td>\n",
       "      <td>0</td>\n",
       "      <td>0</td>\n",
       "      <td>0</td>\n",
       "      <td>0</td>\n",
       "      <td>0</td>\n",
       "      <td>...</td>\n",
       "      <td>0</td>\n",
       "      <td>0</td>\n",
       "      <td>0</td>\n",
       "      <td>0</td>\n",
       "      <td>0</td>\n",
       "      <td>0</td>\n",
       "      <td>0</td>\n",
       "      <td>0</td>\n",
       "      <td>0</td>\n",
       "      <td>0</td>\n",
       "    </tr>\n",
       "    <tr>\n",
       "      <th>4</th>\n",
       "      <td>2006</td>\n",
       "      <td>NaN</td>\n",
       "      <td>18.995</td>\n",
       "      <td>10</td>\n",
       "      <td>0</td>\n",
       "      <td>0</td>\n",
       "      <td>0</td>\n",
       "      <td>0</td>\n",
       "      <td>0</td>\n",
       "      <td>0</td>\n",
       "      <td>...</td>\n",
       "      <td>0</td>\n",
       "      <td>0</td>\n",
       "      <td>2</td>\n",
       "      <td>0</td>\n",
       "      <td>0</td>\n",
       "      <td>0</td>\n",
       "      <td>0</td>\n",
       "      <td>0</td>\n",
       "      <td>1</td>\n",
       "      <td>1</td>\n",
       "    </tr>\n",
       "  </tbody>\n",
       "</table>\n",
       "<p>5 rows × 40 columns</p>\n",
       "</div>"
      ],
      "text/plain": [
       "   gradyear gender     age  friends  basketball  football  soccer  softball  \\\n",
       "0      2006      M  18.982        7           0         0       0         0   \n",
       "1      2006      F  18.801        0           0         1       0         0   \n",
       "2      2006      M  18.335       69           0         1       0         0   \n",
       "3      2006      F  18.875        0           0         0       0         0   \n",
       "4      2006    NaN  18.995       10           0         0       0         0   \n",
       "\n",
       "   volleyball  swimming  ...  blonde  mall  shopping  clothes  hollister  \\\n",
       "0           0         0  ...       0     0         0        0          0   \n",
       "1           0         0  ...       0     1         0        0          0   \n",
       "2           0         0  ...       0     0         0        0          0   \n",
       "3           0         0  ...       0     0         0        0          0   \n",
       "4           0         0  ...       0     0         2        0          0   \n",
       "\n",
       "   abercrombie  die  death  drunk  drugs  \n",
       "0            0    0      0      0      0  \n",
       "1            0    0      0      0      0  \n",
       "2            0    0      1      0      0  \n",
       "3            0    0      0      0      0  \n",
       "4            0    0      0      1      1  \n",
       "\n",
       "[5 rows x 40 columns]"
      ]
     },
     "execution_count": 2,
     "metadata": {},
     "output_type": "execute_result"
    }
   ],
   "source": [
    "# Посмотрим на данные\n",
    "data = pd.read_csv('snsdata.csv')\n",
    "data.head()"
   ]
  },
  {
   "cell_type": "code",
   "execution_count": 3,
   "id": "993df1ac",
   "metadata": {},
   "outputs": [
    {
     "name": "stdout",
     "output_type": "stream",
     "text": [
      "<class 'pandas.core.frame.DataFrame'>\n",
      "RangeIndex: 30000 entries, 0 to 29999\n",
      "Data columns (total 40 columns):\n",
      " #   Column        Non-Null Count  Dtype  \n",
      "---  ------        --------------  -----  \n",
      " 0   gradyear      30000 non-null  int64  \n",
      " 1   gender        27276 non-null  object \n",
      " 2   age           24914 non-null  float64\n",
      " 3   friends       30000 non-null  int64  \n",
      " 4   basketball    30000 non-null  int64  \n",
      " 5   football      30000 non-null  int64  \n",
      " 6   soccer        30000 non-null  int64  \n",
      " 7   softball      30000 non-null  int64  \n",
      " 8   volleyball    30000 non-null  int64  \n",
      " 9   swimming      30000 non-null  int64  \n",
      " 10  cheerleading  30000 non-null  int64  \n",
      " 11  baseball      30000 non-null  int64  \n",
      " 12  tennis        30000 non-null  int64  \n",
      " 13  sports        30000 non-null  int64  \n",
      " 14  cute          30000 non-null  int64  \n",
      " 15  sex           30000 non-null  int64  \n",
      " 16  sexy          30000 non-null  int64  \n",
      " 17  hot           30000 non-null  int64  \n",
      " 18  kissed        30000 non-null  int64  \n",
      " 19  dance         30000 non-null  int64  \n",
      " 20  band          30000 non-null  int64  \n",
      " 21  marching      30000 non-null  int64  \n",
      " 22  music         30000 non-null  int64  \n",
      " 23  rock          30000 non-null  int64  \n",
      " 24  god           30000 non-null  int64  \n",
      " 25  church        30000 non-null  int64  \n",
      " 26  jesus         30000 non-null  int64  \n",
      " 27  bible         30000 non-null  int64  \n",
      " 28  hair          30000 non-null  int64  \n",
      " 29  dress         30000 non-null  int64  \n",
      " 30  blonde        30000 non-null  int64  \n",
      " 31  mall          30000 non-null  int64  \n",
      " 32  shopping      30000 non-null  int64  \n",
      " 33  clothes       30000 non-null  int64  \n",
      " 34  hollister     30000 non-null  int64  \n",
      " 35  abercrombie   30000 non-null  int64  \n",
      " 36  die           30000 non-null  int64  \n",
      " 37  death         30000 non-null  int64  \n",
      " 38  drunk         30000 non-null  int64  \n",
      " 39  drugs         30000 non-null  int64  \n",
      "dtypes: float64(1), int64(38), object(1)\n",
      "memory usage: 9.2+ MB\n"
     ]
    }
   ],
   "source": [
    "data.info()"
   ]
  },
  {
   "cell_type": "markdown",
   "id": "9d1a04d3",
   "metadata": {},
   "source": [
    "## Шаг 1 - удаление неинформативных признаков\n",
    "\n",
    "Реализуем алгоритм только на признаках, которые заключают в себе ключевые слова, встречающиеся в сообщениях подростков. Удаляем  все остальные признаки. "
   ]
  },
  {
   "cell_type": "code",
   "execution_count": 4,
   "id": "d4dfbe95",
   "metadata": {},
   "outputs": [
    {
     "data": {
      "text/plain": [
       "(30000, 36)"
      ]
     },
     "execution_count": 4,
     "metadata": {},
     "output_type": "execute_result"
    }
   ],
   "source": [
    "data = data.drop(['gradyear','gender','age','friends'], axis=1)\n",
    "data.shape"
   ]
  },
  {
   "cell_type": "markdown",
   "id": "d776e39e",
   "metadata": {},
   "source": [
    "## Шаг 2 - стандартизация данных\n",
    "\n",
    "Выполним стандартизацию данных с помощью StandardScaler(). "
   ]
  },
  {
   "cell_type": "code",
   "execution_count": 6,
   "id": "b5716b2a",
   "metadata": {},
   "outputs": [
    {
     "name": "stdout",
     "output_type": "stream",
     "text": [
      "[[-0.33221726 -0.35769737 -0.2428741  ... -0.26153016 -0.22040264\n",
      "  -0.1749076 ]\n",
      " [-0.33221726  1.06004883 -0.2428741  ... -0.26153016 -0.22040264\n",
      "  -0.1749076 ]\n",
      " [-0.33221726  1.06004883 -0.2428741  ...  2.02790809 -0.22040264\n",
      "  -0.1749076 ]\n",
      " ...\n",
      " [-0.33221726  1.06004883 -0.2428741  ... -0.26153016 -0.22040264\n",
      "  -0.1749076 ]\n",
      " [-0.33221726 -0.35769737 -0.2428741  ... -0.26153016 -0.22040264\n",
      "  -0.1749076 ]\n",
      " [ 2.15319868 -0.35769737 -0.2428741  ... -0.26153016 -0.22040264\n",
      "  -0.1749076 ]]\n"
     ]
    }
   ],
   "source": [
    "scaler = StandardScaler()\n",
    "X_norm = scaler.fit_transform(data)\n",
    "\n",
    "# Посмотрим на полученные значения\n",
    "print(X_norm)\n"
   ]
  },
  {
   "cell_type": "markdown",
   "id": "3a51e59e",
   "metadata": {},
   "source": [
    "## Шаг 3 - реализация алгоритма K-Means\n",
    "\n",
    "Реализуем алгоритм k-means c девятью кластерами. В качестве значения параметра random_state возьмём число 42. \n",
    "\n",
    "Посчитаем значение инерции (model.inertia_). "
   ]
  },
  {
   "cell_type": "code",
   "execution_count": 7,
   "id": "1a648b13",
   "metadata": {},
   "outputs": [
    {
     "data": {
      "text/plain": [
       "857169.1033997731"
      ]
     },
     "execution_count": 7,
     "metadata": {},
     "output_type": "execute_result"
    }
   ],
   "source": [
    "km = KMeans(n_clusters=9, random_state=42)\n",
    "km.fit(X_norm)\n",
    "km.inertia_"
   ]
  },
  {
   "cell_type": "markdown",
   "id": "eac82942",
   "metadata": {},
   "source": [
    "## Шаг 3.1 - оценка числа подростков в получившихся кластерах\n",
    "\n",
    "Сколько подростков относится к наиболее многочисленному кластеру?\n",
    "\n",
    "А сколько — к самому малочисленному?"
   ]
  },
  {
   "cell_type": "code",
   "execution_count": 8,
   "id": "e1f37e2f",
   "metadata": {},
   "outputs": [
    {
     "data": {
      "text/plain": [
       "array([0, 3, 0, ..., 0, 0, 0])"
      ]
     },
     "execution_count": 8,
     "metadata": {},
     "output_type": "execute_result"
    }
   ],
   "source": [
    "#Список лейблов - номеров кластеров для каждого наблюдения\n",
    "km.labels_"
   ]
  },
  {
   "cell_type": "code",
   "execution_count": 9,
   "id": "9dc38383",
   "metadata": {},
   "outputs": [
    {
     "data": {
      "text/plain": [
       "0    19659\n",
       "3     4490\n",
       "7     2098\n",
       "1      930\n",
       "4      851\n",
       "6      762\n",
       "8      716\n",
       "5      493\n",
       "2        1\n",
       "Name: label, dtype: int64"
      ]
     },
     "execution_count": 9,
     "metadata": {},
     "output_type": "execute_result"
    }
   ],
   "source": [
    "#Сначала создадим столбец с лейблами кластеров \n",
    "data.loc[:, 'label'] = km.labels_\n",
    "\n",
    "#Затем посчитаем, сколько наблюдений относится к каждому кластеру\n",
    "data.label.value_counts()\n",
    "\n",
    "#Наиболее многочисленный кластер - 0. Самый малочисленный - 2."
   ]
  },
  {
   "cell_type": "markdown",
   "id": "5779c0db",
   "metadata": {},
   "source": [
    "## Шаг 3.2 - оптимизация числа кластеров методом перебора\n",
    "\n",
    "Мы выделили девять кластеров, но, возможно, это далеко не оптимальное количество. Попробуем применить разные методы для нахождения числа кластеров. Будем выбирать количество кластеров из диапазона от 3 до 9.\n",
    "\n",
    "Для оценки оптимального числа кластеов применим метод локтя. Каким в этом случае будет оптимальное число кластеров? "
   ]
  },
  {
   "cell_type": "code",
   "execution_count": 10,
   "id": "6c7b8271",
   "metadata": {},
   "outputs": [
    {
     "name": "stdout",
     "output_type": "stream",
     "text": [
      "[3, 4, 5, 6, 7, 8, 9]\n",
      "[994116.3386407965, 965032.1004210324, 939457.1761824465, 913395.6572929571, 892309.5548621642, 872318.1671214447, 857169.1033997731]\n"
     ]
    }
   ],
   "source": [
    "#Создадим данные для оценки оптимального числа кластеров по методу локтя\n",
    "n_clusters, inertia = [], []\n",
    "for i in range(3,10):\n",
    "    kmeans = KMeans(n_clusters=i, random_state=42)\n",
    "    kmeans.fit(X_norm)\n",
    "    n_clusters.append(i)\n",
    "    inertia.append(kmeans.inertia_)\n",
    "\n",
    "#Список числа кластеров    \n",
    "print(n_clusters)\n",
    "\n",
    "#Список значений инерции\n",
    "print(inertia)"
   ]
  },
  {
   "cell_type": "code",
   "execution_count": 11,
   "id": "d0576e24",
   "metadata": {},
   "outputs": [
    {
     "data": {
      "image/png": "[encoded data removed]",
      "text/plain": [
       "<Figure size 640x480 with 1 Axes>"
      ]
     },
     "metadata": {},
     "output_type": "display_data"
    }
   ],
   "source": [
    "#Строим график для определения оптимального числа кластеров по методу локтя\n",
    "#Оптимальным числом кластеров, согласно методу локтя, будет то, на котором график имеет значительный излом - здесь заметно меняется темп снижения инерции.\n",
    "\n",
    "plt.plot(n_clusters, inertia);\n",
    "plt.xlabel('Число кластеров')\n",
    "plt.ylabel('Инерция')\n",
    "plt.title('Определение оптимального числа кластеров по методу локтя');"
   ]
  },
  {
   "cell_type": "markdown",
   "id": "56b07779",
   "metadata": {},
   "source": [
    "Определить оптимальное количество кластеров по методу локтя в данном случае затруднительно. Нет явного \"перелома\" на графике, показывающего, что темп снижения инерции меняется значительно при изменении числа кластеров."
   ]
  },
  {
   "cell_type": "code",
   "execution_count": 12,
   "id": "ea2eeb55",
   "metadata": {},
   "outputs": [
    {
     "name": "stdout",
     "output_type": "stream",
     "text": [
      "[3, 4, 5, 6, 7, 8, 9]\n",
      "[0.3252983167661199, 0.32524147109392326, 0.3104227626278873, 0.3042253962461188, 0.29152119238612373, 0.25213836279655444, 0.24985471990292196]\n"
     ]
    }
   ],
   "source": [
    "#Создадим данные для оценки оптимального числа кластеров с помощью коэффициента силуэта\n",
    "n_clusters, silhouette = [], []\n",
    "for i in range(3,10):\n",
    "    kmeans = KMeans(n_clusters=i, random_state=42)\n",
    "    kmeans.fit(X_norm)\n",
    "    n_clusters.append(i)\n",
    "    silhouette.append(silhouette_score(X_norm, kmeans.labels_))\n",
    "    \n",
    "print(n_clusters)\n",
    "print(silhouette)"
   ]
  },
  {
   "cell_type": "code",
   "execution_count": 13,
   "id": "a7308415",
   "metadata": {},
   "outputs": [
    {
     "data": {
      "image/png": "[encoded data removed]",
      "text/plain": [
       "<Figure size 640x480 with 1 Axes>"
      ]
     },
     "metadata": {},
     "output_type": "display_data"
    }
   ],
   "source": [
    "#Строим график для определения оптимального числа кластеров с помощью коэффициента силуэта.\n",
    "#Чем выше коэффициент силуэта, тем лучше. Выбираем число кластеров, котором соответствует максимальный коэф. силуэта.\n",
    "plt.plot(n_clusters, silhouette);\n",
    "plt.xlabel('Число кластеров');\n",
    "plt.ylabel('Коэффициент силуэта');\n",
    "plt.title('Определение оптимального числа кластеров с помощью коэффициента силуэта');"
   ]
  },
  {
   "cell_type": "markdown",
   "id": "21a00e52",
   "metadata": {},
   "source": [
    "Коэффициент силуэта показывает, что оптимальным числом кластеров является 3 или 4. При таком количестве кластеров коэффициент силуэта максимален."
   ]
  },
  {
   "cell_type": "markdown",
   "id": "298c4e98",
   "metadata": {},
   "source": [
    "## Шаг 3.3 - реализация K-Means с оптимальным числом кластеров\n",
    "\n",
    "Опираясь на коэффициент силуэта, реализуем сегментацию подростков на выбранном количестве кластеров.\n",
    "\n",
    "Выделим ключевые слова, наиболее характерные для каждого из трёх выделенных кластеров.\n",
    "Оценим среднюю частоту употребления данного слова в кластере. Чем выше частота, тем более характерно слово для кластера. В данной задаче интересуемся словами, которые чаще других используются во всех кластерах."
   ]
  },
  {
   "cell_type": "code",
   "execution_count": 14,
   "id": "cdebf99d",
   "metadata": {},
   "outputs": [
    {
     "data": {
      "text/plain": [
       "KMeans(n_clusters=3, random_state=42)"
      ]
     },
     "execution_count": 14,
     "metadata": {},
     "output_type": "execute_result"
    }
   ],
   "source": [
    "#Разбиваем данные на три кластера (согласно коэффициенту силуэта)\n",
    "km = KMeans(n_clusters=3, random_state=42)\n",
    "km.fit(X_norm)\n"
   ]
  },
  {
   "cell_type": "code",
   "execution_count": 15,
   "id": "f7954d53",
   "metadata": {},
   "outputs": [],
   "source": [
    "#Создаём столбец с метками кластеров\n",
    "data.loc[:,'label'] = km.labels_\n"
   ]
  },
  {
   "cell_type": "code",
   "execution_count": 16,
   "id": "06df6f60",
   "metadata": {},
   "outputs": [
    {
     "name": "stdout",
     "output_type": "stream",
     "text": [
      "Кластер: 0 \n",
      " music       1.055406\n",
      "dance       0.998484\n",
      "shopping    0.939205\n",
      "god         0.886325\n",
      "cute        0.798417\n",
      "dtype: float64 \n",
      "\n",
      "Кластер: 1 \n",
      " hair      3.223894\n",
      "sex       2.430088\n",
      "music     2.262832\n",
      "kissed    1.575221\n",
      "die       1.211504\n",
      "dtype: float64 \n",
      "\n",
      "Кластер: 2 \n",
      " music    0.580455\n",
      "god      0.330019\n",
      "dance    0.250785\n",
      "band     0.243328\n",
      "hair     0.203122\n",
      "dtype: float64 \n",
      "\n"
     ]
    }
   ],
   "source": [
    "#Группируем данные по кластерам и находим среднее число употреблений каждого слова в пределах его кластера.\n",
    "for label, group in data.groupby('label'):\n",
    "    means = group.iloc[:,:-1].mean().sort_values(ascending=False)\n",
    "    print('Кластер:', label, '\\n', means.head(5), '\\n')"
   ]
  },
  {
   "cell_type": "markdown",
   "id": "dc2c50f1",
   "metadata": {},
   "source": [
    "## Шаг 4 - реализация EM-алгоритма\n",
    "\n",
    "Реализуем EM-алгоритм (GaussianMixture) для 3 кластеров.\n",
    "\n",
    "Сколько подростков алгоритм отнёс к самому многочисленному кластеру?"
   ]
  },
  {
   "cell_type": "code",
   "execution_count": 17,
   "id": "1b5cc479",
   "metadata": {},
   "outputs": [
    {
     "data": {
      "text/plain": [
       "(array([0, 1, 2], dtype=int64), array([23426,  6573,     1], dtype=int64))"
      ]
     },
     "execution_count": 17,
     "metadata": {},
     "output_type": "execute_result"
    }
   ],
   "source": [
    "gm = GaussianMixture(n_components=3, random_state=42)\n",
    "predictions = gm.fit_predict(X_norm)\n",
    "np.unique(predictions, return_counts=True)\n"
   ]
  },
  {
   "cell_type": "markdown",
   "id": "e408c5de",
   "metadata": {},
   "source": [
    "В самом многочисленном кластере 23426 подростков."
   ]
  },
  {
   "cell_type": "markdown",
   "id": "0e8bc0f7",
   "metadata": {},
   "source": [
    "## Шаг 4.1 - изучение самого малочисленного кластера\n",
    "\n",
    "В одном из кластеров оказался всего один человек. Узнаем, что это за подросток и чем он(а) интересуется.\n",
    "\n",
    "Найдём три слова, которые чаще всего встречаются в сообщениях этого подростка."
   ]
  },
  {
   "cell_type": "code",
   "execution_count": 18,
   "id": "c5d98bcb",
   "metadata": {},
   "outputs": [
    {
     "data": {
      "text/html": [
       "<div>\n",
       "<style scoped>\n",
       "    .dataframe tbody tr th:only-of-type {\n",
       "        vertical-align: middle;\n",
       "    }\n",
       "\n",
       "    .dataframe tbody tr th {\n",
       "        vertical-align: top;\n",
       "    }\n",
       "\n",
       "    .dataframe thead th {\n",
       "        text-align: right;\n",
       "    }\n",
       "</style>\n",
       "<table border=\"1\" class=\"dataframe\">\n",
       "  <thead>\n",
       "    <tr style=\"text-align: right;\">\n",
       "      <th></th>\n",
       "      <th>basketball</th>\n",
       "      <th>football</th>\n",
       "      <th>soccer</th>\n",
       "      <th>softball</th>\n",
       "      <th>volleyball</th>\n",
       "      <th>swimming</th>\n",
       "      <th>cheerleading</th>\n",
       "      <th>baseball</th>\n",
       "      <th>tennis</th>\n",
       "      <th>sports</th>\n",
       "      <th>...</th>\n",
       "      <th>mall</th>\n",
       "      <th>shopping</th>\n",
       "      <th>clothes</th>\n",
       "      <th>hollister</th>\n",
       "      <th>abercrombie</th>\n",
       "      <th>die</th>\n",
       "      <th>death</th>\n",
       "      <th>drunk</th>\n",
       "      <th>drugs</th>\n",
       "      <th>label</th>\n",
       "    </tr>\n",
       "  </thead>\n",
       "  <tbody>\n",
       "    <tr>\n",
       "      <th>14187</th>\n",
       "      <td>0</td>\n",
       "      <td>2</td>\n",
       "      <td>0</td>\n",
       "      <td>0</td>\n",
       "      <td>0</td>\n",
       "      <td>1</td>\n",
       "      <td>0</td>\n",
       "      <td>0</td>\n",
       "      <td>0</td>\n",
       "      <td>0</td>\n",
       "      <td>...</td>\n",
       "      <td>0</td>\n",
       "      <td>0</td>\n",
       "      <td>1</td>\n",
       "      <td>0</td>\n",
       "      <td>0</td>\n",
       "      <td>6</td>\n",
       "      <td>6</td>\n",
       "      <td>6</td>\n",
       "      <td>0</td>\n",
       "      <td>1</td>\n",
       "    </tr>\n",
       "  </tbody>\n",
       "</table>\n",
       "<p>1 rows × 37 columns</p>\n",
       "</div>"
      ],
      "text/plain": [
       "       basketball  football  soccer  softball  volleyball  swimming  \\\n",
       "14187           0         2       0         0           0         1   \n",
       "\n",
       "       cheerleading  baseball  tennis  sports  ...  mall  shopping  clothes  \\\n",
       "14187             0         0       0       0  ...     0         0        1   \n",
       "\n",
       "       hollister  abercrombie  die  death  drunk  drugs  label  \n",
       "14187          0            0    6      6      6      0      1  \n",
       "\n",
       "[1 rows x 37 columns]"
      ]
     },
     "execution_count": 18,
     "metadata": {},
     "output_type": "execute_result"
    }
   ],
   "source": [
    "#Из предыдущего шага выяснено, что в кластере 2 всего 1 человек. Посмотрим на связанные с ним данные.\n",
    "n = np.where(predictions == 2)\n",
    "user = data.iloc[n]\n",
    "user"
   ]
  },
  {
   "cell_type": "code",
   "execution_count": 20,
   "id": "75e29b70",
   "metadata": {},
   "outputs": [
    {
     "name": "stdout",
     "output_type": "stream",
     "text": [
      "sex - 22\n",
      "hair - 12\n",
      "blonde - 327\n"
     ]
    }
   ],
   "source": [
    "#Оценка числа употребления слов для выбранного подростка\n",
    "for i in list(user.columns):\n",
    "    if user[i].iloc[0] > 10:\n",
    "        print(i, '-', user[i].iloc[0])\n",
    "    "
   ]
  },
  {
   "cell_type": "code",
   "execution_count": null,
   "id": "ce2c76a3",
   "metadata": {},
   "outputs": [],
   "source": []
  }
 ],
 "metadata": {
  "kernelspec": {
   "display_name": "Python 3 (ipykernel)",
   "language": "python",
   "name": "python3"
  },
  "language_info": {
   "codemirror_mode": {
    "name": "ipython",
    "version": 3
   },
   "file_extension": ".py",
   "mimetype": "text/x-python",
   "name": "python",
   "nbconvert_exporter": "python",
   "pygments_lexer": "ipython3",
   "version": "3.7.3"
  }
 },
 "nbformat": 4,
 "nbformat_minor": 5
}
