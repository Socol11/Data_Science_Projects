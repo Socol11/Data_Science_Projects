{
 "cells": [
  {
   "cell_type": "markdown",
   "id": "db1c71cf",
   "metadata": {},
   "source": [
    "# Applying Gradient Descent to a Regression Problem\n",
    "\n",
    "Let's try to use gradient descent to solve a real-life linear regression problem. Our goal will be to build a simple linear regression model to predict the sales of some product based on the amount of money spent on advertising.\n",
    "\n",
    "Build a model with three predictors.\n",
    "\n",
    "Initially take all weights equal to 0, set the learning rate as 0.00005 and train the model for 500000 iterations.\n",
    "\n",
    "Get the resulting weights for the three predictors."
   ]
  },
  {
   "cell_type": "code",
   "execution_count": 1,
   "id": "d47ea816",
   "metadata": {},
   "outputs": [],
   "source": [
    "import numpy as np\n",
    "import pandas as pd"
   ]
  },
  {
   "cell_type": "code",
   "execution_count": 2,
   "id": "500852d3",
   "metadata": {},
   "outputs": [
    {
     "data": {
      "text/html": [
       "<div>\n",
       "<style scoped>\n",
       "    .dataframe tbody tr th:only-of-type {\n",
       "        vertical-align: middle;\n",
       "    }\n",
       "\n",
       "    .dataframe tbody tr th {\n",
       "        vertical-align: top;\n",
       "    }\n",
       "\n",
       "    .dataframe thead th {\n",
       "        text-align: right;\n",
       "    }\n",
       "</style>\n",
       "<table border=\"1\" class=\"dataframe\">\n",
       "  <thead>\n",
       "    <tr style=\"text-align: right;\">\n",
       "      <th></th>\n",
       "      <th>TV</th>\n",
       "      <th>radio</th>\n",
       "      <th>newspaper</th>\n",
       "      <th>sales</th>\n",
       "    </tr>\n",
       "  </thead>\n",
       "  <tbody>\n",
       "    <tr>\n",
       "      <th>1</th>\n",
       "      <td>230.1</td>\n",
       "      <td>37.8</td>\n",
       "      <td>69.2</td>\n",
       "      <td>22.1</td>\n",
       "    </tr>\n",
       "    <tr>\n",
       "      <th>2</th>\n",
       "      <td>44.5</td>\n",
       "      <td>39.3</td>\n",
       "      <td>45.1</td>\n",
       "      <td>10.4</td>\n",
       "    </tr>\n",
       "    <tr>\n",
       "      <th>3</th>\n",
       "      <td>17.2</td>\n",
       "      <td>45.9</td>\n",
       "      <td>69.3</td>\n",
       "      <td>9.3</td>\n",
       "    </tr>\n",
       "    <tr>\n",
       "      <th>4</th>\n",
       "      <td>151.5</td>\n",
       "      <td>41.3</td>\n",
       "      <td>58.5</td>\n",
       "      <td>18.5</td>\n",
       "    </tr>\n",
       "    <tr>\n",
       "      <th>5</th>\n",
       "      <td>180.8</td>\n",
       "      <td>10.8</td>\n",
       "      <td>58.4</td>\n",
       "      <td>12.9</td>\n",
       "    </tr>\n",
       "  </tbody>\n",
       "</table>\n",
       "</div>"
      ],
      "text/plain": [
       "      TV  radio  newspaper  sales\n",
       "1  230.1   37.8       69.2   22.1\n",
       "2   44.5   39.3       45.1   10.4\n",
       "3   17.2   45.9       69.3    9.3\n",
       "4  151.5   41.3       58.5   18.5\n",
       "5  180.8   10.8       58.4   12.9"
      ]
     },
     "execution_count": 2,
     "metadata": {},
     "output_type": "execute_result"
    }
   ],
   "source": [
    "df = pd.read_csv('Advertising.csv',index_col=0)\n",
    "df.head()"
   ]
  },
  {
   "cell_type": "code",
   "execution_count": 3,
   "id": "2c743592",
   "metadata": {},
   "outputs": [],
   "source": [
    "X = df[['TV', 'radio', 'newspaper']] #Our features\n",
    "y = df['sales'] #Target variable\n",
    "\n",
    "#Bring all the data in a form convenient for the model\n",
    "n = len(y)\n",
    "X = np.append(np.ones((n,1)), X.values.reshape(n,3), axis = 1) #Add a column of ones\n",
    "y = df['sales'].values.reshape(n,1) #Convert a target variable\n",
    "par = np.zeros((4,1)) #Create a parameters vector"
   ]
  },
  {
   "cell_type": "code",
   "execution_count": 4,
   "id": "b453d891",
   "metadata": {},
   "outputs": [],
   "source": [
    "#A function for calculating the root mean square error. The result of the function we will be minimize.\n",
    "\n",
    "def cost_function(X, y, par):\n",
    "    y_pred = np.dot(X, par) #make prediction\n",
    "    error = (y_pred - y)**2 #calculate the mean square error\n",
    "    cost = 1/(n)*np.sum(error)\n",
    "    return cost"
   ]
  },
  {
   "cell_type": "code",
   "execution_count": 5,
   "id": "622d3929",
   "metadata": {},
   "outputs": [],
   "source": [
    "#A function for calculation of gradient descent \n",
    "\n",
    "def grad_d(X, y, par, alpha, iterations):\n",
    "    costs = []\n",
    "    for i in range(iterations):\n",
    "        y_pred = np.dot(X, par)\n",
    "        der = np.dot(X.transpose(), (y_pred - y)) / n\n",
    "        par -= alpha * der\n",
    "        costs.append(cost_function(X, y, par))\n",
    "    return par, costs"
   ]
  },
  {
   "cell_type": "code",
   "execution_count": 6,
   "id": "98b9c954",
   "metadata": {},
   "outputs": [
    {
     "data": {
      "text/plain": [
       "array([[ 2.86254595e+00],\n",
       "       [ 4.59731305e-02],\n",
       "       [ 1.89405798e-01],\n",
       "       [-5.73781627e-04]])"
      ]
     },
     "execution_count": 6,
     "metadata": {},
     "output_type": "execute_result"
    }
   ],
   "source": [
    "#Get results\n",
    "par, costs = grad_d(X, y, par, 0.00005, 500000)\n",
    "par"
   ]
  },
  {
   "cell_type": "code",
   "execution_count": null,
   "id": "f15b8a23",
   "metadata": {},
   "outputs": [],
   "source": []
  }
 ],
 "metadata": {
  "kernelspec": {
   "display_name": "Python 3 (ipykernel)",
   "language": "python",
   "name": "python3"
  },
  "language_info": {
   "codemirror_mode": {
    "name": "ipython",
    "version": 3
   },
   "file_extension": ".py",
   "mimetype": "text/x-python",
   "name": "python",
   "nbconvert_exporter": "python",
   "pygments_lexer": "ipython3",
   "version": "3.9.12"
  }
 },
 "nbformat": 4,
 "nbformat_minor": 5
}
