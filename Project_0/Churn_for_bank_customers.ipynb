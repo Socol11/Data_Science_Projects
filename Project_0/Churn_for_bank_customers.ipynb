{
 "cells": [
  {
   "cell_type": "markdown",
   "id": "0c85c317",
   "metadata": {},
   "source": [
    "# Описание проекта\n",
    "\n",
    "Банк хочет разработать кампанию лояльности по удержанию клиентов, но для этого ему необходимо выяснить основные причины оттока клиентов. Иными словами, нужно установить, чем ушедшие клиенты отличаются от лояльных и как между собой связаны различные признаки, определяющие клиентов.\n",
    "\n",
    "### Столбцы таблицы:\n",
    "\n",
    "- RowNumber — номер строки таблицы (это лишняя информация, поэтому можете сразу от неё избавиться)\n",
    "- CustomerId — идентификатор клиента\n",
    "- Surname — фамилия клиента\n",
    "- CreditScore — кредитный рейтинг клиента (чем он выше, тем больше клиент брал кредитов и возвращал их)\n",
    "- Geography — страна клиента (банк международный)\n",
    "- Gender — пол клиента\n",
    "- Age — возраст клиента\n",
    "- Tenure — сколько лет клиент пользуется услугами банка\n",
    "- Balance — баланс на счетах клиента в банке\n",
    "- NumOfProducts — количество услуг банка, которые приобрёл клиент\n",
    "- HasCrCard — есть ли у клиента кредитная карта (1 — да, 0 — нет)\n",
    "- IsActiveMember — есть ли у клиента статус активного клиента банка (1 — да, 0 — нет)\n",
    "- EstimatedSalary — предполагаемая заработная плата клиента\n",
    "- Exited — статус лояльности (1 — ушедший клиент, 0 — лояльный клиент)\n"
   ]
  },
  {
   "cell_type": "code",
   "execution_count": 1,
   "id": "administrative-mongolia",
   "metadata": {},
   "outputs": [],
   "source": [
    "#Импорт нужных библиотек\n",
    "\n",
    "import pandas as pd\n",
    "import matplotlib.pyplot as plt\n",
    "%matplotlib inline\n",
    "import plotly\n",
    "import plotly.express as px"
   ]
  },
  {
   "cell_type": "code",
   "execution_count": 2,
   "id": "neither-canada",
   "metadata": {},
   "outputs": [
    {
     "ename": "FileNotFoundError",
     "evalue": "[Errno 2] No such file or directory: 'data/churn.csv'",
     "output_type": "error",
     "traceback": [
      "\u001b[1;31m---------------------------------------------------------------------------\u001b[0m",
      "\u001b[1;31mFileNotFoundError\u001b[0m                         Traceback (most recent call last)",
      "Input \u001b[1;32mIn [2]\u001b[0m, in \u001b[0;36m<cell line: 3>\u001b[1;34m()\u001b[0m\n\u001b[0;32m      1\u001b[0m \u001b[38;5;66;03m#Посмотрим на данные\u001b[39;00m\n\u001b[1;32m----> 3\u001b[0m churn_data \u001b[38;5;241m=\u001b[39m \u001b[43mpd\u001b[49m\u001b[38;5;241;43m.\u001b[39;49m\u001b[43mread_csv\u001b[49m\u001b[43m(\u001b[49m\u001b[38;5;124;43m'\u001b[39;49m\u001b[38;5;124;43mdata/churn.csv\u001b[39;49m\u001b[38;5;124;43m'\u001b[39;49m\u001b[43m)\u001b[49m\n\u001b[0;32m      4\u001b[0m churn_data \u001b[38;5;241m=\u001b[39m churn_data\u001b[38;5;241m.\u001b[39mdrop(\u001b[38;5;124m'\u001b[39m\u001b[38;5;124mRowNumber\u001b[39m\u001b[38;5;124m'\u001b[39m, axis\u001b[38;5;241m=\u001b[39m\u001b[38;5;241m1\u001b[39m)\n\u001b[0;32m      5\u001b[0m churn_data\u001b[38;5;241m.\u001b[39mhead()\n",
      "File \u001b[1;32m~\\anaconda3\\lib\\site-packages\\pandas\\util\\_decorators.py:311\u001b[0m, in \u001b[0;36mdeprecate_nonkeyword_arguments.<locals>.decorate.<locals>.wrapper\u001b[1;34m(*args, **kwargs)\u001b[0m\n\u001b[0;32m    305\u001b[0m \u001b[38;5;28;01mif\u001b[39;00m \u001b[38;5;28mlen\u001b[39m(args) \u001b[38;5;241m>\u001b[39m num_allow_args:\n\u001b[0;32m    306\u001b[0m     warnings\u001b[38;5;241m.\u001b[39mwarn(\n\u001b[0;32m    307\u001b[0m         msg\u001b[38;5;241m.\u001b[39mformat(arguments\u001b[38;5;241m=\u001b[39marguments),\n\u001b[0;32m    308\u001b[0m         \u001b[38;5;167;01mFutureWarning\u001b[39;00m,\n\u001b[0;32m    309\u001b[0m         stacklevel\u001b[38;5;241m=\u001b[39mstacklevel,\n\u001b[0;32m    310\u001b[0m     )\n\u001b[1;32m--> 311\u001b[0m \u001b[38;5;28;01mreturn\u001b[39;00m func(\u001b[38;5;241m*\u001b[39margs, \u001b[38;5;241m*\u001b[39m\u001b[38;5;241m*\u001b[39mkwargs)\n",
      "File \u001b[1;32m~\\anaconda3\\lib\\site-packages\\pandas\\io\\parsers\\readers.py:680\u001b[0m, in \u001b[0;36mread_csv\u001b[1;34m(filepath_or_buffer, sep, delimiter, header, names, index_col, usecols, squeeze, prefix, mangle_dupe_cols, dtype, engine, converters, true_values, false_values, skipinitialspace, skiprows, skipfooter, nrows, na_values, keep_default_na, na_filter, verbose, skip_blank_lines, parse_dates, infer_datetime_format, keep_date_col, date_parser, dayfirst, cache_dates, iterator, chunksize, compression, thousands, decimal, lineterminator, quotechar, quoting, doublequote, escapechar, comment, encoding, encoding_errors, dialect, error_bad_lines, warn_bad_lines, on_bad_lines, delim_whitespace, low_memory, memory_map, float_precision, storage_options)\u001b[0m\n\u001b[0;32m    665\u001b[0m kwds_defaults \u001b[38;5;241m=\u001b[39m _refine_defaults_read(\n\u001b[0;32m    666\u001b[0m     dialect,\n\u001b[0;32m    667\u001b[0m     delimiter,\n\u001b[1;32m   (...)\u001b[0m\n\u001b[0;32m    676\u001b[0m     defaults\u001b[38;5;241m=\u001b[39m{\u001b[38;5;124m\"\u001b[39m\u001b[38;5;124mdelimiter\u001b[39m\u001b[38;5;124m\"\u001b[39m: \u001b[38;5;124m\"\u001b[39m\u001b[38;5;124m,\u001b[39m\u001b[38;5;124m\"\u001b[39m},\n\u001b[0;32m    677\u001b[0m )\n\u001b[0;32m    678\u001b[0m kwds\u001b[38;5;241m.\u001b[39mupdate(kwds_defaults)\n\u001b[1;32m--> 680\u001b[0m \u001b[38;5;28;01mreturn\u001b[39;00m \u001b[43m_read\u001b[49m\u001b[43m(\u001b[49m\u001b[43mfilepath_or_buffer\u001b[49m\u001b[43m,\u001b[49m\u001b[43m \u001b[49m\u001b[43mkwds\u001b[49m\u001b[43m)\u001b[49m\n",
      "File \u001b[1;32m~\\anaconda3\\lib\\site-packages\\pandas\\io\\parsers\\readers.py:575\u001b[0m, in \u001b[0;36m_read\u001b[1;34m(filepath_or_buffer, kwds)\u001b[0m\n\u001b[0;32m    572\u001b[0m _validate_names(kwds\u001b[38;5;241m.\u001b[39mget(\u001b[38;5;124m\"\u001b[39m\u001b[38;5;124mnames\u001b[39m\u001b[38;5;124m\"\u001b[39m, \u001b[38;5;28;01mNone\u001b[39;00m))\n\u001b[0;32m    574\u001b[0m \u001b[38;5;66;03m# Create the parser.\u001b[39;00m\n\u001b[1;32m--> 575\u001b[0m parser \u001b[38;5;241m=\u001b[39m TextFileReader(filepath_or_buffer, \u001b[38;5;241m*\u001b[39m\u001b[38;5;241m*\u001b[39mkwds)\n\u001b[0;32m    577\u001b[0m \u001b[38;5;28;01mif\u001b[39;00m chunksize \u001b[38;5;129;01mor\u001b[39;00m iterator:\n\u001b[0;32m    578\u001b[0m     \u001b[38;5;28;01mreturn\u001b[39;00m parser\n",
      "File \u001b[1;32m~\\anaconda3\\lib\\site-packages\\pandas\\io\\parsers\\readers.py:933\u001b[0m, in \u001b[0;36mTextFileReader.__init__\u001b[1;34m(self, f, engine, **kwds)\u001b[0m\n\u001b[0;32m    930\u001b[0m     \u001b[38;5;28mself\u001b[39m\u001b[38;5;241m.\u001b[39moptions[\u001b[38;5;124m\"\u001b[39m\u001b[38;5;124mhas_index_names\u001b[39m\u001b[38;5;124m\"\u001b[39m] \u001b[38;5;241m=\u001b[39m kwds[\u001b[38;5;124m\"\u001b[39m\u001b[38;5;124mhas_index_names\u001b[39m\u001b[38;5;124m\"\u001b[39m]\n\u001b[0;32m    932\u001b[0m \u001b[38;5;28mself\u001b[39m\u001b[38;5;241m.\u001b[39mhandles: IOHandles \u001b[38;5;241m|\u001b[39m \u001b[38;5;28;01mNone\u001b[39;00m \u001b[38;5;241m=\u001b[39m \u001b[38;5;28;01mNone\u001b[39;00m\n\u001b[1;32m--> 933\u001b[0m \u001b[38;5;28mself\u001b[39m\u001b[38;5;241m.\u001b[39m_engine \u001b[38;5;241m=\u001b[39m \u001b[38;5;28;43mself\u001b[39;49m\u001b[38;5;241;43m.\u001b[39;49m\u001b[43m_make_engine\u001b[49m\u001b[43m(\u001b[49m\u001b[43mf\u001b[49m\u001b[43m,\u001b[49m\u001b[43m \u001b[49m\u001b[38;5;28;43mself\u001b[39;49m\u001b[38;5;241;43m.\u001b[39;49m\u001b[43mengine\u001b[49m\u001b[43m)\u001b[49m\n",
      "File \u001b[1;32m~\\anaconda3\\lib\\site-packages\\pandas\\io\\parsers\\readers.py:1217\u001b[0m, in \u001b[0;36mTextFileReader._make_engine\u001b[1;34m(self, f, engine)\u001b[0m\n\u001b[0;32m   1213\u001b[0m     mode \u001b[38;5;241m=\u001b[39m \u001b[38;5;124m\"\u001b[39m\u001b[38;5;124mrb\u001b[39m\u001b[38;5;124m\"\u001b[39m\n\u001b[0;32m   1214\u001b[0m \u001b[38;5;66;03m# error: No overload variant of \"get_handle\" matches argument types\u001b[39;00m\n\u001b[0;32m   1215\u001b[0m \u001b[38;5;66;03m# \"Union[str, PathLike[str], ReadCsvBuffer[bytes], ReadCsvBuffer[str]]\"\u001b[39;00m\n\u001b[0;32m   1216\u001b[0m \u001b[38;5;66;03m# , \"str\", \"bool\", \"Any\", \"Any\", \"Any\", \"Any\", \"Any\"\u001b[39;00m\n\u001b[1;32m-> 1217\u001b[0m \u001b[38;5;28mself\u001b[39m\u001b[38;5;241m.\u001b[39mhandles \u001b[38;5;241m=\u001b[39m \u001b[43mget_handle\u001b[49m\u001b[43m(\u001b[49m\u001b[43m  \u001b[49m\u001b[38;5;66;43;03m# type: ignore[call-overload]\u001b[39;49;00m\n\u001b[0;32m   1218\u001b[0m \u001b[43m    \u001b[49m\u001b[43mf\u001b[49m\u001b[43m,\u001b[49m\n\u001b[0;32m   1219\u001b[0m \u001b[43m    \u001b[49m\u001b[43mmode\u001b[49m\u001b[43m,\u001b[49m\n\u001b[0;32m   1220\u001b[0m \u001b[43m    \u001b[49m\u001b[43mencoding\u001b[49m\u001b[38;5;241;43m=\u001b[39;49m\u001b[38;5;28;43mself\u001b[39;49m\u001b[38;5;241;43m.\u001b[39;49m\u001b[43moptions\u001b[49m\u001b[38;5;241;43m.\u001b[39;49m\u001b[43mget\u001b[49m\u001b[43m(\u001b[49m\u001b[38;5;124;43m\"\u001b[39;49m\u001b[38;5;124;43mencoding\u001b[39;49m\u001b[38;5;124;43m\"\u001b[39;49m\u001b[43m,\u001b[49m\u001b[43m \u001b[49m\u001b[38;5;28;43;01mNone\u001b[39;49;00m\u001b[43m)\u001b[49m\u001b[43m,\u001b[49m\n\u001b[0;32m   1221\u001b[0m \u001b[43m    \u001b[49m\u001b[43mcompression\u001b[49m\u001b[38;5;241;43m=\u001b[39;49m\u001b[38;5;28;43mself\u001b[39;49m\u001b[38;5;241;43m.\u001b[39;49m\u001b[43moptions\u001b[49m\u001b[38;5;241;43m.\u001b[39;49m\u001b[43mget\u001b[49m\u001b[43m(\u001b[49m\u001b[38;5;124;43m\"\u001b[39;49m\u001b[38;5;124;43mcompression\u001b[39;49m\u001b[38;5;124;43m\"\u001b[39;49m\u001b[43m,\u001b[49m\u001b[43m \u001b[49m\u001b[38;5;28;43;01mNone\u001b[39;49;00m\u001b[43m)\u001b[49m\u001b[43m,\u001b[49m\n\u001b[0;32m   1222\u001b[0m \u001b[43m    \u001b[49m\u001b[43mmemory_map\u001b[49m\u001b[38;5;241;43m=\u001b[39;49m\u001b[38;5;28;43mself\u001b[39;49m\u001b[38;5;241;43m.\u001b[39;49m\u001b[43moptions\u001b[49m\u001b[38;5;241;43m.\u001b[39;49m\u001b[43mget\u001b[49m\u001b[43m(\u001b[49m\u001b[38;5;124;43m\"\u001b[39;49m\u001b[38;5;124;43mmemory_map\u001b[39;49m\u001b[38;5;124;43m\"\u001b[39;49m\u001b[43m,\u001b[49m\u001b[43m \u001b[49m\u001b[38;5;28;43;01mFalse\u001b[39;49;00m\u001b[43m)\u001b[49m\u001b[43m,\u001b[49m\n\u001b[0;32m   1223\u001b[0m \u001b[43m    \u001b[49m\u001b[43mis_text\u001b[49m\u001b[38;5;241;43m=\u001b[39;49m\u001b[43mis_text\u001b[49m\u001b[43m,\u001b[49m\n\u001b[0;32m   1224\u001b[0m \u001b[43m    \u001b[49m\u001b[43merrors\u001b[49m\u001b[38;5;241;43m=\u001b[39;49m\u001b[38;5;28;43mself\u001b[39;49m\u001b[38;5;241;43m.\u001b[39;49m\u001b[43moptions\u001b[49m\u001b[38;5;241;43m.\u001b[39;49m\u001b[43mget\u001b[49m\u001b[43m(\u001b[49m\u001b[38;5;124;43m\"\u001b[39;49m\u001b[38;5;124;43mencoding_errors\u001b[39;49m\u001b[38;5;124;43m\"\u001b[39;49m\u001b[43m,\u001b[49m\u001b[43m \u001b[49m\u001b[38;5;124;43m\"\u001b[39;49m\u001b[38;5;124;43mstrict\u001b[39;49m\u001b[38;5;124;43m\"\u001b[39;49m\u001b[43m)\u001b[49m\u001b[43m,\u001b[49m\n\u001b[0;32m   1225\u001b[0m \u001b[43m    \u001b[49m\u001b[43mstorage_options\u001b[49m\u001b[38;5;241;43m=\u001b[39;49m\u001b[38;5;28;43mself\u001b[39;49m\u001b[38;5;241;43m.\u001b[39;49m\u001b[43moptions\u001b[49m\u001b[38;5;241;43m.\u001b[39;49m\u001b[43mget\u001b[49m\u001b[43m(\u001b[49m\u001b[38;5;124;43m\"\u001b[39;49m\u001b[38;5;124;43mstorage_options\u001b[39;49m\u001b[38;5;124;43m\"\u001b[39;49m\u001b[43m,\u001b[49m\u001b[43m \u001b[49m\u001b[38;5;28;43;01mNone\u001b[39;49;00m\u001b[43m)\u001b[49m\u001b[43m,\u001b[49m\n\u001b[0;32m   1226\u001b[0m \u001b[43m\u001b[49m\u001b[43m)\u001b[49m\n\u001b[0;32m   1227\u001b[0m \u001b[38;5;28;01massert\u001b[39;00m \u001b[38;5;28mself\u001b[39m\u001b[38;5;241m.\u001b[39mhandles \u001b[38;5;129;01mis\u001b[39;00m \u001b[38;5;129;01mnot\u001b[39;00m \u001b[38;5;28;01mNone\u001b[39;00m\n\u001b[0;32m   1228\u001b[0m f \u001b[38;5;241m=\u001b[39m \u001b[38;5;28mself\u001b[39m\u001b[38;5;241m.\u001b[39mhandles\u001b[38;5;241m.\u001b[39mhandle\n",
      "File \u001b[1;32m~\\anaconda3\\lib\\site-packages\\pandas\\io\\common.py:789\u001b[0m, in \u001b[0;36mget_handle\u001b[1;34m(path_or_buf, mode, encoding, compression, memory_map, is_text, errors, storage_options)\u001b[0m\n\u001b[0;32m    784\u001b[0m \u001b[38;5;28;01melif\u001b[39;00m \u001b[38;5;28misinstance\u001b[39m(handle, \u001b[38;5;28mstr\u001b[39m):\n\u001b[0;32m    785\u001b[0m     \u001b[38;5;66;03m# Check whether the filename is to be opened in binary mode.\u001b[39;00m\n\u001b[0;32m    786\u001b[0m     \u001b[38;5;66;03m# Binary mode does not support 'encoding' and 'newline'.\u001b[39;00m\n\u001b[0;32m    787\u001b[0m     \u001b[38;5;28;01mif\u001b[39;00m ioargs\u001b[38;5;241m.\u001b[39mencoding \u001b[38;5;129;01mand\u001b[39;00m \u001b[38;5;124m\"\u001b[39m\u001b[38;5;124mb\u001b[39m\u001b[38;5;124m\"\u001b[39m \u001b[38;5;129;01mnot\u001b[39;00m \u001b[38;5;129;01min\u001b[39;00m ioargs\u001b[38;5;241m.\u001b[39mmode:\n\u001b[0;32m    788\u001b[0m         \u001b[38;5;66;03m# Encoding\u001b[39;00m\n\u001b[1;32m--> 789\u001b[0m         handle \u001b[38;5;241m=\u001b[39m \u001b[38;5;28;43mopen\u001b[39;49m\u001b[43m(\u001b[49m\n\u001b[0;32m    790\u001b[0m \u001b[43m            \u001b[49m\u001b[43mhandle\u001b[49m\u001b[43m,\u001b[49m\n\u001b[0;32m    791\u001b[0m \u001b[43m            \u001b[49m\u001b[43mioargs\u001b[49m\u001b[38;5;241;43m.\u001b[39;49m\u001b[43mmode\u001b[49m\u001b[43m,\u001b[49m\n\u001b[0;32m    792\u001b[0m \u001b[43m            \u001b[49m\u001b[43mencoding\u001b[49m\u001b[38;5;241;43m=\u001b[39;49m\u001b[43mioargs\u001b[49m\u001b[38;5;241;43m.\u001b[39;49m\u001b[43mencoding\u001b[49m\u001b[43m,\u001b[49m\n\u001b[0;32m    793\u001b[0m \u001b[43m            \u001b[49m\u001b[43merrors\u001b[49m\u001b[38;5;241;43m=\u001b[39;49m\u001b[43merrors\u001b[49m\u001b[43m,\u001b[49m\n\u001b[0;32m    794\u001b[0m \u001b[43m            \u001b[49m\u001b[43mnewline\u001b[49m\u001b[38;5;241;43m=\u001b[39;49m\u001b[38;5;124;43m\"\u001b[39;49m\u001b[38;5;124;43m\"\u001b[39;49m\u001b[43m,\u001b[49m\n\u001b[0;32m    795\u001b[0m \u001b[43m        \u001b[49m\u001b[43m)\u001b[49m\n\u001b[0;32m    796\u001b[0m     \u001b[38;5;28;01melse\u001b[39;00m:\n\u001b[0;32m    797\u001b[0m         \u001b[38;5;66;03m# Binary mode\u001b[39;00m\n\u001b[0;32m    798\u001b[0m         handle \u001b[38;5;241m=\u001b[39m \u001b[38;5;28mopen\u001b[39m(handle, ioargs\u001b[38;5;241m.\u001b[39mmode)\n",
      "\u001b[1;31mFileNotFoundError\u001b[0m: [Errno 2] No such file or directory: 'data/churn.csv'"
     ]
    }
   ],
   "source": [
    "#Посмотрим на данные\n",
    "\n",
    "churn_data = pd.read_csv('data/churn.csv')\n",
    "churn_data = churn_data.drop('RowNumber', axis=1)\n",
    "churn_data.head()"
   ]
  },
  {
   "cell_type": "markdown",
   "id": "nasty-magazine",
   "metadata": {},
   "source": [
    "## 1. Каково соотношение ушедших и лояльных клиентов? \n",
    "Покажем это на графике и дадим комментарии по соотношению."
   ]
  },
  {
   "cell_type": "code",
   "execution_count": null,
   "id": "liable-venture",
   "metadata": {},
   "outputs": [],
   "source": [
    "exited = churn_data['Exited'].value_counts() \n",
    "display(exited) # 0 - лояльные клиенты, 1 - ушедшие клиенты.\n",
    "\n",
    "fig = plt.figure(figsize=(5,5))\n",
    "axes = fig.add_axes([0,0,1,1])\n",
    "axes.set_title('Соотношение лояльных и ушедших клиентов')\n",
    "_, _, _ = axes.pie(\n",
    "    exited,\n",
    "    #labels=exited.index,\n",
    "    autopct='%.1f%%',\n",
    "    explode = [0, 0.1],\n",
    "    labels=['Лояльные клиенты','Ушедшие клиенты']\n",
    ")"
   ]
  },
  {
   "cell_type": "markdown",
   "id": "polish-inclusion",
   "metadata": {},
   "source": [
    "Лояльных клиентов в четыре раза больше, чем ушедших."
   ]
  },
  {
   "cell_type": "markdown",
   "id": "reduced-overview",
   "metadata": {},
   "source": [
    "## 2. Построим график, показывающий распределение баланса пользователей, у которых на счету больше 2 500 долларов. \n",
    "Опишем распределение и сделаем выводы."
   ]
  },
  {
   "cell_type": "code",
   "execution_count": null,
   "id": "balanced-imaging",
   "metadata": {},
   "outputs": [],
   "source": [
    "balance = churn_data['Balance'][churn_data['Balance'] > 2500] #Оставляем клиентов с балансом более 2500.\n",
    "\n",
    "fig = plt.figure(figsize=(10,6))\n",
    "axes = fig.add_axes([0,0,1,1])\n",
    "axes.set_title('Распределение клиентов по размеру баланса на счёте')\n",
    "axes.set_ylabel('Количество клиентов')\n",
    "axes.set_xlabel('Баланс на счёте')\n",
    "plt.hist(balance, bins=20)\n",
    "plt.show()"
   ]
  },
  {
   "cell_type": "markdown",
   "id": "liberal-chosen",
   "metadata": {},
   "source": [
    "Распределение очень близко к нормальному. Большинство клиентов держит на счетах от 90 до 150 тыс. долларов.\n",
    "\n",
    "Наиболее многочисленна группа клиентов с балансом от 110 до 130 тыс.\n",
    "\n",
    "Максимальный баланс на счёте - чуть более 250 тыс. "
   ]
  },
  {
   "cell_type": "markdown",
   "id": "binding-litigation",
   "metadata": {},
   "source": [
    "## 3. Изучим распределение баланса клиента в разрезе признака оттока\n",
    "\n",
    "Как различаются суммы на накопительном счёте ушедших и лояльных клиентов? Выдвигаем свои предположения, с чем это может быть связано, что может не устраивать ушедших клиентов в банке."
   ]
  },
  {
   "cell_type": "code",
   "execution_count": null,
   "id": "married-identity",
   "metadata": {},
   "outputs": [],
   "source": [
    "# Сравним диаграммы boxplot\n",
    "\n",
    "filtered_on_balance = churn_data[churn_data['Balance'] > 2500]\n",
    "loyal = filtered_on_balance['Balance'][churn_data['Exited'] == 0]\n",
    "departed = filtered_on_balance['Balance'][churn_data['Exited'] == 1]\n",
    "\n",
    "fig = plt.figure(figsize=(7,8))\n",
    "axes = fig.add_axes([0,0,1,1])\n",
    "axes.set_title('Распределение баланса на счетах клиентов в зависимости от лояльности')\n",
    "axes.set_ylabel('Баланс на счёте')\n",
    "axes.set_xlabel('Лояльность')\n",
    "plt.boxplot([loyal,departed], labels=['Лояльные клиенты','Ушедшие клиенты'])\n",
    "\n",
    "plt.show()"
   ]
  },
  {
   "cell_type": "markdown",
   "id": "composite-growing",
   "metadata": {},
   "source": [
    "На диаграммах выше заметно, что в группе ушедших клиентов значительно выше количество выбросов, а диапазон характерных сумм на счетах заметно более узкий, чем в группе лояльных клиентов. Т.е. группа ушедших клиентов менее однородна. \n",
    "\n",
    "Клиенов с небольшими суммами на счетах (менее 50000) и клиентов со значительными суммами (более 190000) могли не устраивать процентные ставки (зависящие от размера счёта).\n",
    "\n",
    "В группе лояльных клиентов существенно ниже минимальный и заметно больше максимальный размер счёта.\n",
    "\n",
    "Вполне возможно, клиенты ушли из-за различных нюансов обслуживания."
   ]
  },
  {
   "cell_type": "markdown",
   "id": "coordinated-recording",
   "metadata": {},
   "source": [
    "## 4. Изучим распределение возраста в разрезе признака оттока\n",
    "В какой группе больше потенциальных выбросов? На какую возрастную категорию клиентов стоит обратить внимание банку?"
   ]
  },
  {
   "cell_type": "code",
   "execution_count": null,
   "id": "right-replication",
   "metadata": {},
   "outputs": [],
   "source": [
    "loyal = churn_data['Age'][churn_data['Exited'] == 0] # ушедшие клиенты\n",
    "departed = churn_data['Age'][churn_data['Exited'] == 1] # лояльные клиенты\n",
    "\n",
    "fig, axes = plt.subplots(nrows=1, ncols=2, figsize=(14,5))\n",
    "\n",
    "axes[0].hist(x=loyal, label=[\"Лояльные клиенты\"], bins=20)\n",
    "axes[0].set_title(\"Распределение по возрасту в группе лояльных клиентов\")\n",
    "axes[0].xaxis.set_tick_params(rotation=30)\n",
    "axes[0].set_ylabel('Количество клиентов')\n",
    "axes[0].set_xlabel('Возраст')\n",
    "\n",
    "axes[1].hist(x=departed, label=[\"Ушедшие клиенты\"], bins=20)\n",
    "axes[1].set_title(\"Распределение по возрасту в группе ушедших клиентов\")\n",
    "axes[1].xaxis.set_tick_params(rotation=30)\n",
    "axes[1].set_ylabel('Количество клиентов')\n",
    "axes[1].set_xlabel('Возраст')\n",
    "\n",
    "plt.show()\n",
    "\n",
    "filtered_on_balance = churn_data\n",
    "fig = px.box(filtered_on_balance, y=\"Age\", x=\"Exited\")\n",
    "fig.show()"
   ]
  },
  {
   "cell_type": "markdown",
   "id": "rotary-celtic",
   "metadata": {},
   "source": [
    "Очевидно, что, в целом, лояльные клиенты заметно моложе, чем ушедшие. Однако, в этой группе клиентов есть много выбросов. В эту группу входят самые пожилые и самые молодые клиенты банка.\n",
    "\n",
    "Наиболее многочисленной группой среди лояльных клиентов являются люди от 31 до 41 года. Вероятно, банку стоит ориентироваться именно на этот возрастной диапазон в рекламе своих услуг. Или же расширять этот диапазон, включая в рекламу услуги для людей более молодого и более зрелого возрастов.\n",
    "\n",
    "С другой стороны, в группе ушедших клиентов наиболее многочисленны люди в возрасте от 38 до 51 года. Банку имеет смысл предлагать группе клиентов такого возраста какие-либо дополнительные бонусы и услуги."
   ]
  },
  {
   "cell_type": "markdown",
   "id": "insured-rover",
   "metadata": {},
   "source": [
    "## 5. Построить график, который показывает взаимосвязь кредитного рейтинга клиента и его предполагаемой зарплаты\n",
    "Добавим расцветку по признаку оттока клиентов. Какова взаимосвязь между признаками? Есть ли она вообще?"
   ]
  },
  {
   "cell_type": "code",
   "execution_count": null,
   "id": "reported-midnight",
   "metadata": {},
   "outputs": [],
   "source": [
    "loyal = churn_data[churn_data['Exited'] == 0] # лояльные клиенты\n",
    "departed = churn_data[churn_data['Exited'] == 1] # ушедшие клиенты\n",
    "\n",
    "fig = plt.figure(figsize=(14,10))\n",
    "axes = fig.add_axes([0,0,1,1])\n",
    "axes.scatter(\n",
    "    x=loyal['EstimatedSalary'],\n",
    "    y=loyal['CreditScore'],\n",
    "    s=100,\n",
    "    marker='o',\n",
    "    c='green',\n",
    "    label='Лояльные клиенты'\n",
    ")\n",
    "axes.scatter(\n",
    "    x=departed['EstimatedSalary'],\n",
    "    y=departed['CreditScore'],\n",
    "    s=100,\n",
    "    marker='o',\n",
    "    c='red',\n",
    "    label='Ушедшие клиенты'\n",
    ")\n",
    "axes.set_title('Взаимосвязь кредитного рейтинга и предполагаемой зарплаты у клиентов банка', fontsize=22)\n",
    "axes.set_xlabel('Предполагаемая зарплата', fontsize=15)\n",
    "axes.set_ylabel('Кредитный рейтинг', fontsize=15)\n",
    "axes.set_ylim([330,900])\n",
    "plt.legend(loc=2)\n",
    "plt.show()"
   ]
  },
  {
   "cell_type": "markdown",
   "id": "divided-rescue",
   "metadata": {},
   "source": [
    "Явной взаимосвязи между кредитным рейтингом и предполагаемой зарплатой не наблюдается ни в первой, ни во второй группах клиентов."
   ]
  },
  {
   "cell_type": "markdown",
   "id": "statewide-relevance",
   "metadata": {},
   "source": [
    "## 6. Кто чаще уходит, мужчины или женщины? \n",
    "Построим график, который иллюстрирует это.\n",
    "\n",
    "Процент ушедших клиентов в каждой группе рассчитаем как среднее по столбцу Exited (так как 1 — это ушедшие клиенты, а 0 — лояльные, среднее арифметическое по столбцу обозначает долю ушедших клиентов)."
   ]
  },
  {
   "cell_type": "code",
   "execution_count": null,
   "id": "silver-delaware",
   "metadata": {},
   "outputs": [],
   "source": [
    "departed = churn_data['Gender'][churn_data['Exited'] == 1] # ушедшие клиенты\n",
    "\n",
    "fig = plt.figure(figsize=(5,5))\n",
    "axes = fig.add_axes([0,0,1,1])\n",
    "axes.set_title('Соотношение мужчин и женщин среди ушедших клиентов')\n",
    "_, _, _ = axes.pie(\n",
    "    departed.value_counts(), \n",
    "    autopct='%.1f%%',\n",
    "    explode = [0, 0.1],\n",
    "    labels=['Мужчины','Женщины']\n",
    ")"
   ]
  },
  {
   "cell_type": "markdown",
   "id": "architectural-sessions",
   "metadata": {},
   "source": [
    "Среди ушедших клиентов доля мужчин выше."
   ]
  },
  {
   "cell_type": "markdown",
   "id": "western-elements",
   "metadata": {},
   "source": [
    "## 7. Как отток клиентов зависит от числа приобретённых у банка услуг? \n",
    "\n",
    "Для ответа на этот вопрос посроим многоуровневую столбчатую диаграмму.\n",
    "\n"
   ]
  },
  {
   "cell_type": "code",
   "execution_count": null,
   "id": "inappropriate-gravity",
   "metadata": {},
   "outputs": [],
   "source": [
    "grouped = churn_data.groupby(by='NumOfProducts')['Exited'].sum()\n",
    "\n",
    "fig = plt.figure(figsize=(12, 5))\n",
    "axes = fig.add_axes([0, 0, 1, 1])\n",
    "axes.bar(x = grouped.index, height = grouped);\n",
    "axes.set_ylabel('Число ушедших клиентов', fontsize=16)\n",
    "axes.set_xlabel('Число приобретённых у банка услуг', fontsize=16)\n",
    "axes.set_xticks(range(0,5,1))\n",
    "axes.set_title('Зависимость оттока клиентов от числа приобретённых услуг', fontsize=20)\n",
    "plt.show()"
   ]
  },
  {
   "cell_type": "markdown",
   "id": "professional-sapphire",
   "metadata": {},
   "source": [
    "Чем больше число приобретённых услуг, тем меньше количество ушедших клиентов. Банку следует забоиться о том, чтобы клиенты приобретали как можно больше услуг."
   ]
  },
  {
   "cell_type": "markdown",
   "id": "sixth-romantic",
   "metadata": {},
   "source": [
    "## 8. Как влияет наличие статуса активного клиента на отток клиентов? \n",
    "\n",
    "Построим диаграмму, иллюстрирующую это. Что можно было бы предложить банку, чтобы уменьшить отток клиентов среди неактивных?\n",
    "\n"
   ]
  },
  {
   "cell_type": "code",
   "execution_count": null,
   "id": "rural-session",
   "metadata": {},
   "outputs": [],
   "source": [
    "active = churn_data['Exited'][churn_data['IsActiveMember'] == 1] # активные клиенты\n",
    "inactive = churn_data['Exited'][churn_data['IsActiveMember'] == 0] # неактивные клиенты\n",
    "\n",
    "fig, axes = plt.subplots(nrows=1, ncols=2, figsize=(14,5))\n",
    "\n",
    "_, _, _ = axes[0].pie(\n",
    "    active.value_counts(), \n",
    "    autopct='%.1f%%',\n",
    "    explode = [0, 0.1],\n",
    "    labels=['Лояльные клиенты','Ушедшие клиенты']\n",
    ")\n",
    "axes[0].set_title(\"Доли лояльных и ушедших среди активных клиентов\")\n",
    "\n",
    "_, _, _ = axes[1].pie(\n",
    "    inactive.value_counts(), \n",
    "    autopct='%.1f%%',\n",
    "    explode = [0, 0.1],\n",
    "    labels=['Лояльные клиенты','Ушедшие клиенты']\n",
    ")\n",
    "axes[1].set_title(\"Доли лояльных и ушедших среди неактивных клиентов\")\n",
    "\n",
    "plt.show()"
   ]
  },
  {
   "cell_type": "markdown",
   "id": "protective-lloyd",
   "metadata": {},
   "source": [
    "Среди неактивных клиентов доля ушедших ожидаемо выше (почти в два раза).\n",
    "\n",
    "Рекомендация банку: больше работать с неактивными клиентами, стимулировать их пользоваться счётом."
   ]
  },
  {
   "cell_type": "markdown",
   "id": "rolled-sociology",
   "metadata": {},
   "source": [
    "## 9. В какой стране доля ушедших клиентов больше? \n",
    "\n",
    "Построим тепловую картограмму, которая покажет это соотношение на карте мира.\n",
    "\n"
   ]
  },
  {
   "cell_type": "code",
   "execution_count": null,
   "id": "present-williams",
   "metadata": {},
   "outputs": [],
   "source": [
    "grouped = churn_data.groupby(by='Geography')['Exited'].agg(['count','sum'])\n",
    "grouped['Ratio'] = grouped['sum']/grouped['count']*100 # доля ушедших клиентов (число ушедших делим на общее число клиентов и умножаем на 100)\n",
    "display(grouped)\n",
    "\n",
    "fig = px.choropleth(\n",
    "    data_frame=grouped, #датафрейм\n",
    "    locations=grouped.index, #столбец с локациями\n",
    "    locationmode = \"country names\", #режим сопоставления локаций с базой plotly\n",
    "    color=\"Ratio\", #от чего зависит цвет\n",
    "    range_color=[16, 33], # интервал задан в соответствии с данными в колонке 'Ratio'\n",
    "    title='Доля ушедших клиентов банка по странам', #заголовок\n",
    "    width=900, #ширина \n",
    "    height=600, #высота\n",
    "    color_continuous_scale='Reds' #палитра цветов\n",
    ")\n",
    "\n",
    "fig.show()"
   ]
  },
  {
   "cell_type": "markdown",
   "id": "executed-syracuse",
   "metadata": {},
   "source": [
    "Доля ушедших клиентов больше всего в Германии.\n",
    "\n",
    "Разный отток клиентов в разных странах может быть связан с:\n",
    "- разным уровнем конкуренции в банковской сфере\n",
    "- законами в данной конкретной стране\n",
    "- разным уровнем жизни клиентов\n",
    "- разным уровнем доходов и расходов\n",
    "- отличиями в банковском обслуживании в разных странах\n",
    "- количеством доступных банкоматов и офисов банка\n",
    "- и т.д."
   ]
  },
  {
   "cell_type": "markdown",
   "id": "concerned-hayes",
   "metadata": {},
   "source": [
    "## 10. Переведём числовой признак CreditScore в категориальный\n",
    "\n",
    "Для этого воспользуемся функцией get_credit_score_cat(), которая приведена ниже. Применим её к столбцу CreditScore и создадим новый признак CreditScoreCat — категории кредитного рейтинга.\n",
    "\n",
    "Построим сводную таблицу, строками которой будут являться категории кредитного рейтинга (CreditScoreCat), а столбцами — количество лет, в течение которых клиент пользуется услугами банка (Tenure). В ячейках сводной таблицы должно находиться среднее по признаку оттока (Exited) — доля ушедших пользователей.\n",
    "\n",
    "На основе полученной сводной таблицы построим тепловую карту с аннотацией. Поищем на тепловой карте категории клиентов, которые уходят чаще всего."
   ]
  },
  {
   "cell_type": "code",
   "execution_count": null,
   "id": "severe-split",
   "metadata": {},
   "outputs": [],
   "source": [
    "#Функция для создания нового признака CreditScoreCat\n",
    "def get_credit_score_cat(credit_score):\n",
    "    if credit_score >= 300 and credit_score < 500:\n",
    "        return \"Very_Poor\"\n",
    "    elif credit_score >= 500 and credit_score < 601:\n",
    "        return \"Poor\"\n",
    "    elif credit_score >= 601 and credit_score < 661:\n",
    "        return \"Fair\"\n",
    "    elif credit_score >= 661 and credit_score < 781:\n",
    "        return \"Good\"\n",
    "    elif credit_score >= 781 and credit_score < 851:\n",
    "        return \"Excellent\"\n",
    "    elif credit_score >= 851:\n",
    "        return \"Top\"\n",
    "    elif credit_score < 300:\n",
    "        return \"Deep\""
   ]
  },
  {
   "cell_type": "code",
   "execution_count": null,
   "id": "every-hammer",
   "metadata": {},
   "outputs": [],
   "source": [
    "churn_data['CreditScoreCat'] = churn_data['CreditScore'].apply(get_credit_score_cat)\n",
    "\n",
    "pivot = churn_data.pivot_table(\n",
    "    values='Exited', # по умолчанию будет выводиться среднее значение (mean)\n",
    "    index = 'CreditScoreCat',\n",
    "    columns= 'Tenure'\n",
    ")\n",
    "\n",
    "fig = plt.figure(figsize=(14,8))\n",
    "axes = fig.add_axes([0,0,1,1])\n",
    "axes.set_title('Зависимость оттока клиентов от кредитного рейтинга и времени пользования услугами банка', fontsize=16)\n",
    "axes.set_ylabel('Кредитный рейтинг', fontsize=14)\n",
    "axes.set_xlabel('Время пользования услугами банка (лет)', fontsize=14)\n",
    "axes.set_xticks(pivot.columns)\n",
    "axes.set_yticks(range(5))\n",
    "axes.set_yticklabels(labels=pivot.index)\n",
    "plt.imshow(pivot, cmap='hot', interpolation='nearest')\n",
    "plt.colorbar()\n",
    "plt.show()"
   ]
  },
  {
   "cell_type": "markdown",
   "id": "equal-sheriff",
   "metadata": {},
   "source": [
    "Чаще всего уходят клиенты с низким кредитным рейтингом, пользующиеся услугами банка 0 или 10 лет."
   ]
  },
  {
   "cell_type": "code",
   "execution_count": null,
   "id": "c7392570",
   "metadata": {},
   "outputs": [],
   "source": []
  }
 ],
 "metadata": {
  "kernelspec": {
   "display_name": "Python 3 (ipykernel)",
   "language": "python",
   "name": "python3"
  },
  "language_info": {
   "codemirror_mode": {
    "name": "ipython",
    "version": 3
   },
   "file_extension": ".py",
   "mimetype": "text/x-python",
   "name": "python",
   "nbconvert_exporter": "python",
   "pygments_lexer": "ipython3",
   "version": "3.9.12"
  }
 },
 "nbformat": 4,
 "nbformat_minor": 5
}
